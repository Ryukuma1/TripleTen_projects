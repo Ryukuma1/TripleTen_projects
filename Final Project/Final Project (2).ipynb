{
 "cells": [
  {
   "cell_type": "markdown",
   "id": "3006ab26-4b35-462f-bdea-1c8f5656c3b0",
   "metadata": {},
   "source": [
    "# <span style=\"font-family: Arial; font-size: 35px;\">Introduction</span>\n",
    "\n",
    "In this exploratory data analysis (EDA), my focus lies in extracting actionable insights from the comprehensive dataset encompassing the atliq database. This dataset encapsulate who is currently purchasing our computer products.\n",
    "\n",
    "The following are the Columns I will be using related to this database.\n",
    "\n",
    "Atliq Database:\n",
    "\n",
    "    Product Code: Code to find a specific product\n",
    "    Product: Name of actual product\n",
    "    sold_quantity: Amount of item sold\n",
    "    category: Type of product\n",
    "    Variant: Subset of specific product\n",
    "    fiscal_year: How much was made during a specific year.\n",
    "\n",
    "Objective: Our primary goal in this analysis is to identify our users behaviors from items being sold, and how we should proceed onwards with future sales. My goal is to have a look at the various products and from there decide what we can do to improve overwall sales.\n"
   ]
  },
  {
   "cell_type": "markdown",
   "id": "b03ddab0-dca9-483d-9123-3dd1332a075f",
   "metadata": {},
   "source": [
    "<span style=\"font-family: Arial; font-size: 24px;\">Data Review</span>"
   ]
  },
  {
   "cell_type": "code",
   "execution_count": 166,
   "id": "834aa72a-f04b-4a2b-a8c9-8d1b404b17f0",
   "metadata": {},
   "outputs": [],
   "source": [
    "import pandas as pd\n",
    "import sqlite3\n",
    "import os\n",
    "import csv\n",
    "import matplotlib.pyplot as plt\n",
    "import numpy as np\n",
    "import plotly.express as px\n",
    "import plotly.graph_objects as go\n",
    "import seaborn as sns\n",
    "from statsmodels.tsa.arima.model import ARIMA\n",
    "from sklearn.model_selection import train_test_split\n",
    "from sklearn.linear_model import LogisticRegression\n",
    "from sklearn.metrics import accuracy_score\n",
    "from sklearn.tree import DecisionTreeClassifier\n",
    "from sklearn import tree\n",
    "from sklearn.ensemble import RandomForestClassifier\n",
    "from sklearn.metrics import confusion_matrix\n",
    "from sklearn.preprocessing import OneHotEncoder\n",
    "from sklearn.compose import ColumnTransformer\n",
    "from sklearn.pipeline import Pipeline\n",
    "from sklearn.preprocessing import LabelEncoder\n",
    "from sklearn.metrics import precision_score, recall_score, confusion_matrix, classification_report"
   ]
  },
  {
   "cell_type": "code",
   "execution_count": 115,
   "id": "7ae5b21d-cd0b-495d-b5bd-1870a0fa343a",
   "metadata": {
    "tags": []
   },
   "outputs": [],
   "source": [
    "con = sqlite3.connect('atliq_db.sqlite3')"
   ]
  },
  {
   "cell_type": "code",
   "execution_count": 116,
   "id": "949a7c92-4941-4b46-a2a0-3694b8d1c171",
   "metadata": {
    "tags": []
   },
   "outputs": [
    {
     "name": "stdout",
     "output_type": "stream",
     "text": [
      "[('dim_customer',), ('dim_product',), ('fact_pre_discount',), ('fact_manufacturing_cost',), ('fact_gross_price',), ('fact_sales_monthly',)]\n"
     ]
    }
   ],
   "source": [
    "cursor = con.cursor()\n",
    "cursor.execute(\"SELECT name FROM sqlite_master WHERE type='table';\")\n",
    "print(cursor.fetchall())"
   ]
  },
  {
   "cell_type": "code",
   "execution_count": 117,
   "id": "70e99bf8-5e00-46d5-b3ae-0d101616c5b4",
   "metadata": {
    "tags": []
   },
   "outputs": [
    {
     "data": {
      "text/html": [
       "<div>\n",
       "<style scoped>\n",
       "    .dataframe tbody tr th:only-of-type {\n",
       "        vertical-align: middle;\n",
       "    }\n",
       "\n",
       "    .dataframe tbody tr th {\n",
       "        vertical-align: top;\n",
       "    }\n",
       "\n",
       "    .dataframe thead th {\n",
       "        text-align: right;\n",
       "    }\n",
       "</style>\n",
       "<table border=\"1\" class=\"dataframe\">\n",
       "  <thead>\n",
       "    <tr style=\"text-align: right;\">\n",
       "      <th></th>\n",
       "      <th>customer_code</th>\n",
       "      <th>customer</th>\n",
       "      <th>platform</th>\n",
       "      <th>channel</th>\n",
       "      <th>market</th>\n",
       "      <th>sub_zone</th>\n",
       "      <th>region</th>\n",
       "    </tr>\n",
       "  </thead>\n",
       "  <tbody>\n",
       "    <tr>\n",
       "      <th>0</th>\n",
       "      <td>70002017</td>\n",
       "      <td>Atliq Exclusive</td>\n",
       "      <td>Brick &amp; Mortar</td>\n",
       "      <td>Direct</td>\n",
       "      <td>India</td>\n",
       "      <td>India</td>\n",
       "      <td>APAC</td>\n",
       "    </tr>\n",
       "    <tr>\n",
       "      <th>1</th>\n",
       "      <td>70002018</td>\n",
       "      <td>Atliq e Store</td>\n",
       "      <td>E-Commerce</td>\n",
       "      <td>Direct</td>\n",
       "      <td>India</td>\n",
       "      <td>India</td>\n",
       "      <td>APAC</td>\n",
       "    </tr>\n",
       "    <tr>\n",
       "      <th>2</th>\n",
       "      <td>70003181</td>\n",
       "      <td>Atliq Exclusive</td>\n",
       "      <td>Brick &amp; Mortar</td>\n",
       "      <td>Direct</td>\n",
       "      <td>Indonesia</td>\n",
       "      <td>ROA</td>\n",
       "      <td>APAC</td>\n",
       "    </tr>\n",
       "    <tr>\n",
       "      <th>3</th>\n",
       "      <td>70003182</td>\n",
       "      <td>Atliq e Store</td>\n",
       "      <td>E-Commerce</td>\n",
       "      <td>Direct</td>\n",
       "      <td>Indonesia</td>\n",
       "      <td>ROA</td>\n",
       "      <td>APAC</td>\n",
       "    </tr>\n",
       "    <tr>\n",
       "      <th>4</th>\n",
       "      <td>70004069</td>\n",
       "      <td>Atliq Exclusive</td>\n",
       "      <td>Brick &amp; Mortar</td>\n",
       "      <td>Direct</td>\n",
       "      <td>Japan</td>\n",
       "      <td>ROA</td>\n",
       "      <td>APAC</td>\n",
       "    </tr>\n",
       "  </tbody>\n",
       "</table>\n",
       "</div>"
      ],
      "text/plain": [
       "   customer_code         customer        platform channel     market sub_zone  \\\n",
       "0       70002017  Atliq Exclusive  Brick & Mortar  Direct      India    India   \n",
       "1       70002018    Atliq e Store      E-Commerce  Direct      India    India   \n",
       "2       70003181  Atliq Exclusive  Brick & Mortar  Direct  Indonesia      ROA   \n",
       "3       70003182    Atliq e Store      E-Commerce  Direct  Indonesia      ROA   \n",
       "4       70004069  Atliq Exclusive  Brick & Mortar  Direct      Japan      ROA   \n",
       "\n",
       "  region  \n",
       "0   APAC  \n",
       "1   APAC  \n",
       "2   APAC  \n",
       "3   APAC  \n",
       "4   APAC  "
      ]
     },
     "execution_count": 117,
     "metadata": {},
     "output_type": "execute_result"
    }
   ],
   "source": [
    "query=\"\"\"Select * from \n",
    "dim_customer\n",
    "LIMIT 10\n",
    "\"\"\"\n",
    "dim_customer=pd.read_sql_query(query, con)\n",
    "dim_customer.head() "
   ]
  },
  {
   "cell_type": "code",
   "execution_count": 118,
   "id": "78e36485-649d-4bbb-9443-95b4a3c60650",
   "metadata": {
    "tags": []
   },
   "outputs": [
    {
     "data": {
      "text/html": [
       "<div>\n",
       "<style scoped>\n",
       "    .dataframe tbody tr th:only-of-type {\n",
       "        vertical-align: middle;\n",
       "    }\n",
       "\n",
       "    .dataframe tbody tr th {\n",
       "        vertical-align: top;\n",
       "    }\n",
       "\n",
       "    .dataframe thead th {\n",
       "        text-align: right;\n",
       "    }\n",
       "</style>\n",
       "<table border=\"1\" class=\"dataframe\">\n",
       "  <thead>\n",
       "    <tr style=\"text-align: right;\">\n",
       "      <th></th>\n",
       "      <th>product_code</th>\n",
       "      <th>division</th>\n",
       "      <th>segment</th>\n",
       "      <th>category</th>\n",
       "      <th>product</th>\n",
       "      <th>variant</th>\n",
       "      <th>VIP</th>\n",
       "    </tr>\n",
       "  </thead>\n",
       "  <tbody>\n",
       "    <tr>\n",
       "      <th>0</th>\n",
       "      <td>A0118150101</td>\n",
       "      <td>P &amp; A</td>\n",
       "      <td>Peripherals</td>\n",
       "      <td>Internal HDD</td>\n",
       "      <td>AQ Dracula HDD – 3.5 Inch SATA 6 Gb/s 5400 RPM...</td>\n",
       "      <td>Standard</td>\n",
       "      <td>No</td>\n",
       "    </tr>\n",
       "    <tr>\n",
       "      <th>1</th>\n",
       "      <td>A0118150102</td>\n",
       "      <td>P &amp; A</td>\n",
       "      <td>Peripherals</td>\n",
       "      <td>Internal HDD</td>\n",
       "      <td>AQ Dracula HDD – 3.5 Inch SATA 6 Gb/s 5400 RPM...</td>\n",
       "      <td>Plus</td>\n",
       "      <td>Yes</td>\n",
       "    </tr>\n",
       "    <tr>\n",
       "      <th>2</th>\n",
       "      <td>A0118150103</td>\n",
       "      <td>P &amp; A</td>\n",
       "      <td>Peripherals</td>\n",
       "      <td>Internal HDD</td>\n",
       "      <td>AQ Dracula HDD – 3.5 Inch SATA 6 Gb/s 5400 RPM...</td>\n",
       "      <td>Premium</td>\n",
       "      <td>Yes</td>\n",
       "    </tr>\n",
       "    <tr>\n",
       "      <th>3</th>\n",
       "      <td>A0118150104</td>\n",
       "      <td>P &amp; A</td>\n",
       "      <td>Peripherals</td>\n",
       "      <td>Internal HDD</td>\n",
       "      <td>AQ Dracula HDD – 3.5 Inch SATA 6 Gb/s 5400 RPM...</td>\n",
       "      <td>Premium Plus</td>\n",
       "      <td>Yes</td>\n",
       "    </tr>\n",
       "    <tr>\n",
       "      <th>4</th>\n",
       "      <td>A0219150201</td>\n",
       "      <td>P &amp; A</td>\n",
       "      <td>Peripherals</td>\n",
       "      <td>Internal HDD</td>\n",
       "      <td>AQ WereWolf NAS Internal Hard Drive HDD – 8.89 cm</td>\n",
       "      <td>Standard</td>\n",
       "      <td>No</td>\n",
       "    </tr>\n",
       "  </tbody>\n",
       "</table>\n",
       "</div>"
      ],
      "text/plain": [
       "  product_code division      segment      category  \\\n",
       "0  A0118150101    P & A  Peripherals  Internal HDD   \n",
       "1  A0118150102    P & A  Peripherals  Internal HDD   \n",
       "2  A0118150103    P & A  Peripherals  Internal HDD   \n",
       "3  A0118150104    P & A  Peripherals  Internal HDD   \n",
       "4  A0219150201    P & A  Peripherals  Internal HDD   \n",
       "\n",
       "                                             product       variant  VIP  \n",
       "0  AQ Dracula HDD – 3.5 Inch SATA 6 Gb/s 5400 RPM...      Standard   No  \n",
       "1  AQ Dracula HDD – 3.5 Inch SATA 6 Gb/s 5400 RPM...          Plus  Yes  \n",
       "2  AQ Dracula HDD – 3.5 Inch SATA 6 Gb/s 5400 RPM...       Premium  Yes  \n",
       "3  AQ Dracula HDD – 3.5 Inch SATA 6 Gb/s 5400 RPM...  Premium Plus  Yes  \n",
       "4  AQ WereWolf NAS Internal Hard Drive HDD – 8.89 cm      Standard   No  "
      ]
     },
     "execution_count": 118,
     "metadata": {},
     "output_type": "execute_result"
    }
   ],
   "source": [
    "query = \"\"\"\n",
    "    SELECT * FROM dim_product\n",
    "    LIMIT 10\n",
    "\"\"\"\n",
    "\n",
    "dim_customer = pd.read_sql_query(query, con)\n",
    "dim_customer.head()"
   ]
  },
  {
   "cell_type": "code",
   "execution_count": 119,
   "id": "13c317b4-377c-4db3-9b23-1b48113f9a13",
   "metadata": {
    "tags": []
   },
   "outputs": [
    {
     "name": "stdout",
     "output_type": "stream",
     "text": [
      "  division\n",
      "0    P & A\n",
      "1       PC\n",
      "2    N & S\n"
     ]
    }
   ],
   "source": [
    "con = sqlite3.connect('atliq_db.sqlite3')\n",
    "query = \"SELECT DISTINCT division FROM dim_product;\"\n",
    "unique_categories = pd.read_sql_query(query, con)\n",
    "print(unique_categories)"
   ]
  },
  {
   "cell_type": "code",
   "execution_count": 120,
   "id": "9ef8daf5-c6fd-466f-8c77-8d45be82665a",
   "metadata": {},
   "outputs": [
    {
     "data": {
      "text/html": [
       "<div>\n",
       "<style scoped>\n",
       "    .dataframe tbody tr th:only-of-type {\n",
       "        vertical-align: middle;\n",
       "    }\n",
       "\n",
       "    .dataframe tbody tr th {\n",
       "        vertical-align: top;\n",
       "    }\n",
       "\n",
       "    .dataframe thead th {\n",
       "        text-align: right;\n",
       "    }\n",
       "</style>\n",
       "<table border=\"1\" class=\"dataframe\">\n",
       "  <thead>\n",
       "    <tr style=\"text-align: right;\">\n",
       "      <th></th>\n",
       "      <th>customer_code</th>\n",
       "      <th>fiscal_year</th>\n",
       "      <th>pre_invoice_discount_pct</th>\n",
       "    </tr>\n",
       "  </thead>\n",
       "  <tbody>\n",
       "    <tr>\n",
       "      <th>0</th>\n",
       "      <td>70002017</td>\n",
       "      <td>2018</td>\n",
       "      <td>0.0824</td>\n",
       "    </tr>\n",
       "    <tr>\n",
       "      <th>1</th>\n",
       "      <td>70002017</td>\n",
       "      <td>2019</td>\n",
       "      <td>0.0777</td>\n",
       "    </tr>\n",
       "    <tr>\n",
       "      <th>2</th>\n",
       "      <td>70002017</td>\n",
       "      <td>2020</td>\n",
       "      <td>0.0735</td>\n",
       "    </tr>\n",
       "    <tr>\n",
       "      <th>3</th>\n",
       "      <td>70002017</td>\n",
       "      <td>2021</td>\n",
       "      <td>0.0703</td>\n",
       "    </tr>\n",
       "    <tr>\n",
       "      <th>4</th>\n",
       "      <td>70002017</td>\n",
       "      <td>2022</td>\n",
       "      <td>0.1057</td>\n",
       "    </tr>\n",
       "  </tbody>\n",
       "</table>\n",
       "</div>"
      ],
      "text/plain": [
       "   customer_code  fiscal_year  pre_invoice_discount_pct\n",
       "0       70002017         2018                    0.0824\n",
       "1       70002017         2019                    0.0777\n",
       "2       70002017         2020                    0.0735\n",
       "3       70002017         2021                    0.0703\n",
       "4       70002017         2022                    0.1057"
      ]
     },
     "execution_count": 120,
     "metadata": {},
     "output_type": "execute_result"
    }
   ],
   "source": [
    "query=\"\"\"Select * from \n",
    "fact_pre_discount\n",
    "LIMIT 10\n",
    "\"\"\"\n",
    "dim_customer=pd.read_sql_query(query, con)\n",
    "dim_customer.head() "
   ]
  },
  {
   "cell_type": "code",
   "execution_count": 121,
   "id": "5b042066-cc8c-4877-a341-358d2e77b4c8",
   "metadata": {
    "tags": []
   },
   "outputs": [
    {
     "data": {
      "text/html": [
       "<div>\n",
       "<style scoped>\n",
       "    .dataframe tbody tr th:only-of-type {\n",
       "        vertical-align: middle;\n",
       "    }\n",
       "\n",
       "    .dataframe tbody tr th {\n",
       "        vertical-align: top;\n",
       "    }\n",
       "\n",
       "    .dataframe thead th {\n",
       "        text-align: right;\n",
       "    }\n",
       "</style>\n",
       "<table border=\"1\" class=\"dataframe\">\n",
       "  <thead>\n",
       "    <tr style=\"text-align: right;\">\n",
       "      <th></th>\n",
       "      <th>product_code</th>\n",
       "      <th>cost_year</th>\n",
       "      <th>manufacturing_cost</th>\n",
       "    </tr>\n",
       "  </thead>\n",
       "  <tbody>\n",
       "    <tr>\n",
       "      <th>0</th>\n",
       "      <td>A0118150101</td>\n",
       "      <td>2018</td>\n",
       "      <td>4.6190</td>\n",
       "    </tr>\n",
       "    <tr>\n",
       "      <th>1</th>\n",
       "      <td>A0118150101</td>\n",
       "      <td>2019</td>\n",
       "      <td>4.2033</td>\n",
       "    </tr>\n",
       "    <tr>\n",
       "      <th>2</th>\n",
       "      <td>A0118150101</td>\n",
       "      <td>2020</td>\n",
       "      <td>5.0207</td>\n",
       "    </tr>\n",
       "    <tr>\n",
       "      <th>3</th>\n",
       "      <td>A0118150101</td>\n",
       "      <td>2021</td>\n",
       "      <td>5.5172</td>\n",
       "    </tr>\n",
       "    <tr>\n",
       "      <th>4</th>\n",
       "      <td>A0118150102</td>\n",
       "      <td>2018</td>\n",
       "      <td>5.6036</td>\n",
       "    </tr>\n",
       "  </tbody>\n",
       "</table>\n",
       "</div>"
      ],
      "text/plain": [
       "  product_code  cost_year  manufacturing_cost\n",
       "0  A0118150101       2018              4.6190\n",
       "1  A0118150101       2019              4.2033\n",
       "2  A0118150101       2020              5.0207\n",
       "3  A0118150101       2021              5.5172\n",
       "4  A0118150102       2018              5.6036"
      ]
     },
     "execution_count": 121,
     "metadata": {},
     "output_type": "execute_result"
    }
   ],
   "source": [
    "query=\"\"\"Select * from \n",
    "fact_manufacturing_cost\n",
    "LIMIT 10\n",
    "\"\"\"\n",
    "dim_customer=pd.read_sql_query(query, con)\n",
    "dim_customer.head() "
   ]
  },
  {
   "cell_type": "code",
   "execution_count": 122,
   "id": "09418961-012d-4496-bdd7-03ac6e3a3609",
   "metadata": {
    "tags": []
   },
   "outputs": [
    {
     "name": "stdout",
     "output_type": "stream",
     "text": [
      "   row_count\n",
      "0       1182\n"
     ]
    }
   ],
   "source": [
    "query = \"SELECT COUNT(*) as row_count FROM fact_manufacturing_cost\"\n",
    "row_count = pd.read_sql_query(query, con)\n",
    "print(row_count)"
   ]
  },
  {
   "cell_type": "code",
   "execution_count": 123,
   "id": "b5554e05-3128-4cf8-8e92-31bab6e8de22",
   "metadata": {
    "tags": []
   },
   "outputs": [
    {
     "data": {
      "text/html": [
       "<div>\n",
       "<style scoped>\n",
       "    .dataframe tbody tr th:only-of-type {\n",
       "        vertical-align: middle;\n",
       "    }\n",
       "\n",
       "    .dataframe tbody tr th {\n",
       "        vertical-align: top;\n",
       "    }\n",
       "\n",
       "    .dataframe thead th {\n",
       "        text-align: right;\n",
       "    }\n",
       "</style>\n",
       "<table border=\"1\" class=\"dataframe\">\n",
       "  <thead>\n",
       "    <tr style=\"text-align: right;\">\n",
       "      <th></th>\n",
       "      <th>product_code</th>\n",
       "      <th>fiscal_year</th>\n",
       "      <th>gross_price</th>\n",
       "    </tr>\n",
       "  </thead>\n",
       "  <tbody>\n",
       "    <tr>\n",
       "      <th>0</th>\n",
       "      <td>A0118150101</td>\n",
       "      <td>2018</td>\n",
       "      <td>15.3952</td>\n",
       "    </tr>\n",
       "    <tr>\n",
       "      <th>1</th>\n",
       "      <td>A0118150101</td>\n",
       "      <td>2019</td>\n",
       "      <td>14.4392</td>\n",
       "    </tr>\n",
       "    <tr>\n",
       "      <th>2</th>\n",
       "      <td>A0118150101</td>\n",
       "      <td>2020</td>\n",
       "      <td>16.2323</td>\n",
       "    </tr>\n",
       "    <tr>\n",
       "      <th>3</th>\n",
       "      <td>A0118150101</td>\n",
       "      <td>2021</td>\n",
       "      <td>19.0573</td>\n",
       "    </tr>\n",
       "    <tr>\n",
       "      <th>4</th>\n",
       "      <td>A0118150102</td>\n",
       "      <td>2018</td>\n",
       "      <td>19.5875</td>\n",
       "    </tr>\n",
       "  </tbody>\n",
       "</table>\n",
       "</div>"
      ],
      "text/plain": [
       "  product_code  fiscal_year  gross_price\n",
       "0  A0118150101         2018      15.3952\n",
       "1  A0118150101         2019      14.4392\n",
       "2  A0118150101         2020      16.2323\n",
       "3  A0118150101         2021      19.0573\n",
       "4  A0118150102         2018      19.5875"
      ]
     },
     "execution_count": 123,
     "metadata": {},
     "output_type": "execute_result"
    }
   ],
   "source": [
    "query=\"\"\"Select * from \n",
    "fact_gross_price\n",
    "LIMIT 10\n",
    "\"\"\"\n",
    "dim_customer=pd.read_sql_query(query, con)\n",
    "dim_customer.head() "
   ]
  },
  {
   "cell_type": "code",
   "execution_count": 124,
   "id": "7291a9cb-def0-4a4a-bebf-319235b8f5c2",
   "metadata": {
    "tags": []
   },
   "outputs": [
    {
     "data": {
      "text/html": [
       "<div>\n",
       "<style scoped>\n",
       "    .dataframe tbody tr th:only-of-type {\n",
       "        vertical-align: middle;\n",
       "    }\n",
       "\n",
       "    .dataframe tbody tr th {\n",
       "        vertical-align: top;\n",
       "    }\n",
       "\n",
       "    .dataframe thead th {\n",
       "        text-align: right;\n",
       "    }\n",
       "</style>\n",
       "<table border=\"1\" class=\"dataframe\">\n",
       "  <thead>\n",
       "    <tr style=\"text-align: right;\">\n",
       "      <th></th>\n",
       "      <th>date</th>\n",
       "      <th>product_code</th>\n",
       "      <th>customer_code</th>\n",
       "      <th>sold_quantity</th>\n",
       "      <th>fiscal_year</th>\n",
       "    </tr>\n",
       "  </thead>\n",
       "  <tbody>\n",
       "    <tr>\n",
       "      <th>0</th>\n",
       "      <td>2017-09-01</td>\n",
       "      <td>A0118150101</td>\n",
       "      <td>70002017</td>\n",
       "      <td>51</td>\n",
       "      <td>2018</td>\n",
       "    </tr>\n",
       "    <tr>\n",
       "      <th>1</th>\n",
       "      <td>2017-09-01</td>\n",
       "      <td>A0118150101</td>\n",
       "      <td>70002018</td>\n",
       "      <td>77</td>\n",
       "      <td>2018</td>\n",
       "    </tr>\n",
       "    <tr>\n",
       "      <th>2</th>\n",
       "      <td>2017-09-01</td>\n",
       "      <td>A0118150101</td>\n",
       "      <td>70003181</td>\n",
       "      <td>17</td>\n",
       "      <td>2018</td>\n",
       "    </tr>\n",
       "    <tr>\n",
       "      <th>3</th>\n",
       "      <td>2017-09-01</td>\n",
       "      <td>A0118150101</td>\n",
       "      <td>70003182</td>\n",
       "      <td>6</td>\n",
       "      <td>2018</td>\n",
       "    </tr>\n",
       "    <tr>\n",
       "      <th>4</th>\n",
       "      <td>2017-09-01</td>\n",
       "      <td>A0118150101</td>\n",
       "      <td>70006157</td>\n",
       "      <td>5</td>\n",
       "      <td>2018</td>\n",
       "    </tr>\n",
       "  </tbody>\n",
       "</table>\n",
       "</div>"
      ],
      "text/plain": [
       "         date product_code  customer_code  sold_quantity  fiscal_year\n",
       "0  2017-09-01  A0118150101       70002017             51         2018\n",
       "1  2017-09-01  A0118150101       70002018             77         2018\n",
       "2  2017-09-01  A0118150101       70003181             17         2018\n",
       "3  2017-09-01  A0118150101       70003182              6         2018\n",
       "4  2017-09-01  A0118150101       70006157              5         2018"
      ]
     },
     "execution_count": 124,
     "metadata": {},
     "output_type": "execute_result"
    }
   ],
   "source": [
    "query=\"\"\"Select * from \n",
    "fact_sales_monthly\n",
    "LIMIT 10\n",
    "\"\"\"\n",
    "dim_customer=pd.read_sql_query(query, con)\n",
    "dim_customer.head() "
   ]
  },
  {
   "cell_type": "markdown",
   "id": "f92cf619-1b39-405e-b31c-b1766de4188b",
   "metadata": {},
   "source": [
    "<span style=\"font-family: Arial; font-size: 24px;\">What are Our Top Products?</span>"
   ]
  },
  {
   "cell_type": "code",
   "execution_count": 125,
   "id": "17316d1f-edcb-4710-b9e1-f6372ed86f79",
   "metadata": {
    "tags": []
   },
   "outputs": [],
   "source": [
    "# Top 5 products by total sold quantity with names\n",
    "top_5_products_query = \"\"\"\n",
    "SELECT f.product_code, p.product, SUM(f.sold_quantity) AS total_sold\n",
    "FROM fact_sales_monthly AS f\n",
    "JOIN dim_product AS p ON f.product_code = p.product_code\n",
    "GROUP BY f.product_code\n",
    "ORDER BY total_sold DESC\n",
    "LIMIT 5\n",
    "\"\"\""
   ]
  },
  {
   "cell_type": "code",
   "execution_count": 126,
   "id": "b5f4e0a2-80af-4cda-aaf6-fbab99923b7d",
   "metadata": {
    "tags": []
   },
   "outputs": [
    {
     "name": "stdout",
     "output_type": "stream",
     "text": [
      "Top 5 Products by Sold Quantity (with Names):\n",
      "  product_code                                            product  total_sold\n",
      "0  A0418150103                                    AQ Mforce Gen X      399751\n",
      "1  A0118150104  AQ Dracula HDD – 3.5 Inch SATA 6 Gb/s 5400 RPM...      386569\n",
      "2  A0118150103  AQ Dracula HDD – 3.5 Inch SATA 6 Gb/s 5400 RPM...      380146\n",
      "3  A0219150201  AQ WereWolf NAS Internal Hard Drive HDD – 8.89 cm      378195\n",
      "4  A0219150202  AQ WereWolf NAS Internal Hard Drive HDD – 8.89 cm      370148\n"
     ]
    }
   ],
   "source": [
    "top_5_products_with_names = pd.read_sql_query(top_5_products_query, con)\n",
    "print(\"Top 5 Products by Sold Quantity (with Names):\")\n",
    "print(top_5_products_with_names)"
   ]
  },
  {
   "cell_type": "code",
   "execution_count": 127,
   "id": "0e2caa3f-8191-439b-a36a-685c691f1838",
   "metadata": {
    "tags": []
   },
   "outputs": [],
   "source": [
    "# Least popular 5 products by total sold quantity with names\n",
    "bottom_5_products_query = \"\"\"\n",
    "SELECT f.product_code, p.product, SUM(f.sold_quantity) AS total_sold\n",
    "FROM fact_sales_monthly AS f\n",
    "JOIN dim_product AS p ON f.product_code = p.product_code\n",
    "GROUP BY f.product_code\n",
    "ORDER BY total_sold ASC\n",
    "LIMIT 5\n",
    "\"\"\""
   ]
  },
  {
   "cell_type": "code",
   "execution_count": 128,
   "id": "329980df-e376-4172-b5d6-8911d052188f",
   "metadata": {
    "tags": []
   },
   "outputs": [
    {
     "name": "stdout",
     "output_type": "stream",
     "text": [
      "\n",
      "Bottom 5 Products by Sold Quantity (with Names):\n",
      "  product_code                                            product  total_sold\n",
      "0  A0418150104                                    AQ Mforce Gen X       51007\n",
      "1  A0418150101                                    AQ Mforce Gen X      100053\n",
      "2  A0418150102                                    AQ Mforce Gen X      101725\n",
      "3  A0118150102  AQ Dracula HDD – 3.5 Inch SATA 6 Gb/s 5400 RPM...      221924\n",
      "4  A0118150101  AQ Dracula HDD – 3.5 Inch SATA 6 Gb/s 5400 RPM...      222942\n"
     ]
    }
   ],
   "source": [
    "bottom_5_products_with_names = pd.read_sql_query(bottom_5_products_query, con)\n",
    "print(\"\\nBottom 5 Products by Sold Quantity (with Names):\")\n",
    "print(bottom_5_products_with_names)"
   ]
  },
  {
   "cell_type": "code",
   "execution_count": 129,
   "id": "9dfe582e-13e0-4d05-b90e-fc1081dbb0e9",
   "metadata": {
    "tags": []
   },
   "outputs": [
    {
     "data": {
      "text/plain": [
       "<matplotlib.legend.Legend at 0x7efe353d1310>"
      ]
     },
     "execution_count": 129,
     "metadata": {},
     "output_type": "execute_result"
    },
    {
     "data": {
      "image/png": "[encoded data removed]",
      "text/plain": [
       "<Figure size 864x576 with 1 Axes>"
      ]
     },
     "metadata": {
      "needs_background": "light"
     },
     "output_type": "display_data"
    }
   ],
   "source": [
    "# Data retrieval for top 5 products with names\n",
    "top_5_products_with_names = pd.read_sql_query(top_5_products_query, con)\n",
    "\n",
    "# Data retrieval for bottom 5 products with names\n",
    "bottom_5_products_with_names = pd.read_sql_query(bottom_5_products_query, con)\n",
    "\n",
    "# Combine top and bottom products for plotting\n",
    "combined_data = pd.concat([top_5_products_with_names, bottom_5_products_with_names])\n",
    "\n",
    "# Create a figure and axis\n",
    "fig, ax = plt.subplots(figsize=(12, 8))\n",
    "\n",
    "# Create an array for indices to separate top and bottom products\n",
    "indices = np.arange(len(combined_data))\n",
    "\n",
    "# Plot bars for top 5 products\n",
    "ax.bar(indices[:5], combined_data['total_sold'][:5], color='skyblue', label='Top 5 Products')\n",
    "\n",
    "# Plot bars for bottom 5 products\n",
    "ax.bar(indices[5:], combined_data['total_sold'][5:], color='salmon', label='Bottom 5 Products')\n",
    "\n",
    "# Set x-axis ticks and labels\n",
    "ax.set_xticks(indices)\n",
    "ax.set_xticklabels(combined_data['product'], rotation=45, ha='right')\n",
    "\n",
    "# Set labels and title\n",
    "ax.set_xlabel('Product')\n",
    "ax.set_ylabel('Total Sold Quantity')\n",
    "ax.set_title('Top and Bottom 5 Products by Sold Quantity')\n",
    "ax.legend()\n"
   ]
  },
  {
   "cell_type": "code",
   "execution_count": 130,
   "metadata": {
    "scrolled": false
   },
   "outputs": [
    {
     "data": {
      "image/png": "[encoded data removed]",
      "text/plain": [
       "<Figure size 720x432 with 1 Axes>"
      ]
     },
     "metadata": {
      "needs_background": "light"
     },
     "output_type": "display_data"
    }
   ],
   "source": [
    "# Establish a connection to your SQLite database\n",
    "con = sqlite3.connect('atliq_db.sqlite3')\n",
    "\n",
    "# SQL query to retrieve sales data for the specific products and aggregate based on the specified names\n",
    "specific_products_query = \"\"\"\n",
    "SELECT \n",
    "    CASE \n",
    "        WHEN p.product LIKE '%AQ Dracula HDD%' THEN 'AQ Dracula HDD'\n",
    "        WHEN p.product LIKE '%AQ Mforce Gen X%' THEN 'AQ Mforce Gen X'\n",
    "        WHEN p.product LIKE '%AQ WereWolf NAS HDD%' THEN 'AQ WereWolf NAS HDD'\n",
    "        WHEN p.product LIKE '%AQ Zion Saga%' THEN 'AQ Zion Saga'\n",
    "        ELSE 'AQ WereWolf NAS HDD'\n",
    "    END AS grouped_product,\n",
    "    SUM(f.sold_quantity) AS total_sold\n",
    "FROM fact_sales_monthly AS f\n",
    "JOIN dim_product AS p ON f.product_code = p.product_code\n",
    "GROUP BY grouped_product\n",
    "ORDER BY total_sold DESC\n",
    "\"\"\"\n",
    "\n",
    "# Retrieve data for the specific products from the database\n",
    "specific_products_data = pd.read_sql_query(specific_products_query, con)\n",
    "\n",
    "# Close the database connection after fetching the data\n",
    "con.close()\n",
    "\n",
    "# Create a larger figure and axis\n",
    "fig, ax = plt.subplots(figsize=(10, 6))\n",
    "\n",
    "# Plotting the specific products and their combined sold quantities\n",
    "bars = ax.bar(specific_products_data['grouped_product'], specific_products_data['total_sold'], color='skyblue')\n",
    "\n",
    "# Set labels and title\n",
    "ax.set_xlabel('Product')\n",
    "ax.set_ylabel('Total Sold Quantity')\n",
    "ax.set_title('Combined Sales Quantities of Specific Products')\n",
    "\n",
    "# Display the actual values on top of the bars\n",
    "for bar, value in zip(bars, specific_products_data['total_sold']):\n",
    "    ax.text(bar.get_x() + bar.get_width() / 2, bar.get_height(), value,\n",
    "            ha='center', va='bottom')\n",
    "\n",
    "plt.tight_layout()\n",
    "plt.show()"
   ]
  },
  {
   "cell_type": "code",
   "execution_count": 131,
   "metadata": {},
   "outputs": [
    {
     "name": "stdout",
     "output_type": "stream",
     "text": [
      "Total Items Sold for specified products: 2707581\n"
     ]
    }
   ],
   "source": [
    "# Establish a connection to your SQLite database\n",
    "con = sqlite3.connect('atliq_db.sqlite3')\n",
    "\n",
    "# SQL query to calculate the total sold quantity for the specified products\n",
    "total_sold_query = \"\"\"\n",
    "SELECT \n",
    "    SUM(f.sold_quantity) AS total_items_sold\n",
    "FROM fact_sales_monthly AS f\n",
    "JOIN dim_product AS p ON f.product_code = p.product_code\n",
    "WHERE p.product LIKE '%AQ Dracula HDD%' OR \n",
    "      p.product LIKE '%AQ Mforce Gen X%' OR \n",
    "      p.product LIKE '%AQ WereWolf NAS HDD%' OR \n",
    "      p.product LIKE '%AQ Zion Saga%'\n",
    "\"\"\"\n",
    "\n",
    "# Retrieve the total sold quantity from the database\n",
    "total_sold_result = con.execute(total_sold_query).fetchone()[0]\n",
    "\n",
    "# Close the database connection after fetching the data\n",
    "con.close()\n",
    "\n",
    "print(f\"Total Items Sold for specified products: {total_sold_result}\")"
   ]
  },
  {
   "cell_type": "markdown",
   "id": "5976bbb9-b3f2-425e-a7a1-48490f99509a",
   "metadata": {
    "tags": []
   },
   "source": [
    "<span style=\"font-family: Arial; font-size: 24px;\">Conclusion:</span> We can see currently out top product being sold was the AQ Mforce Gen X which sold a grand total of 399751 units. While several differing units of this exact product are seen as the bottom sellers in our bottom 5 units. This is similarly seen with the AQ Dracula which has 2 of the other top spots, as well as 2 of the bottom slots. Similarly when we look at products as a whole we see the AQ Dracula models have made the most sales while the AQ MForce have done the least. The total amount of products sold up until this point was 2707581 units We should investigate further into some of these variants to further establish for discontinuing these products or changing the pricing on the products to see if they will be able to be better sold in that way."
   ]
  },
  {
   "cell_type": "markdown",
   "id": "fa6ca294-6b2b-4424-b331-f445500dc0ab",
   "metadata": {
    "tags": []
   },
   "source": [
    "<span style=\"font-family: Arial; font-size: 24px;\">What Countries have the majority of sales?:</span>"
   ]
  },
  {
   "cell_type": "code",
   "execution_count": 132,
   "id": "e09efd91-197c-4769-80ef-334925945ea5",
   "metadata": {
    "tags": []
   },
   "outputs": [
    {
     "name": "stdout",
     "output_type": "stream",
     "text": [
      "            market  total_quantity_sold_per_market\n",
      "0            India                         1087710\n",
      "1              USA                          609825\n",
      "2      South Korea                          341767\n",
      "3           Canada                          197068\n",
      "4      Philiphines                          191884\n",
      "5   United Kingdom                          162454\n",
      "6           France                          147853\n",
      "7        Australia                          141088\n",
      "8        Indonesia                          109886\n",
      "9            China                          107637\n",
      "10           Italy                           93137\n",
      "11         Germany                           88915\n",
      "12          Norway                           82076\n",
      "13        Portugal                           71937\n",
      "14           Spain                           63376\n",
      "15      Newzealand                           51513\n",
      "16     Netherlands                           48221\n",
      "17      Bangladesh                           39487\n",
      "18        Pakistan                           39355\n",
      "19          Poland                           33842\n",
      "20           Japan                           33068\n",
      "21         Austria                           12974\n",
      "22          Brazil                            9277\n",
      "23          Sweden                            8323\n",
      "24          Mexico                            6788\n",
      "25           Chile                            2715\n",
      "26        Columbia                             759\n"
     ]
    }
   ],
   "source": [
    "# Establish a connection to the 'atliq_db.sqlite3' SQLite database\n",
    "con = sqlite3.connect('atliq_db.sqlite3')\n",
    "# SQL query to calculate the total quantity of products sold per market\n",
    "products_sold_per_market_query = \"\"\"\n",
    "SELECT \n",
    "    dc.market, \n",
    "    SUM(fs.sold_quantity) AS total_quantity_sold_per_market\n",
    "FROM \n",
    "    fact_sales_monthly fs\n",
    "JOIN \n",
    "    dim_customer dc ON fs.customer_code = dc.customer_code\n",
    "GROUP BY \n",
    "    dc.market\n",
    "ORDER BY \n",
    "    total_quantity_sold_per_market DESC;\n",
    "\"\"\"\n",
    "\n",
    "# Execute the query and read the results into a DataFrame\n",
    "products_sold_per_market = pd.read_sql_query(products_sold_per_market_query, con)\n",
    "print(products_sold_per_market)"
   ]
  },
  {
   "cell_type": "code",
   "execution_count": 133,
   "id": "8ab118dd-55d6-4b9a-bf4b-242ffe626177",
   "metadata": {
    "tags": []
   },
   "outputs": [
    {
     "data": {
      "application/vnd.plotly.v1+json": {
       "config": {
        "plotlyServerURL": "https://plot.ly"
       },
       "data": [
        {
         "alignmentgroup": "True",
         "hovertemplate": "Market=%{x}<br>Total Quantity Sold=%{y}<extra></extra>",
         "legendgroup": "",
         "marker": {
          "color": "#636efa",
          "pattern": {
           "shape": ""
          }
         },
         "name": "",
         "offsetgroup": "",
         "orientation": "v",
         "showlegend": false,
         "textposition": "auto",
         "type": "bar",
         "x": [
          "India",
          "USA",
          "South Korea",
          "Canada",
          "Philiphines",
          "United Kingdom",
          "France",
          "Australia",
          "Indonesia",
          "China",
          "Italy",
          "Germany",
          "Norway",
          "Portugal",
          "Spain",
          "Newzealand",
          "Netherlands",
          "Bangladesh",
          "Pakistan",
          "Poland",
          "Japan",
          "Austria",
          "Brazil",
          "Sweden",
          "Mexico",
          "Chile",
          "Columbia"
         ],
         "xaxis": "x",
         "y": [
          1087710,
          609825,
          341767,
          197068,
          191884,
          162454,
          147853,
          141088,
          109886,
          107637,
          93137,
          88915,
          82076,
          71937,
          63376,
          51513,
          48221,
          39487,
          39355,
          33842,
          33068,
          12974,
          9277,
          8323,
          6788,
          2715,
          759
         ],
         "yaxis": "y"
        }
       ],
       "layout": {
        "barmode": "relative",
        "legend": {
         "tracegroupgap": 0
        },
        "template": {
         "data": {
          "bar": [
           {
            "error_x": {
             "color": "#2a3f5f"
            },
            "error_y": {
             "color": "#2a3f5f"
            },
            "marker": {
             "line": {
              "color": "#E5ECF6",
              "width": 0.5
             },
             "pattern": {
              "fillmode": "overlay",
              "size": 10,
              "solidity": 0.2
             }
            },
            "type": "bar"
           }
          ],
          "barpolar": [
           {
            "marker": {
             "line": {
              "color": "#E5ECF6",
              "width": 0.5
             },
             "pattern": {
              "fillmode": "overlay",
              "size": 10,
              "solidity": 0.2
             }
            },
            "type": "barpolar"
           }
          ],
          "carpet": [
           {
            "aaxis": {
             "endlinecolor": "#2a3f5f",
             "gridcolor": "white",
             "linecolor": "white",
             "minorgridcolor": "white",
             "startlinecolor": "#2a3f5f"
            },
            "baxis": {
             "endlinecolor": "#2a3f5f",
             "gridcolor": "white",
             "linecolor": "white",
             "minorgridcolor": "white",
             "startlinecolor": "#2a3f5f"
            },
            "type": "carpet"
           }
          ],
          "choropleth": [
           {
            "colorbar": {
             "outlinewidth": 0,
             "ticks": ""
            },
            "type": "choropleth"
           }
          ],
          "contour": [
           {
            "colorbar": {
             "outlinewidth": 0,
             "ticks": ""
            },
            "colorscale": [
             [
              0,
              "#0d0887"
             ],
             [
              0.1111111111111111,
              "#46039f"
             ],
             [
              0.2222222222222222,
              "#7201a8"
             ],
             [
              0.3333333333333333,
              "#9c179e"
             ],
             [
              0.4444444444444444,
              "#bd3786"
             ],
             [
              0.5555555555555556,
              "#d8576b"
             ],
             [
              0.6666666666666666,
              "#ed7953"
             ],
             [
              0.7777777777777778,
              "#fb9f3a"
             ],
             [
              0.8888888888888888,
              "#fdca26"
             ],
             [
              1,
              "#f0f921"
             ]
            ],
            "type": "contour"
           }
          ],
          "contourcarpet": [
           {
            "colorbar": {
             "outlinewidth": 0,
             "ticks": ""
            },
            "type": "contourcarpet"
           }
          ],
          "heatmap": [
           {
            "colorbar": {
             "outlinewidth": 0,
             "ticks": ""
            },
            "colorscale": [
             [
              0,
              "#0d0887"
             ],
             [
              0.1111111111111111,
              "#46039f"
             ],
             [
              0.2222222222222222,
              "#7201a8"
             ],
             [
              0.3333333333333333,
              "#9c179e"
             ],
             [
              0.4444444444444444,
              "#bd3786"
             ],
             [
              0.5555555555555556,
              "#d8576b"
             ],
             [
              0.6666666666666666,
              "#ed7953"
             ],
             [
              0.7777777777777778,
              "#fb9f3a"
             ],
             [
              0.8888888888888888,
              "#fdca26"
             ],
             [
              1,
              "#f0f921"
             ]
            ],
            "type": "heatmap"
           }
          ],
          "heatmapgl": [
           {
            "colorbar": {
             "outlinewidth": 0,
             "ticks": ""
            },
            "colorscale": [
             [
              0,
              "#0d0887"
             ],
             [
              0.1111111111111111,
              "#46039f"
             ],
             [
              0.2222222222222222,
              "#7201a8"
             ],
             [
              0.3333333333333333,
              "#9c179e"
             ],
             [
              0.4444444444444444,
              "#bd3786"
             ],
             [
              0.5555555555555556,
              "#d8576b"
             ],
             [
              0.6666666666666666,
              "#ed7953"
             ],
             [
              0.7777777777777778,
              "#fb9f3a"
             ],
             [
              0.8888888888888888,
              "#fdca26"
             ],
             [
              1,
              "#f0f921"
             ]
            ],
            "type": "heatmapgl"
           }
          ],
          "histogram": [
           {
            "marker": {
             "pattern": {
              "fillmode": "overlay",
              "size": 10,
              "solidity": 0.2
             }
            },
            "type": "histogram"
           }
          ],
          "histogram2d": [
           {
            "colorbar": {
             "outlinewidth": 0,
             "ticks": ""
            },
            "colorscale": [
             [
              0,
              "#0d0887"
             ],
             [
              0.1111111111111111,
              "#46039f"
             ],
             [
              0.2222222222222222,
              "#7201a8"
             ],
             [
              0.3333333333333333,
              "#9c179e"
             ],
             [
              0.4444444444444444,
              "#bd3786"
             ],
             [
              0.5555555555555556,
              "#d8576b"
             ],
             [
              0.6666666666666666,
              "#ed7953"
             ],
             [
              0.7777777777777778,
              "#fb9f3a"
             ],
             [
              0.8888888888888888,
              "#fdca26"
             ],
             [
              1,
              "#f0f921"
             ]
            ],
            "type": "histogram2d"
           }
          ],
          "histogram2dcontour": [
           {
            "colorbar": {
             "outlinewidth": 0,
             "ticks": ""
            },
            "colorscale": [
             [
              0,
              "#0d0887"
             ],
             [
              0.1111111111111111,
              "#46039f"
             ],
             [
              0.2222222222222222,
              "#7201a8"
             ],
             [
              0.3333333333333333,
              "#9c179e"
             ],
             [
              0.4444444444444444,
              "#bd3786"
             ],
             [
              0.5555555555555556,
              "#d8576b"
             ],
             [
              0.6666666666666666,
              "#ed7953"
             ],
             [
              0.7777777777777778,
              "#fb9f3a"
             ],
             [
              0.8888888888888888,
              "#fdca26"
             ],
             [
              1,
              "#f0f921"
             ]
            ],
            "type": "histogram2dcontour"
           }
          ],
          "mesh3d": [
           {
            "colorbar": {
             "outlinewidth": 0,
             "ticks": ""
            },
            "type": "mesh3d"
           }
          ],
          "parcoords": [
           {
            "line": {
             "colorbar": {
              "outlinewidth": 0,
              "ticks": ""
             }
            },
            "type": "parcoords"
           }
          ],
          "pie": [
           {
            "automargin": true,
            "type": "pie"
           }
          ],
          "scatter": [
           {
            "marker": {
             "colorbar": {
              "outlinewidth": 0,
              "ticks": ""
             }
            },
            "type": "scatter"
           }
          ],
          "scatter3d": [
           {
            "line": {
             "colorbar": {
              "outlinewidth": 0,
              "ticks": ""
             }
            },
            "marker": {
             "colorbar": {
              "outlinewidth": 0,
              "ticks": ""
             }
            },
            "type": "scatter3d"
           }
          ],
          "scattercarpet": [
           {
            "marker": {
             "colorbar": {
              "outlinewidth": 0,
              "ticks": ""
             }
            },
            "type": "scattercarpet"
           }
          ],
          "scattergeo": [
           {
            "marker": {
             "colorbar": {
              "outlinewidth": 0,
              "ticks": ""
             }
            },
            "type": "scattergeo"
           }
          ],
          "scattergl": [
           {
            "marker": {
             "colorbar": {
              "outlinewidth": 0,
              "ticks": ""
             }
            },
            "type": "scattergl"
           }
          ],
          "scattermapbox": [
           {
            "marker": {
             "colorbar": {
              "outlinewidth": 0,
              "ticks": ""
             }
            },
            "type": "scattermapbox"
           }
          ],
          "scatterpolar": [
           {
            "marker": {
             "colorbar": {
              "outlinewidth": 0,
              "ticks": ""
             }
            },
            "type": "scatterpolar"
           }
          ],
          "scatterpolargl": [
           {
            "marker": {
             "colorbar": {
              "outlinewidth": 0,
              "ticks": ""
             }
            },
            "type": "scatterpolargl"
           }
          ],
          "scatterternary": [
           {
            "marker": {
             "colorbar": {
              "outlinewidth": 0,
              "ticks": ""
             }
            },
            "type": "scatterternary"
           }
          ],
          "surface": [
           {
            "colorbar": {
             "outlinewidth": 0,
             "ticks": ""
            },
            "colorscale": [
             [
              0,
              "#0d0887"
             ],
             [
              0.1111111111111111,
              "#46039f"
             ],
             [
              0.2222222222222222,
              "#7201a8"
             ],
             [
              0.3333333333333333,
              "#9c179e"
             ],
             [
              0.4444444444444444,
              "#bd3786"
             ],
             [
              0.5555555555555556,
              "#d8576b"
             ],
             [
              0.6666666666666666,
              "#ed7953"
             ],
             [
              0.7777777777777778,
              "#fb9f3a"
             ],
             [
              0.8888888888888888,
              "#fdca26"
             ],
             [
              1,
              "#f0f921"
             ]
            ],
            "type": "surface"
           }
          ],
          "table": [
           {
            "cells": {
             "fill": {
              "color": "#EBF0F8"
             },
             "line": {
              "color": "white"
             }
            },
            "header": {
             "fill": {
              "color": "#C8D4E3"
             },
             "line": {
              "color": "white"
             }
            },
            "type": "table"
           }
          ]
         },
         "layout": {
          "annotationdefaults": {
           "arrowcolor": "#2a3f5f",
           "arrowhead": 0,
           "arrowwidth": 1
          },
          "autotypenumbers": "strict",
          "coloraxis": {
           "colorbar": {
            "outlinewidth": 0,
            "ticks": ""
           }
          },
          "colorscale": {
           "diverging": [
            [
             0,
             "#8e0152"
            ],
            [
             0.1,
             "#c51b7d"
            ],
            [
             0.2,
             "#de77ae"
            ],
            [
             0.3,
             "#f1b6da"
            ],
            [
             0.4,
             "#fde0ef"
            ],
            [
             0.5,
             "#f7f7f7"
            ],
            [
             0.6,
             "#e6f5d0"
            ],
            [
             0.7,
             "#b8e186"
            ],
            [
             0.8,
             "#7fbc41"
            ],
            [
             0.9,
             "#4d9221"
            ],
            [
             1,
             "#276419"
            ]
           ],
           "sequential": [
            [
             0,
             "#0d0887"
            ],
            [
             0.1111111111111111,
             "#46039f"
            ],
            [
             0.2222222222222222,
             "#7201a8"
            ],
            [
             0.3333333333333333,
             "#9c179e"
            ],
            [
             0.4444444444444444,
             "#bd3786"
            ],
            [
             0.5555555555555556,
             "#d8576b"
            ],
            [
             0.6666666666666666,
             "#ed7953"
            ],
            [
             0.7777777777777778,
             "#fb9f3a"
            ],
            [
             0.8888888888888888,
             "#fdca26"
            ],
            [
             1,
             "#f0f921"
            ]
           ],
           "sequentialminus": [
            [
             0,
             "#0d0887"
            ],
            [
             0.1111111111111111,
             "#46039f"
            ],
            [
             0.2222222222222222,
             "#7201a8"
            ],
            [
             0.3333333333333333,
             "#9c179e"
            ],
            [
             0.4444444444444444,
             "#bd3786"
            ],
            [
             0.5555555555555556,
             "#d8576b"
            ],
            [
             0.6666666666666666,
             "#ed7953"
            ],
            [
             0.7777777777777778,
             "#fb9f3a"
            ],
            [
             0.8888888888888888,
             "#fdca26"
            ],
            [
             1,
             "#f0f921"
            ]
           ]
          },
          "colorway": [
           "#636efa",
           "#EF553B",
           "#00cc96",
           "#ab63fa",
           "#FFA15A",
           "#19d3f3",
           "#FF6692",
           "#B6E880",
           "#FF97FF",
           "#FECB52"
          ],
          "font": {
           "color": "#2a3f5f"
          },
          "geo": {
           "bgcolor": "white",
           "lakecolor": "white",
           "landcolor": "#E5ECF6",
           "showlakes": true,
           "showland": true,
           "subunitcolor": "white"
          },
          "hoverlabel": {
           "align": "left"
          },
          "hovermode": "closest",
          "mapbox": {
           "style": "light"
          },
          "paper_bgcolor": "white",
          "plot_bgcolor": "#E5ECF6",
          "polar": {
           "angularaxis": {
            "gridcolor": "white",
            "linecolor": "white",
            "ticks": ""
           },
           "bgcolor": "#E5ECF6",
           "radialaxis": {
            "gridcolor": "white",
            "linecolor": "white",
            "ticks": ""
           }
          },
          "scene": {
           "xaxis": {
            "backgroundcolor": "#E5ECF6",
            "gridcolor": "white",
            "gridwidth": 2,
            "linecolor": "white",
            "showbackground": true,
            "ticks": "",
            "zerolinecolor": "white"
           },
           "yaxis": {
            "backgroundcolor": "#E5ECF6",
            "gridcolor": "white",
            "gridwidth": 2,
            "linecolor": "white",
            "showbackground": true,
            "ticks": "",
            "zerolinecolor": "white"
           },
           "zaxis": {
            "backgroundcolor": "#E5ECF6",
            "gridcolor": "white",
            "gridwidth": 2,
            "linecolor": "white",
            "showbackground": true,
            "ticks": "",
            "zerolinecolor": "white"
           }
          },
          "shapedefaults": {
           "line": {
            "color": "#2a3f5f"
           }
          },
          "ternary": {
           "aaxis": {
            "gridcolor": "white",
            "linecolor": "white",
            "ticks": ""
           },
           "baxis": {
            "gridcolor": "white",
            "linecolor": "white",
            "ticks": ""
           },
           "bgcolor": "#E5ECF6",
           "caxis": {
            "gridcolor": "white",
            "linecolor": "white",
            "ticks": ""
           }
          },
          "title": {
           "x": 0.05
          },
          "xaxis": {
           "automargin": true,
           "gridcolor": "white",
           "linecolor": "white",
           "ticks": "",
           "title": {
            "standoff": 15
           },
           "zerolinecolor": "white",
           "zerolinewidth": 2
          },
          "yaxis": {
           "automargin": true,
           "gridcolor": "white",
           "linecolor": "white",
           "ticks": "",
           "title": {
            "standoff": 15
           },
           "zerolinecolor": "white",
           "zerolinewidth": 2
          }
         }
        },
        "title": {
         "text": "Total Quantity of Products Sold per Market"
        },
        "xaxis": {
         "anchor": "y",
         "domain": [
          0,
          1
         ],
         "tickangle": 45,
         "title": {
          "text": "Market"
         }
        },
        "yaxis": {
         "anchor": "x",
         "domain": [
          0,
          1
         ],
         "title": {
          "text": "Total Quantity Sold"
         }
        }
       }
      },
      "text/html": [
       "<div>                            <div id=\"574ccae7-e51d-428c-8b89-3727116afc96\" class=\"plotly-graph-div\" style=\"height:525px; width:100%;\"></div>            <script type=\"text/javascript\">                require([\"plotly\"], function(Plotly) {                    window.PLOTLYENV=window.PLOTLYENV || {};                                    if (document.getElementById(\"574ccae7-e51d-428c-8b89-3727116afc96\")) {                    Plotly.newPlot(                        \"574ccae7-e51d-428c-8b89-3727116afc96\",                        [{\"alignmentgroup\":\"True\",\"hovertemplate\":\"Market=%{x}<br>Total Quantity Sold=%{y}<extra></extra>\",\"legendgroup\":\"\",\"marker\":{\"color\":\"#636efa\",\"pattern\":{\"shape\":\"\"}},\"name\":\"\",\"offsetgroup\":\"\",\"orientation\":\"v\",\"showlegend\":false,\"textposition\":\"auto\",\"x\":[\"India\",\"USA\",\"South Korea\",\"Canada\",\"Philiphines\",\"United Kingdom\",\"France\",\"Australia\",\"Indonesia\",\"China\",\"Italy\",\"Germany\",\"Norway\",\"Portugal\",\"Spain\",\"Newzealand\",\"Netherlands\",\"Bangladesh\",\"Pakistan\",\"Poland\",\"Japan\",\"Austria\",\"Brazil\",\"Sweden\",\"Mexico\",\"Chile\",\"Columbia\"],\"xaxis\":\"x\",\"y\":[1087710,609825,341767,197068,191884,162454,147853,141088,109886,107637,93137,88915,82076,71937,63376,51513,48221,39487,39355,33842,33068,12974,9277,8323,6788,2715,759],\"yaxis\":\"y\",\"type\":\"bar\"}],                        {\"template\":{\"data\":{\"bar\":[{\"error_x\":{\"color\":\"#2a3f5f\"},\"error_y\":{\"color\":\"#2a3f5f\"},\"marker\":{\"line\":{\"color\":\"#E5ECF6\",\"width\":0.5},\"pattern\":{\"fillmode\":\"overlay\",\"size\":10,\"solidity\":0.2}},\"type\":\"bar\"}],\"barpolar\":[{\"marker\":{\"line\":{\"color\":\"#E5ECF6\",\"width\":0.5},\"pattern\":{\"fillmode\":\"overlay\",\"size\":10,\"solidity\":0.2}},\"type\":\"barpolar\"}],\"carpet\":[{\"aaxis\":{\"endlinecolor\":\"#2a3f5f\",\"gridcolor\":\"white\",\"linecolor\":\"white\",\"minorgridcolor\":\"white\",\"startlinecolor\":\"#2a3f5f\"},\"baxis\":{\"endlinecolor\":\"#2a3f5f\",\"gridcolor\":\"white\",\"linecolor\":\"white\",\"minorgridcolor\":\"white\",\"startlinecolor\":\"#2a3f5f\"},\"type\":\"carpet\"}],\"choropleth\":[{\"colorbar\":{\"outlinewidth\":0,\"ticks\":\"\"},\"type\":\"choropleth\"}],\"contour\":[{\"colorbar\":{\"outlinewidth\":0,\"ticks\":\"\"},\"colorscale\":[[0.0,\"#0d0887\"],[0.1111111111111111,\"#46039f\"],[0.2222222222222222,\"#7201a8\"],[0.3333333333333333,\"#9c179e\"],[0.4444444444444444,\"#bd3786\"],[0.5555555555555556,\"#d8576b\"],[0.6666666666666666,\"#ed7953\"],[0.7777777777777778,\"#fb9f3a\"],[0.8888888888888888,\"#fdca26\"],[1.0,\"#f0f921\"]],\"type\":\"contour\"}],\"contourcarpet\":[{\"colorbar\":{\"outlinewidth\":0,\"ticks\":\"\"},\"type\":\"contourcarpet\"}],\"heatmap\":[{\"colorbar\":{\"outlinewidth\":0,\"ticks\":\"\"},\"colorscale\":[[0.0,\"#0d0887\"],[0.1111111111111111,\"#46039f\"],[0.2222222222222222,\"#7201a8\"],[0.3333333333333333,\"#9c179e\"],[0.4444444444444444,\"#bd3786\"],[0.5555555555555556,\"#d8576b\"],[0.6666666666666666,\"#ed7953\"],[0.7777777777777778,\"#fb9f3a\"],[0.8888888888888888,\"#fdca26\"],[1.0,\"#f0f921\"]],\"type\":\"heatmap\"}],\"heatmapgl\":[{\"colorbar\":{\"outlinewidth\":0,\"ticks\":\"\"},\"colorscale\":[[0.0,\"#0d0887\"],[0.1111111111111111,\"#46039f\"],[0.2222222222222222,\"#7201a8\"],[0.3333333333333333,\"#9c179e\"],[0.4444444444444444,\"#bd3786\"],[0.5555555555555556,\"#d8576b\"],[0.6666666666666666,\"#ed7953\"],[0.7777777777777778,\"#fb9f3a\"],[0.8888888888888888,\"#fdca26\"],[1.0,\"#f0f921\"]],\"type\":\"heatmapgl\"}],\"histogram\":[{\"marker\":{\"pattern\":{\"fillmode\":\"overlay\",\"size\":10,\"solidity\":0.2}},\"type\":\"histogram\"}],\"histogram2d\":[{\"colorbar\":{\"outlinewidth\":0,\"ticks\":\"\"},\"colorscale\":[[0.0,\"#0d0887\"],[0.1111111111111111,\"#46039f\"],[0.2222222222222222,\"#7201a8\"],[0.3333333333333333,\"#9c179e\"],[0.4444444444444444,\"#bd3786\"],[0.5555555555555556,\"#d8576b\"],[0.6666666666666666,\"#ed7953\"],[0.7777777777777778,\"#fb9f3a\"],[0.8888888888888888,\"#fdca26\"],[1.0,\"#f0f921\"]],\"type\":\"histogram2d\"}],\"histogram2dcontour\":[{\"colorbar\":{\"outlinewidth\":0,\"ticks\":\"\"},\"colorscale\":[[0.0,\"#0d0887\"],[0.1111111111111111,\"#46039f\"],[0.2222222222222222,\"#7201a8\"],[0.3333333333333333,\"#9c179e\"],[0.4444444444444444,\"#bd3786\"],[0.5555555555555556,\"#d8576b\"],[0.6666666666666666,\"#ed7953\"],[0.7777777777777778,\"#fb9f3a\"],[0.8888888888888888,\"#fdca26\"],[1.0,\"#f0f921\"]],\"type\":\"histogram2dcontour\"}],\"mesh3d\":[{\"colorbar\":{\"outlinewidth\":0,\"ticks\":\"\"},\"type\":\"mesh3d\"}],\"parcoords\":[{\"line\":{\"colorbar\":{\"outlinewidth\":0,\"ticks\":\"\"}},\"type\":\"parcoords\"}],\"pie\":[{\"automargin\":true,\"type\":\"pie\"}],\"scatter\":[{\"marker\":{\"colorbar\":{\"outlinewidth\":0,\"ticks\":\"\"}},\"type\":\"scatter\"}],\"scatter3d\":[{\"line\":{\"colorbar\":{\"outlinewidth\":0,\"ticks\":\"\"}},\"marker\":{\"colorbar\":{\"outlinewidth\":0,\"ticks\":\"\"}},\"type\":\"scatter3d\"}],\"scattercarpet\":[{\"marker\":{\"colorbar\":{\"outlinewidth\":0,\"ticks\":\"\"}},\"type\":\"scattercarpet\"}],\"scattergeo\":[{\"marker\":{\"colorbar\":{\"outlinewidth\":0,\"ticks\":\"\"}},\"type\":\"scattergeo\"}],\"scattergl\":[{\"marker\":{\"colorbar\":{\"outlinewidth\":0,\"ticks\":\"\"}},\"type\":\"scattergl\"}],\"scattermapbox\":[{\"marker\":{\"colorbar\":{\"outlinewidth\":0,\"ticks\":\"\"}},\"type\":\"scattermapbox\"}],\"scatterpolar\":[{\"marker\":{\"colorbar\":{\"outlinewidth\":0,\"ticks\":\"\"}},\"type\":\"scatterpolar\"}],\"scatterpolargl\":[{\"marker\":{\"colorbar\":{\"outlinewidth\":0,\"ticks\":\"\"}},\"type\":\"scatterpolargl\"}],\"scatterternary\":[{\"marker\":{\"colorbar\":{\"outlinewidth\":0,\"ticks\":\"\"}},\"type\":\"scatterternary\"}],\"surface\":[{\"colorbar\":{\"outlinewidth\":0,\"ticks\":\"\"},\"colorscale\":[[0.0,\"#0d0887\"],[0.1111111111111111,\"#46039f\"],[0.2222222222222222,\"#7201a8\"],[0.3333333333333333,\"#9c179e\"],[0.4444444444444444,\"#bd3786\"],[0.5555555555555556,\"#d8576b\"],[0.6666666666666666,\"#ed7953\"],[0.7777777777777778,\"#fb9f3a\"],[0.8888888888888888,\"#fdca26\"],[1.0,\"#f0f921\"]],\"type\":\"surface\"}],\"table\":[{\"cells\":{\"fill\":{\"color\":\"#EBF0F8\"},\"line\":{\"color\":\"white\"}},\"header\":{\"fill\":{\"color\":\"#C8D4E3\"},\"line\":{\"color\":\"white\"}},\"type\":\"table\"}]},\"layout\":{\"annotationdefaults\":{\"arrowcolor\":\"#2a3f5f\",\"arrowhead\":0,\"arrowwidth\":1},\"autotypenumbers\":\"strict\",\"coloraxis\":{\"colorbar\":{\"outlinewidth\":0,\"ticks\":\"\"}},\"colorscale\":{\"diverging\":[[0,\"#8e0152\"],[0.1,\"#c51b7d\"],[0.2,\"#de77ae\"],[0.3,\"#f1b6da\"],[0.4,\"#fde0ef\"],[0.5,\"#f7f7f7\"],[0.6,\"#e6f5d0\"],[0.7,\"#b8e186\"],[0.8,\"#7fbc41\"],[0.9,\"#4d9221\"],[1,\"#276419\"]],\"sequential\":[[0.0,\"#0d0887\"],[0.1111111111111111,\"#46039f\"],[0.2222222222222222,\"#7201a8\"],[0.3333333333333333,\"#9c179e\"],[0.4444444444444444,\"#bd3786\"],[0.5555555555555556,\"#d8576b\"],[0.6666666666666666,\"#ed7953\"],[0.7777777777777778,\"#fb9f3a\"],[0.8888888888888888,\"#fdca26\"],[1.0,\"#f0f921\"]],\"sequentialminus\":[[0.0,\"#0d0887\"],[0.1111111111111111,\"#46039f\"],[0.2222222222222222,\"#7201a8\"],[0.3333333333333333,\"#9c179e\"],[0.4444444444444444,\"#bd3786\"],[0.5555555555555556,\"#d8576b\"],[0.6666666666666666,\"#ed7953\"],[0.7777777777777778,\"#fb9f3a\"],[0.8888888888888888,\"#fdca26\"],[1.0,\"#f0f921\"]]},\"colorway\":[\"#636efa\",\"#EF553B\",\"#00cc96\",\"#ab63fa\",\"#FFA15A\",\"#19d3f3\",\"#FF6692\",\"#B6E880\",\"#FF97FF\",\"#FECB52\"],\"font\":{\"color\":\"#2a3f5f\"},\"geo\":{\"bgcolor\":\"white\",\"lakecolor\":\"white\",\"landcolor\":\"#E5ECF6\",\"showlakes\":true,\"showland\":true,\"subunitcolor\":\"white\"},\"hoverlabel\":{\"align\":\"left\"},\"hovermode\":\"closest\",\"mapbox\":{\"style\":\"light\"},\"paper_bgcolor\":\"white\",\"plot_bgcolor\":\"#E5ECF6\",\"polar\":{\"angularaxis\":{\"gridcolor\":\"white\",\"linecolor\":\"white\",\"ticks\":\"\"},\"bgcolor\":\"#E5ECF6\",\"radialaxis\":{\"gridcolor\":\"white\",\"linecolor\":\"white\",\"ticks\":\"\"}},\"scene\":{\"xaxis\":{\"backgroundcolor\":\"#E5ECF6\",\"gridcolor\":\"white\",\"gridwidth\":2,\"linecolor\":\"white\",\"showbackground\":true,\"ticks\":\"\",\"zerolinecolor\":\"white\"},\"yaxis\":{\"backgroundcolor\":\"#E5ECF6\",\"gridcolor\":\"white\",\"gridwidth\":2,\"linecolor\":\"white\",\"showbackground\":true,\"ticks\":\"\",\"zerolinecolor\":\"white\"},\"zaxis\":{\"backgroundcolor\":\"#E5ECF6\",\"gridcolor\":\"white\",\"gridwidth\":2,\"linecolor\":\"white\",\"showbackground\":true,\"ticks\":\"\",\"zerolinecolor\":\"white\"}},\"shapedefaults\":{\"line\":{\"color\":\"#2a3f5f\"}},\"ternary\":{\"aaxis\":{\"gridcolor\":\"white\",\"linecolor\":\"white\",\"ticks\":\"\"},\"baxis\":{\"gridcolor\":\"white\",\"linecolor\":\"white\",\"ticks\":\"\"},\"bgcolor\":\"#E5ECF6\",\"caxis\":{\"gridcolor\":\"white\",\"linecolor\":\"white\",\"ticks\":\"\"}},\"title\":{\"x\":0.05},\"xaxis\":{\"automargin\":true,\"gridcolor\":\"white\",\"linecolor\":\"white\",\"ticks\":\"\",\"title\":{\"standoff\":15},\"zerolinecolor\":\"white\",\"zerolinewidth\":2},\"yaxis\":{\"automargin\":true,\"gridcolor\":\"white\",\"linecolor\":\"white\",\"ticks\":\"\",\"title\":{\"standoff\":15},\"zerolinecolor\":\"white\",\"zerolinewidth\":2}}},\"xaxis\":{\"anchor\":\"y\",\"domain\":[0.0,1.0],\"title\":{\"text\":\"Market\"},\"tickangle\":45},\"yaxis\":{\"anchor\":\"x\",\"domain\":[0.0,1.0],\"title\":{\"text\":\"Total Quantity Sold\"}},\"legend\":{\"tracegroupgap\":0},\"title\":{\"text\":\"Total Quantity of Products Sold per Market\"},\"barmode\":\"relative\"},                        {\"responsive\": true}                    ).then(function(){\n",
       "                            \n",
       "var gd = document.getElementById('574ccae7-e51d-428c-8b89-3727116afc96');\n",
       "var x = new MutationObserver(function (mutations, observer) {{\n",
       "        var display = window.getComputedStyle(gd).display;\n",
       "        if (!display || display === 'none') {{\n",
       "            console.log([gd, 'removed!']);\n",
       "            Plotly.purge(gd);\n",
       "            observer.disconnect();\n",
       "        }}\n",
       "}});\n",
       "\n",
       "// Listen for the removal of the full notebook cells\n",
       "var notebookContainer = gd.closest('#notebook-container');\n",
       "if (notebookContainer) {{\n",
       "    x.observe(notebookContainer, {childList: true});\n",
       "}}\n",
       "\n",
       "// Listen for the clearing of the current output cell\n",
       "var outputEl = gd.closest('.output');\n",
       "if (outputEl) {{\n",
       "    x.observe(outputEl, {childList: true});\n",
       "}}\n",
       "\n",
       "                        })                };                });            </script>        </div>"
      ]
     },
     "metadata": {},
     "output_type": "display_data"
    }
   ],
   "source": [
    "# Establish a connection to the 'atliq_db.sqlite3' SQLite database\n",
    "con = sqlite3.connect('atliq_db.sqlite3')\n",
    "# Execute the query to get the data\n",
    "products_sold_per_market = pd.read_sql_query(products_sold_per_market_query, con)\n",
    "\n",
    "# Create the interactive bar chart using Plotly\n",
    "fig = px.bar(products_sold_per_market, x='market', y='total_quantity_sold_per_market',\n",
    "             labels={'market': 'Market', 'total_quantity_sold_per_market': 'Total Quantity Sold'},\n",
    "             title='Total Quantity of Products Sold per Market')\n",
    "\n",
    "# Rotate x-axis labels for better readability\n",
    "fig.update_xaxes(tickangle=45)\n",
    "\n",
    "# Show the interactive chart\n",
    "fig.show()"
   ]
  },
  {
   "cell_type": "markdown",
   "id": "f903ce49-a6b4-45e6-b3af-a9137713b681",
   "metadata": {},
   "source": [
    "<span style=\"font-family: Arial; font-size: 24px;\">Conclusion:</span> We can see through the data that the vast majority of sales are coming in from India, with the US coming at about half that in the market. Likely the reasoning behind this is the importance of technological improvements found in India, and they seem to find our products more appealing, while in the US we have multiple competitors which is why there is a drop. Additionally looking at our bottom categories we can see that the LATAM market is not selling as many units. This likely can be for economic reasons. Likely a good solution for this would be to sell some of our older models for cheaper prices in these countries."
   ]
  },
  {
   "cell_type": "markdown",
   "id": "b2854880-105f-4463-bded-204d0c4c2a06",
   "metadata": {},
   "source": [
    "<span style=\"font-family: Arial; font-size: 24px;\">What are sales for categories?:</span>"
   ]
  },
  {
   "cell_type": "code",
   "execution_count": 134,
   "id": "cd0f09a4-a8ea-4579-9a98-eea992f46740",
   "metadata": {
    "tags": []
   },
   "outputs": [
    {
     "name": "stdout",
     "output_type": "stream",
     "text": [
      "            market      category  total_quantity_sold\n",
      "0        Australia  Internal HDD               115478\n",
      "1        Australia  Graphic Card                25610\n",
      "2          Austria  Internal HDD                11516\n",
      "3          Austria  Graphic Card                 1458\n",
      "4       Bangladesh  Internal HDD                33218\n",
      "5       Bangladesh  Graphic Card                 6269\n",
      "6           Brazil  Internal HDD                 7009\n",
      "7           Brazil  Graphic Card                 2268\n",
      "8           Canada  Internal HDD               167542\n",
      "9           Canada  Graphic Card                29526\n",
      "10           Chile  Internal HDD                 2363\n",
      "11           Chile  Graphic Card                  352\n",
      "12           China  Internal HDD                93013\n",
      "13           China  Graphic Card                14624\n",
      "14        Columbia  Internal HDD                  659\n",
      "15        Columbia  Graphic Card                  100\n",
      "16          France  Internal HDD               122667\n",
      "17          France  Graphic Card                25186\n",
      "18         Germany  Internal HDD                73623\n",
      "19         Germany  Graphic Card                15292\n",
      "20           India  Internal HDD               886756\n",
      "21           India  Graphic Card               200954\n",
      "22       Indonesia  Internal HDD                91393\n",
      "23       Indonesia  Graphic Card                18493\n",
      "24           Italy  Internal HDD                77431\n",
      "25           Italy  Graphic Card                15706\n",
      "26           Japan  Internal HDD                28645\n",
      "27           Japan  Graphic Card                 4423\n",
      "28          Mexico  Internal HDD                 5559\n",
      "29          Mexico  Graphic Card                 1229\n",
      "30     Netherlands  Internal HDD                41088\n",
      "31     Netherlands  Graphic Card                 7133\n",
      "32      Newzealand  Internal HDD                45135\n",
      "33      Newzealand  Graphic Card                 6378\n",
      "34          Norway  Internal HDD                71836\n",
      "35          Norway  Graphic Card                10240\n",
      "36        Pakistan  Internal HDD                32472\n",
      "37        Pakistan  Graphic Card                 6883\n",
      "38     Philiphines  Internal HDD               158445\n",
      "39     Philiphines  Graphic Card                33439\n",
      "40          Poland  Internal HDD                28420\n",
      "41          Poland  Graphic Card                 5422\n",
      "42        Portugal  Internal HDD                61509\n",
      "43        Portugal  Graphic Card                10428\n",
      "44     South Korea  Internal HDD               268821\n",
      "45     South Korea  Graphic Card                72946\n",
      "46           Spain  Internal HDD                55093\n",
      "47           Spain  Graphic Card                 8283\n",
      "48          Sweden  Internal HDD                 7344\n",
      "49          Sweden  Graphic Card                  979\n",
      "50             USA  Internal HDD               504178\n",
      "51             USA  Graphic Card               105647\n",
      "52  United Kingdom  Internal HDD               139186\n",
      "53  United Kingdom  Graphic Card                23268\n"
     ]
    }
   ],
   "source": [
    "# Establish a connection to the 'atliq_db.sqlite3' SQLite database\n",
    "con = sqlite3.connect('atliq_db.sqlite3')\n",
    "# SQL query to identify the most popular categories in terms of sales across markets (descending order)\n",
    "popular_categories_per_market_query = \"\"\"\n",
    "SELECT \n",
    "    dc.market, \n",
    "    dp.category, \n",
    "    SUM(fs.sold_quantity) AS total_quantity_sold\n",
    "FROM \n",
    "    fact_sales_monthly fs\n",
    "JOIN \n",
    "    dim_customer dc ON fs.customer_code = dc.customer_code\n",
    "JOIN \n",
    "    dim_product dp ON fs.product_code = dp.product_code\n",
    "GROUP BY \n",
    "    dc.market, \n",
    "    dp.category\n",
    "ORDER BY \n",
    "    dc.market, \n",
    "    SUM(fs.sold_quantity) DESC;\n",
    "\"\"\"\n",
    "\n",
    "# Execute the query and read the results into a DataFrame\n",
    "popular_categories_per_market = pd.read_sql_query(popular_categories_per_market_query, con)\n",
    "print(popular_categories_per_market)"
   ]
  },
  {
   "cell_type": "code",
   "execution_count": 135,
   "id": "567510f6-a6e1-4d3e-8a6c-cc8fe3e49fdb",
   "metadata": {
    "tags": []
   },
   "outputs": [
    {
     "data": {
      "application/vnd.plotly.v1+json": {
       "config": {
        "plotlyServerURL": "https://plot.ly"
       },
       "data": [
        {
         "alignmentgroup": "True",
         "hovertemplate": "Category: %{y}",
         "legendgroup": "Graphic Card",
         "marker": {
          "color": "#636efa",
          "pattern": {
           "shape": ""
          }
         },
         "name": "Graphic Card",
         "offsetgroup": "Graphic Card",
         "orientation": "v",
         "showlegend": true,
         "textposition": "auto",
         "type": "bar",
         "x": [
          "India",
          "USA",
          "South Korea",
          "Canada",
          "Philiphines",
          "United Kingdom",
          "France",
          "Australia",
          "Indonesia",
          "China",
          "Italy",
          "Germany",
          "Norway",
          "Portugal",
          "Spain",
          "Newzealand",
          "Netherlands",
          "Bangladesh",
          "Pakistan",
          "Poland",
          "Japan",
          "Austria",
          "Brazil",
          "Sweden",
          "Mexico",
          "Chile",
          "Columbia"
         ],
         "xaxis": "x",
         "y": [
          200954,
          105647,
          72946,
          29526,
          33439,
          23268,
          25186,
          25610,
          18493,
          14624,
          15706,
          15292,
          10240,
          10428,
          8283,
          6378,
          7133,
          6269,
          6883,
          5422,
          4423,
          1458,
          2268,
          979,
          1229,
          352,
          100
         ],
         "yaxis": "y"
        },
        {
         "alignmentgroup": "True",
         "hovertemplate": "Category: %{y}",
         "legendgroup": "Internal HDD",
         "marker": {
          "color": "#EF553B",
          "pattern": {
           "shape": ""
          }
         },
         "name": "Internal HDD",
         "offsetgroup": "Internal HDD",
         "orientation": "v",
         "showlegend": true,
         "textposition": "auto",
         "type": "bar",
         "x": [
          "India",
          "USA",
          "South Korea",
          "Canada",
          "Philiphines",
          "United Kingdom",
          "France",
          "Australia",
          "Indonesia",
          "China",
          "Italy",
          "Germany",
          "Norway",
          "Portugal",
          "Spain",
          "Newzealand",
          "Netherlands",
          "Bangladesh",
          "Pakistan",
          "Poland",
          "Japan",
          "Austria",
          "Brazil",
          "Sweden",
          "Mexico",
          "Chile",
          "Columbia"
         ],
         "xaxis": "x",
         "y": [
          886756,
          504178,
          268821,
          167542,
          158445,
          139186,
          122667,
          115478,
          91393,
          93013,
          77431,
          73623,
          71836,
          61509,
          55093,
          45135,
          41088,
          33218,
          32472,
          28420,
          28645,
          11516,
          7009,
          7344,
          5559,
          2363,
          659
         ],
         "yaxis": "y"
        }
       ],
       "layout": {
        "barmode": "stack",
        "height": 600,
        "legend": {
         "title": {
          "text": "category"
         },
         "tracegroupgap": 0
        },
        "template": {
         "data": {
          "bar": [
           {
            "error_x": {
             "color": "#2a3f5f"
            },
            "error_y": {
             "color": "#2a3f5f"
            },
            "marker": {
             "line": {
              "color": "#E5ECF6",
              "width": 0.5
             },
             "pattern": {
              "fillmode": "overlay",
              "size": 10,
              "solidity": 0.2
             }
            },
            "type": "bar"
           }
          ],
          "barpolar": [
           {
            "marker": {
             "line": {
              "color": "#E5ECF6",
              "width": 0.5
             },
             "pattern": {
              "fillmode": "overlay",
              "size": 10,
              "solidity": 0.2
             }
            },
            "type": "barpolar"
           }
          ],
          "carpet": [
           {
            "aaxis": {
             "endlinecolor": "#2a3f5f",
             "gridcolor": "white",
             "linecolor": "white",
             "minorgridcolor": "white",
             "startlinecolor": "#2a3f5f"
            },
            "baxis": {
             "endlinecolor": "#2a3f5f",
             "gridcolor": "white",
             "linecolor": "white",
             "minorgridcolor": "white",
             "startlinecolor": "#2a3f5f"
            },
            "type": "carpet"
           }
          ],
          "choropleth": [
           {
            "colorbar": {
             "outlinewidth": 0,
             "ticks": ""
            },
            "type": "choropleth"
           }
          ],
          "contour": [
           {
            "colorbar": {
             "outlinewidth": 0,
             "ticks": ""
            },
            "colorscale": [
             [
              0,
              "#0d0887"
             ],
             [
              0.1111111111111111,
              "#46039f"
             ],
             [
              0.2222222222222222,
              "#7201a8"
             ],
             [
              0.3333333333333333,
              "#9c179e"
             ],
             [
              0.4444444444444444,
              "#bd3786"
             ],
             [
              0.5555555555555556,
              "#d8576b"
             ],
             [
              0.6666666666666666,
              "#ed7953"
             ],
             [
              0.7777777777777778,
              "#fb9f3a"
             ],
             [
              0.8888888888888888,
              "#fdca26"
             ],
             [
              1,
              "#f0f921"
             ]
            ],
            "type": "contour"
           }
          ],
          "contourcarpet": [
           {
            "colorbar": {
             "outlinewidth": 0,
             "ticks": ""
            },
            "type": "contourcarpet"
           }
          ],
          "heatmap": [
           {
            "colorbar": {
             "outlinewidth": 0,
             "ticks": ""
            },
            "colorscale": [
             [
              0,
              "#0d0887"
             ],
             [
              0.1111111111111111,
              "#46039f"
             ],
             [
              0.2222222222222222,
              "#7201a8"
             ],
             [
              0.3333333333333333,
              "#9c179e"
             ],
             [
              0.4444444444444444,
              "#bd3786"
             ],
             [
              0.5555555555555556,
              "#d8576b"
             ],
             [
              0.6666666666666666,
              "#ed7953"
             ],
             [
              0.7777777777777778,
              "#fb9f3a"
             ],
             [
              0.8888888888888888,
              "#fdca26"
             ],
             [
              1,
              "#f0f921"
             ]
            ],
            "type": "heatmap"
           }
          ],
          "heatmapgl": [
           {
            "colorbar": {
             "outlinewidth": 0,
             "ticks": ""
            },
            "colorscale": [
             [
              0,
              "#0d0887"
             ],
             [
              0.1111111111111111,
              "#46039f"
             ],
             [
              0.2222222222222222,
              "#7201a8"
             ],
             [
              0.3333333333333333,
              "#9c179e"
             ],
             [
              0.4444444444444444,
              "#bd3786"
             ],
             [
              0.5555555555555556,
              "#d8576b"
             ],
             [
              0.6666666666666666,
              "#ed7953"
             ],
             [
              0.7777777777777778,
              "#fb9f3a"
             ],
             [
              0.8888888888888888,
              "#fdca26"
             ],
             [
              1,
              "#f0f921"
             ]
            ],
            "type": "heatmapgl"
           }
          ],
          "histogram": [
           {
            "marker": {
             "pattern": {
              "fillmode": "overlay",
              "size": 10,
              "solidity": 0.2
             }
            },
            "type": "histogram"
           }
          ],
          "histogram2d": [
           {
            "colorbar": {
             "outlinewidth": 0,
             "ticks": ""
            },
            "colorscale": [
             [
              0,
              "#0d0887"
             ],
             [
              0.1111111111111111,
              "#46039f"
             ],
             [
              0.2222222222222222,
              "#7201a8"
             ],
             [
              0.3333333333333333,
              "#9c179e"
             ],
             [
              0.4444444444444444,
              "#bd3786"
             ],
             [
              0.5555555555555556,
              "#d8576b"
             ],
             [
              0.6666666666666666,
              "#ed7953"
             ],
             [
              0.7777777777777778,
              "#fb9f3a"
             ],
             [
              0.8888888888888888,
              "#fdca26"
             ],
             [
              1,
              "#f0f921"
             ]
            ],
            "type": "histogram2d"
           }
          ],
          "histogram2dcontour": [
           {
            "colorbar": {
             "outlinewidth": 0,
             "ticks": ""
            },
            "colorscale": [
             [
              0,
              "#0d0887"
             ],
             [
              0.1111111111111111,
              "#46039f"
             ],
             [
              0.2222222222222222,
              "#7201a8"
             ],
             [
              0.3333333333333333,
              "#9c179e"
             ],
             [
              0.4444444444444444,
              "#bd3786"
             ],
             [
              0.5555555555555556,
              "#d8576b"
             ],
             [
              0.6666666666666666,
              "#ed7953"
             ],
             [
              0.7777777777777778,
              "#fb9f3a"
             ],
             [
              0.8888888888888888,
              "#fdca26"
             ],
             [
              1,
              "#f0f921"
             ]
            ],
            "type": "histogram2dcontour"
           }
          ],
          "mesh3d": [
           {
            "colorbar": {
             "outlinewidth": 0,
             "ticks": ""
            },
            "type": "mesh3d"
           }
          ],
          "parcoords": [
           {
            "line": {
             "colorbar": {
              "outlinewidth": 0,
              "ticks": ""
             }
            },
            "type": "parcoords"
           }
          ],
          "pie": [
           {
            "automargin": true,
            "type": "pie"
           }
          ],
          "scatter": [
           {
            "marker": {
             "colorbar": {
              "outlinewidth": 0,
              "ticks": ""
             }
            },
            "type": "scatter"
           }
          ],
          "scatter3d": [
           {
            "line": {
             "colorbar": {
              "outlinewidth": 0,
              "ticks": ""
             }
            },
            "marker": {
             "colorbar": {
              "outlinewidth": 0,
              "ticks": ""
             }
            },
            "type": "scatter3d"
           }
          ],
          "scattercarpet": [
           {
            "marker": {
             "colorbar": {
              "outlinewidth": 0,
              "ticks": ""
             }
            },
            "type": "scattercarpet"
           }
          ],
          "scattergeo": [
           {
            "marker": {
             "colorbar": {
              "outlinewidth": 0,
              "ticks": ""
             }
            },
            "type": "scattergeo"
           }
          ],
          "scattergl": [
           {
            "marker": {
             "colorbar": {
              "outlinewidth": 0,
              "ticks": ""
             }
            },
            "type": "scattergl"
           }
          ],
          "scattermapbox": [
           {
            "marker": {
             "colorbar": {
              "outlinewidth": 0,
              "ticks": ""
             }
            },
            "type": "scattermapbox"
           }
          ],
          "scatterpolar": [
           {
            "marker": {
             "colorbar": {
              "outlinewidth": 0,
              "ticks": ""
             }
            },
            "type": "scatterpolar"
           }
          ],
          "scatterpolargl": [
           {
            "marker": {
             "colorbar": {
              "outlinewidth": 0,
              "ticks": ""
             }
            },
            "type": "scatterpolargl"
           }
          ],
          "scatterternary": [
           {
            "marker": {
             "colorbar": {
              "outlinewidth": 0,
              "ticks": ""
             }
            },
            "type": "scatterternary"
           }
          ],
          "surface": [
           {
            "colorbar": {
             "outlinewidth": 0,
             "ticks": ""
            },
            "colorscale": [
             [
              0,
              "#0d0887"
             ],
             [
              0.1111111111111111,
              "#46039f"
             ],
             [
              0.2222222222222222,
              "#7201a8"
             ],
             [
              0.3333333333333333,
              "#9c179e"
             ],
             [
              0.4444444444444444,
              "#bd3786"
             ],
             [
              0.5555555555555556,
              "#d8576b"
             ],
             [
              0.6666666666666666,
              "#ed7953"
             ],
             [
              0.7777777777777778,
              "#fb9f3a"
             ],
             [
              0.8888888888888888,
              "#fdca26"
             ],
             [
              1,
              "#f0f921"
             ]
            ],
            "type": "surface"
           }
          ],
          "table": [
           {
            "cells": {
             "fill": {
              "color": "#EBF0F8"
             },
             "line": {
              "color": "white"
             }
            },
            "header": {
             "fill": {
              "color": "#C8D4E3"
             },
             "line": {
              "color": "white"
             }
            },
            "type": "table"
           }
          ]
         },
         "layout": {
          "annotationdefaults": {
           "arrowcolor": "#2a3f5f",
           "arrowhead": 0,
           "arrowwidth": 1
          },
          "autotypenumbers": "strict",
          "coloraxis": {
           "colorbar": {
            "outlinewidth": 0,
            "ticks": ""
           }
          },
          "colorscale": {
           "diverging": [
            [
             0,
             "#8e0152"
            ],
            [
             0.1,
             "#c51b7d"
            ],
            [
             0.2,
             "#de77ae"
            ],
            [
             0.3,
             "#f1b6da"
            ],
            [
             0.4,
             "#fde0ef"
            ],
            [
             0.5,
             "#f7f7f7"
            ],
            [
             0.6,
             "#e6f5d0"
            ],
            [
             0.7,
             "#b8e186"
            ],
            [
             0.8,
             "#7fbc41"
            ],
            [
             0.9,
             "#4d9221"
            ],
            [
             1,
             "#276419"
            ]
           ],
           "sequential": [
            [
             0,
             "#0d0887"
            ],
            [
             0.1111111111111111,
             "#46039f"
            ],
            [
             0.2222222222222222,
             "#7201a8"
            ],
            [
             0.3333333333333333,
             "#9c179e"
            ],
            [
             0.4444444444444444,
             "#bd3786"
            ],
            [
             0.5555555555555556,
             "#d8576b"
            ],
            [
             0.6666666666666666,
             "#ed7953"
            ],
            [
             0.7777777777777778,
             "#fb9f3a"
            ],
            [
             0.8888888888888888,
             "#fdca26"
            ],
            [
             1,
             "#f0f921"
            ]
           ],
           "sequentialminus": [
            [
             0,
             "#0d0887"
            ],
            [
             0.1111111111111111,
             "#46039f"
            ],
            [
             0.2222222222222222,
             "#7201a8"
            ],
            [
             0.3333333333333333,
             "#9c179e"
            ],
            [
             0.4444444444444444,
             "#bd3786"
            ],
            [
             0.5555555555555556,
             "#d8576b"
            ],
            [
             0.6666666666666666,
             "#ed7953"
            ],
            [
             0.7777777777777778,
             "#fb9f3a"
            ],
            [
             0.8888888888888888,
             "#fdca26"
            ],
            [
             1,
             "#f0f921"
            ]
           ]
          },
          "colorway": [
           "#636efa",
           "#EF553B",
           "#00cc96",
           "#ab63fa",
           "#FFA15A",
           "#19d3f3",
           "#FF6692",
           "#B6E880",
           "#FF97FF",
           "#FECB52"
          ],
          "font": {
           "color": "#2a3f5f"
          },
          "geo": {
           "bgcolor": "white",
           "lakecolor": "white",
           "landcolor": "#E5ECF6",
           "showlakes": true,
           "showland": true,
           "subunitcolor": "white"
          },
          "hoverlabel": {
           "align": "left"
          },
          "hovermode": "closest",
          "mapbox": {
           "style": "light"
          },
          "paper_bgcolor": "white",
          "plot_bgcolor": "#E5ECF6",
          "polar": {
           "angularaxis": {
            "gridcolor": "white",
            "linecolor": "white",
            "ticks": ""
           },
           "bgcolor": "#E5ECF6",
           "radialaxis": {
            "gridcolor": "white",
            "linecolor": "white",
            "ticks": ""
           }
          },
          "scene": {
           "xaxis": {
            "backgroundcolor": "#E5ECF6",
            "gridcolor": "white",
            "gridwidth": 2,
            "linecolor": "white",
            "showbackground": true,
            "ticks": "",
            "zerolinecolor": "white"
           },
           "yaxis": {
            "backgroundcolor": "#E5ECF6",
            "gridcolor": "white",
            "gridwidth": 2,
            "linecolor": "white",
            "showbackground": true,
            "ticks": "",
            "zerolinecolor": "white"
           },
           "zaxis": {
            "backgroundcolor": "#E5ECF6",
            "gridcolor": "white",
            "gridwidth": 2,
            "linecolor": "white",
            "showbackground": true,
            "ticks": "",
            "zerolinecolor": "white"
           }
          },
          "shapedefaults": {
           "line": {
            "color": "#2a3f5f"
           }
          },
          "ternary": {
           "aaxis": {
            "gridcolor": "white",
            "linecolor": "white",
            "ticks": ""
           },
           "baxis": {
            "gridcolor": "white",
            "linecolor": "white",
            "ticks": ""
           },
           "bgcolor": "#E5ECF6",
           "caxis": {
            "gridcolor": "white",
            "linecolor": "white",
            "ticks": ""
           }
          },
          "title": {
           "x": 0.05
          },
          "xaxis": {
           "automargin": true,
           "gridcolor": "white",
           "linecolor": "white",
           "ticks": "",
           "title": {
            "standoff": 15
           },
           "zerolinecolor": "white",
           "zerolinewidth": 2
          },
          "yaxis": {
           "automargin": true,
           "gridcolor": "white",
           "linecolor": "white",
           "ticks": "",
           "title": {
            "standoff": 15
           },
           "zerolinecolor": "white",
           "zerolinewidth": 2
          }
         }
        },
        "title": {
         "text": "Total Quantity of Products Sold by Category Across Markets"
        },
        "width": 1000,
        "xaxis": {
         "anchor": "y",
         "domain": [
          0,
          1
         ],
         "title": {
          "text": "Market"
         }
        },
        "yaxis": {
         "anchor": "x",
         "domain": [
          0,
          1
         ],
         "title": {
          "text": "Total Quantity Sold"
         }
        }
       }
      },
      "text/html": [
       "<div>                            <div id=\"76565719-23e4-4ec8-8ff7-446c66e4b799\" class=\"plotly-graph-div\" style=\"height:600px; width:1000px;\"></div>            <script type=\"text/javascript\">                require([\"plotly\"], function(Plotly) {                    window.PLOTLYENV=window.PLOTLYENV || {};                                    if (document.getElementById(\"76565719-23e4-4ec8-8ff7-446c66e4b799\")) {                    Plotly.newPlot(                        \"76565719-23e4-4ec8-8ff7-446c66e4b799\",                        [{\"alignmentgroup\":\"True\",\"hovertemplate\":\"Category: %{y}\",\"legendgroup\":\"Graphic Card\",\"marker\":{\"color\":\"#636efa\",\"pattern\":{\"shape\":\"\"}},\"name\":\"Graphic Card\",\"offsetgroup\":\"Graphic Card\",\"orientation\":\"v\",\"showlegend\":true,\"textposition\":\"auto\",\"x\":[\"India\",\"USA\",\"South Korea\",\"Canada\",\"Philiphines\",\"United Kingdom\",\"France\",\"Australia\",\"Indonesia\",\"China\",\"Italy\",\"Germany\",\"Norway\",\"Portugal\",\"Spain\",\"Newzealand\",\"Netherlands\",\"Bangladesh\",\"Pakistan\",\"Poland\",\"Japan\",\"Austria\",\"Brazil\",\"Sweden\",\"Mexico\",\"Chile\",\"Columbia\"],\"xaxis\":\"x\",\"y\":[200954,105647,72946,29526,33439,23268,25186,25610,18493,14624,15706,15292,10240,10428,8283,6378,7133,6269,6883,5422,4423,1458,2268,979,1229,352,100],\"yaxis\":\"y\",\"type\":\"bar\"},{\"alignmentgroup\":\"True\",\"hovertemplate\":\"Category: %{y}\",\"legendgroup\":\"Internal HDD\",\"marker\":{\"color\":\"#EF553B\",\"pattern\":{\"shape\":\"\"}},\"name\":\"Internal HDD\",\"offsetgroup\":\"Internal HDD\",\"orientation\":\"v\",\"showlegend\":true,\"textposition\":\"auto\",\"x\":[\"India\",\"USA\",\"South Korea\",\"Canada\",\"Philiphines\",\"United Kingdom\",\"France\",\"Australia\",\"Indonesia\",\"China\",\"Italy\",\"Germany\",\"Norway\",\"Portugal\",\"Spain\",\"Newzealand\",\"Netherlands\",\"Bangladesh\",\"Pakistan\",\"Poland\",\"Japan\",\"Austria\",\"Brazil\",\"Sweden\",\"Mexico\",\"Chile\",\"Columbia\"],\"xaxis\":\"x\",\"y\":[886756,504178,268821,167542,158445,139186,122667,115478,91393,93013,77431,73623,71836,61509,55093,45135,41088,33218,32472,28420,28645,11516,7009,7344,5559,2363,659],\"yaxis\":\"y\",\"type\":\"bar\"}],                        {\"template\":{\"data\":{\"bar\":[{\"error_x\":{\"color\":\"#2a3f5f\"},\"error_y\":{\"color\":\"#2a3f5f\"},\"marker\":{\"line\":{\"color\":\"#E5ECF6\",\"width\":0.5},\"pattern\":{\"fillmode\":\"overlay\",\"size\":10,\"solidity\":0.2}},\"type\":\"bar\"}],\"barpolar\":[{\"marker\":{\"line\":{\"color\":\"#E5ECF6\",\"width\":0.5},\"pattern\":{\"fillmode\":\"overlay\",\"size\":10,\"solidity\":0.2}},\"type\":\"barpolar\"}],\"carpet\":[{\"aaxis\":{\"endlinecolor\":\"#2a3f5f\",\"gridcolor\":\"white\",\"linecolor\":\"white\",\"minorgridcolor\":\"white\",\"startlinecolor\":\"#2a3f5f\"},\"baxis\":{\"endlinecolor\":\"#2a3f5f\",\"gridcolor\":\"white\",\"linecolor\":\"white\",\"minorgridcolor\":\"white\",\"startlinecolor\":\"#2a3f5f\"},\"type\":\"carpet\"}],\"choropleth\":[{\"colorbar\":{\"outlinewidth\":0,\"ticks\":\"\"},\"type\":\"choropleth\"}],\"contour\":[{\"colorbar\":{\"outlinewidth\":0,\"ticks\":\"\"},\"colorscale\":[[0.0,\"#0d0887\"],[0.1111111111111111,\"#46039f\"],[0.2222222222222222,\"#7201a8\"],[0.3333333333333333,\"#9c179e\"],[0.4444444444444444,\"#bd3786\"],[0.5555555555555556,\"#d8576b\"],[0.6666666666666666,\"#ed7953\"],[0.7777777777777778,\"#fb9f3a\"],[0.8888888888888888,\"#fdca26\"],[1.0,\"#f0f921\"]],\"type\":\"contour\"}],\"contourcarpet\":[{\"colorbar\":{\"outlinewidth\":0,\"ticks\":\"\"},\"type\":\"contourcarpet\"}],\"heatmap\":[{\"colorbar\":{\"outlinewidth\":0,\"ticks\":\"\"},\"colorscale\":[[0.0,\"#0d0887\"],[0.1111111111111111,\"#46039f\"],[0.2222222222222222,\"#7201a8\"],[0.3333333333333333,\"#9c179e\"],[0.4444444444444444,\"#bd3786\"],[0.5555555555555556,\"#d8576b\"],[0.6666666666666666,\"#ed7953\"],[0.7777777777777778,\"#fb9f3a\"],[0.8888888888888888,\"#fdca26\"],[1.0,\"#f0f921\"]],\"type\":\"heatmap\"}],\"heatmapgl\":[{\"colorbar\":{\"outlinewidth\":0,\"ticks\":\"\"},\"colorscale\":[[0.0,\"#0d0887\"],[0.1111111111111111,\"#46039f\"],[0.2222222222222222,\"#7201a8\"],[0.3333333333333333,\"#9c179e\"],[0.4444444444444444,\"#bd3786\"],[0.5555555555555556,\"#d8576b\"],[0.6666666666666666,\"#ed7953\"],[0.7777777777777778,\"#fb9f3a\"],[0.8888888888888888,\"#fdca26\"],[1.0,\"#f0f921\"]],\"type\":\"heatmapgl\"}],\"histogram\":[{\"marker\":{\"pattern\":{\"fillmode\":\"overlay\",\"size\":10,\"solidity\":0.2}},\"type\":\"histogram\"}],\"histogram2d\":[{\"colorbar\":{\"outlinewidth\":0,\"ticks\":\"\"},\"colorscale\":[[0.0,\"#0d0887\"],[0.1111111111111111,\"#46039f\"],[0.2222222222222222,\"#7201a8\"],[0.3333333333333333,\"#9c179e\"],[0.4444444444444444,\"#bd3786\"],[0.5555555555555556,\"#d8576b\"],[0.6666666666666666,\"#ed7953\"],[0.7777777777777778,\"#fb9f3a\"],[0.8888888888888888,\"#fdca26\"],[1.0,\"#f0f921\"]],\"type\":\"histogram2d\"}],\"histogram2dcontour\":[{\"colorbar\":{\"outlinewidth\":0,\"ticks\":\"\"},\"colorscale\":[[0.0,\"#0d0887\"],[0.1111111111111111,\"#46039f\"],[0.2222222222222222,\"#7201a8\"],[0.3333333333333333,\"#9c179e\"],[0.4444444444444444,\"#bd3786\"],[0.5555555555555556,\"#d8576b\"],[0.6666666666666666,\"#ed7953\"],[0.7777777777777778,\"#fb9f3a\"],[0.8888888888888888,\"#fdca26\"],[1.0,\"#f0f921\"]],\"type\":\"histogram2dcontour\"}],\"mesh3d\":[{\"colorbar\":{\"outlinewidth\":0,\"ticks\":\"\"},\"type\":\"mesh3d\"}],\"parcoords\":[{\"line\":{\"colorbar\":{\"outlinewidth\":0,\"ticks\":\"\"}},\"type\":\"parcoords\"}],\"pie\":[{\"automargin\":true,\"type\":\"pie\"}],\"scatter\":[{\"marker\":{\"colorbar\":{\"outlinewidth\":0,\"ticks\":\"\"}},\"type\":\"scatter\"}],\"scatter3d\":[{\"line\":{\"colorbar\":{\"outlinewidth\":0,\"ticks\":\"\"}},\"marker\":{\"colorbar\":{\"outlinewidth\":0,\"ticks\":\"\"}},\"type\":\"scatter3d\"}],\"scattercarpet\":[{\"marker\":{\"colorbar\":{\"outlinewidth\":0,\"ticks\":\"\"}},\"type\":\"scattercarpet\"}],\"scattergeo\":[{\"marker\":{\"colorbar\":{\"outlinewidth\":0,\"ticks\":\"\"}},\"type\":\"scattergeo\"}],\"scattergl\":[{\"marker\":{\"colorbar\":{\"outlinewidth\":0,\"ticks\":\"\"}},\"type\":\"scattergl\"}],\"scattermapbox\":[{\"marker\":{\"colorbar\":{\"outlinewidth\":0,\"ticks\":\"\"}},\"type\":\"scattermapbox\"}],\"scatterpolar\":[{\"marker\":{\"colorbar\":{\"outlinewidth\":0,\"ticks\":\"\"}},\"type\":\"scatterpolar\"}],\"scatterpolargl\":[{\"marker\":{\"colorbar\":{\"outlinewidth\":0,\"ticks\":\"\"}},\"type\":\"scatterpolargl\"}],\"scatterternary\":[{\"marker\":{\"colorbar\":{\"outlinewidth\":0,\"ticks\":\"\"}},\"type\":\"scatterternary\"}],\"surface\":[{\"colorbar\":{\"outlinewidth\":0,\"ticks\":\"\"},\"colorscale\":[[0.0,\"#0d0887\"],[0.1111111111111111,\"#46039f\"],[0.2222222222222222,\"#7201a8\"],[0.3333333333333333,\"#9c179e\"],[0.4444444444444444,\"#bd3786\"],[0.5555555555555556,\"#d8576b\"],[0.6666666666666666,\"#ed7953\"],[0.7777777777777778,\"#fb9f3a\"],[0.8888888888888888,\"#fdca26\"],[1.0,\"#f0f921\"]],\"type\":\"surface\"}],\"table\":[{\"cells\":{\"fill\":{\"color\":\"#EBF0F8\"},\"line\":{\"color\":\"white\"}},\"header\":{\"fill\":{\"color\":\"#C8D4E3\"},\"line\":{\"color\":\"white\"}},\"type\":\"table\"}]},\"layout\":{\"annotationdefaults\":{\"arrowcolor\":\"#2a3f5f\",\"arrowhead\":0,\"arrowwidth\":1},\"autotypenumbers\":\"strict\",\"coloraxis\":{\"colorbar\":{\"outlinewidth\":0,\"ticks\":\"\"}},\"colorscale\":{\"diverging\":[[0,\"#8e0152\"],[0.1,\"#c51b7d\"],[0.2,\"#de77ae\"],[0.3,\"#f1b6da\"],[0.4,\"#fde0ef\"],[0.5,\"#f7f7f7\"],[0.6,\"#e6f5d0\"],[0.7,\"#b8e186\"],[0.8,\"#7fbc41\"],[0.9,\"#4d9221\"],[1,\"#276419\"]],\"sequential\":[[0.0,\"#0d0887\"],[0.1111111111111111,\"#46039f\"],[0.2222222222222222,\"#7201a8\"],[0.3333333333333333,\"#9c179e\"],[0.4444444444444444,\"#bd3786\"],[0.5555555555555556,\"#d8576b\"],[0.6666666666666666,\"#ed7953\"],[0.7777777777777778,\"#fb9f3a\"],[0.8888888888888888,\"#fdca26\"],[1.0,\"#f0f921\"]],\"sequentialminus\":[[0.0,\"#0d0887\"],[0.1111111111111111,\"#46039f\"],[0.2222222222222222,\"#7201a8\"],[0.3333333333333333,\"#9c179e\"],[0.4444444444444444,\"#bd3786\"],[0.5555555555555556,\"#d8576b\"],[0.6666666666666666,\"#ed7953\"],[0.7777777777777778,\"#fb9f3a\"],[0.8888888888888888,\"#fdca26\"],[1.0,\"#f0f921\"]]},\"colorway\":[\"#636efa\",\"#EF553B\",\"#00cc96\",\"#ab63fa\",\"#FFA15A\",\"#19d3f3\",\"#FF6692\",\"#B6E880\",\"#FF97FF\",\"#FECB52\"],\"font\":{\"color\":\"#2a3f5f\"},\"geo\":{\"bgcolor\":\"white\",\"lakecolor\":\"white\",\"landcolor\":\"#E5ECF6\",\"showlakes\":true,\"showland\":true,\"subunitcolor\":\"white\"},\"hoverlabel\":{\"align\":\"left\"},\"hovermode\":\"closest\",\"mapbox\":{\"style\":\"light\"},\"paper_bgcolor\":\"white\",\"plot_bgcolor\":\"#E5ECF6\",\"polar\":{\"angularaxis\":{\"gridcolor\":\"white\",\"linecolor\":\"white\",\"ticks\":\"\"},\"bgcolor\":\"#E5ECF6\",\"radialaxis\":{\"gridcolor\":\"white\",\"linecolor\":\"white\",\"ticks\":\"\"}},\"scene\":{\"xaxis\":{\"backgroundcolor\":\"#E5ECF6\",\"gridcolor\":\"white\",\"gridwidth\":2,\"linecolor\":\"white\",\"showbackground\":true,\"ticks\":\"\",\"zerolinecolor\":\"white\"},\"yaxis\":{\"backgroundcolor\":\"#E5ECF6\",\"gridcolor\":\"white\",\"gridwidth\":2,\"linecolor\":\"white\",\"showbackground\":true,\"ticks\":\"\",\"zerolinecolor\":\"white\"},\"zaxis\":{\"backgroundcolor\":\"#E5ECF6\",\"gridcolor\":\"white\",\"gridwidth\":2,\"linecolor\":\"white\",\"showbackground\":true,\"ticks\":\"\",\"zerolinecolor\":\"white\"}},\"shapedefaults\":{\"line\":{\"color\":\"#2a3f5f\"}},\"ternary\":{\"aaxis\":{\"gridcolor\":\"white\",\"linecolor\":\"white\",\"ticks\":\"\"},\"baxis\":{\"gridcolor\":\"white\",\"linecolor\":\"white\",\"ticks\":\"\"},\"bgcolor\":\"#E5ECF6\",\"caxis\":{\"gridcolor\":\"white\",\"linecolor\":\"white\",\"ticks\":\"\"}},\"title\":{\"x\":0.05},\"xaxis\":{\"automargin\":true,\"gridcolor\":\"white\",\"linecolor\":\"white\",\"ticks\":\"\",\"title\":{\"standoff\":15},\"zerolinecolor\":\"white\",\"zerolinewidth\":2},\"yaxis\":{\"automargin\":true,\"gridcolor\":\"white\",\"linecolor\":\"white\",\"ticks\":\"\",\"title\":{\"standoff\":15},\"zerolinecolor\":\"white\",\"zerolinewidth\":2}}},\"xaxis\":{\"anchor\":\"y\",\"domain\":[0.0,1.0],\"title\":{\"text\":\"Market\"}},\"yaxis\":{\"anchor\":\"x\",\"domain\":[0.0,1.0],\"title\":{\"text\":\"Total Quantity Sold\"}},\"legend\":{\"title\":{\"text\":\"category\"},\"tracegroupgap\":0},\"title\":{\"text\":\"Total Quantity of Products Sold by Category Across Markets\"},\"barmode\":\"stack\",\"height\":600,\"width\":1000},                        {\"responsive\": true}                    ).then(function(){\n",
       "                            \n",
       "var gd = document.getElementById('76565719-23e4-4ec8-8ff7-446c66e4b799');\n",
       "var x = new MutationObserver(function (mutations, observer) {{\n",
       "        var display = window.getComputedStyle(gd).display;\n",
       "        if (!display || display === 'none') {{\n",
       "            console.log([gd, 'removed!']);\n",
       "            Plotly.purge(gd);\n",
       "            observer.disconnect();\n",
       "        }}\n",
       "}});\n",
       "\n",
       "// Listen for the removal of the full notebook cells\n",
       "var notebookContainer = gd.closest('#notebook-container');\n",
       "if (notebookContainer) {{\n",
       "    x.observe(notebookContainer, {childList: true});\n",
       "}}\n",
       "\n",
       "// Listen for the clearing of the current output cell\n",
       "var outputEl = gd.closest('.output');\n",
       "if (outputEl) {{\n",
       "    x.observe(outputEl, {childList: true});\n",
       "}}\n",
       "\n",
       "                        })                };                });            </script>        </div>"
      ]
     },
     "metadata": {},
     "output_type": "display_data"
    }
   ],
   "source": [
    "# Calculating the total quantity sold per market\n",
    "popular_categories_per_market_totals = popular_categories_per_market.groupby('market')['total_quantity_sold'].sum()\n",
    "popular_categories_per_market_totals = popular_categories_per_market_totals.sort_values(ascending=False).index\n",
    "\n",
    "# Rearranging the original DataFrame based on the sorted market order\n",
    "popular_categories_per_market['market'] = pd.Categorical(popular_categories_per_market['market'], \n",
    "                                                        categories=popular_categories_per_market_totals, \n",
    "                                                        ordered=True)\n",
    "popular_categories_per_market = popular_categories_per_market.sort_values('market')\n",
    "\n",
    "# Create the stacked bar chart using Plotly\n",
    "fig = px.bar(popular_categories_per_market, x='market', y='total_quantity_sold', color='category',\n",
    "             title='Total Quantity of Products Sold by Category Across Markets',\n",
    "             labels={'market': 'Market', 'total_quantity_sold': 'Total Quantity Sold'},\n",
    "             barmode='stack')\n",
    "\n",
    "# Update layout for better hover information and adjust size\n",
    "fig.update_traces(hovertemplate='Category: %{y}')\n",
    "fig.update_layout(height=600, width=1000)  # Set the desired height and width\n",
    "\n",
    "# Show the interactive chart\n",
    "fig.show()"
   ]
  },
  {
   "cell_type": "markdown",
   "id": "2baca564-c216-4f6a-bdad-43145db9ec2a",
   "metadata": {},
   "source": [
    "<span style=\"font-family: Arial; font-size: 24px;\">Conclusion:</span> We can see here that in terms of categories across countries, the largest sales are coming from the HDD models. We are selling graphics cards however they do not appear to be as popular in most countries, and don't seem to have a significant market share of whats being taken. We should review if new sales should be made or if there is an untouched market where we will be able to sell graphics cards."
   ]
  },
  {
   "cell_type": "markdown",
   "id": "6b165ad9-916d-4d99-9f05-527d50ac5a3a",
   "metadata": {},
   "source": [
    "<span style=\"font-family: Arial; font-size: 24px;\">Variant Popularity throughout years?:</span>"
   ]
  },
  {
   "cell_type": "code",
   "execution_count": 136,
   "id": "8b3965e2-d000-4709-b709-758ac3cb78c7",
   "metadata": {
    "tags": []
   },
   "outputs": [
    {
     "name": "stdout",
     "output_type": "stream",
     "text": [
      "        variant  total_quantity_sold\n",
      "0       Premium               962971\n",
      "1      Standard               920705\n",
      "2          Plus               860154\n",
      "3    Standard 3               399751\n",
      "4  Premium Plus               386569\n",
      "5    Standard 2               101725\n",
      "6    Standard 1               100053\n",
      "7        Plus 1                51007\n"
     ]
    }
   ],
   "source": [
    "# Establish a connection to the 'atliq_db.sqlite3' SQLite database\n",
    "con = sqlite3.connect('atliq_db.sqlite3')\n",
    "# SQL query to retrieve total quantity sold per variant\n",
    "total_quantity_sold_per_variant_query = \"\"\"\n",
    "SELECT \n",
    "    dp.variant, \n",
    "    SUM(fs.sold_quantity) AS total_quantity_sold\n",
    "FROM \n",
    "    fact_sales_monthly fs\n",
    "JOIN \n",
    "    dim_product dp ON fs.product_code = dp.product_code\n",
    "GROUP BY \n",
    "    dp.variant\n",
    "ORDER BY \n",
    "    total_quantity_sold DESC;\n",
    "\"\"\"\n",
    "\n",
    "# Execute the query and read the results into a DataFrame\n",
    "total_quantity_sold_per_variant = pd.read_sql_query(total_quantity_sold_per_variant_query, con)\n",
    "print(total_quantity_sold_per_variant)"
   ]
  },
  {
   "cell_type": "code",
   "execution_count": 137,
   "id": "b7add5f4-5954-42e8-90c8-14b7bacacffc",
   "metadata": {
    "tags": []
   },
   "outputs": [
    {
     "name": "stdout",
     "output_type": "stream",
     "text": [
      "         variant  fiscal_year  total_quantity_sold\n",
      "0           Plus         2018                17953\n",
      "1           Plus         2019                83019\n",
      "2           Plus         2020               126729\n",
      "3           Plus         2021               295170\n",
      "4           Plus         2022               337283\n",
      "5         Plus 1         2018                23542\n",
      "6         Plus 1         2019                27465\n",
      "7        Premium         2018                18754\n",
      "8        Premium         2019                42191\n",
      "9        Premium         2020               125428\n",
      "10       Premium         2021               288987\n",
      "11       Premium         2022               487611\n",
      "12  Premium Plus         2018                18534\n",
      "13  Premium Plus         2019                42408\n",
      "14  Premium Plus         2020                60961\n",
      "15  Premium Plus         2021                97931\n",
      "16  Premium Plus         2022               166735\n",
      "17      Standard         2018                18664\n",
      "18      Standard         2019                84540\n",
      "19      Standard         2020               189597\n",
      "20      Standard         2021               297998\n",
      "21      Standard         2022               329906\n",
      "22    Standard 1         2018                21842\n",
      "23    Standard 1         2019                32453\n",
      "24    Standard 1         2020                45758\n",
      "25    Standard 2         2018                22315\n",
      "26    Standard 2         2019                32880\n",
      "27    Standard 2         2020                46530\n",
      "28    Standard 3         2018                23667\n",
      "29    Standard 3         2019                34563\n",
      "30    Standard 3         2020                45581\n",
      "31    Standard 3         2021                77857\n",
      "32    Standard 3         2022               218083\n"
     ]
    }
   ],
   "source": [
    "# Establish a connection to the 'atliq_db.sqlite3' SQLite database\n",
    "con = sqlite3.connect('atliq_db.sqlite3')\n",
    "\n",
    "total_quantity_sold_per_variant_query = \"\"\"\n",
    "SELECT \n",
    "    dp.variant,\n",
    "    fs.fiscal_year,\n",
    "    SUM(fs.sold_quantity) AS total_quantity_sold\n",
    "FROM \n",
    "    fact_sales_monthly fs\n",
    "JOIN \n",
    "    dim_product dp ON fs.product_code = dp.product_code\n",
    "GROUP BY \n",
    "    dp.variant, \n",
    "    fs.fiscal_year\n",
    "ORDER BY \n",
    "    dp.variant, \n",
    "    fs.fiscal_year;\n",
    "\"\"\"\n",
    "\n",
    "# Execute the query and read the results into a DataFrame\n",
    "total_quantity_sold_per_variant_fiscal_year = pd.read_sql_query(total_quantity_sold_per_variant_query, con)\n",
    "print(total_quantity_sold_per_variant_fiscal_year)"
   ]
  },
  {
   "cell_type": "code",
   "execution_count": 138,
   "id": "fa223d3c-2413-4785-9832-fc85fcd4e198",
   "metadata": {
    "tags": []
   },
   "outputs": [
    {
     "data": {
      "application/vnd.plotly.v1+json": {
       "config": {
        "plotlyServerURL": "https://plot.ly"
       },
       "data": [
        {
         "name": "All",
         "type": "bar",
         "x": [],
         "y": []
        },
        {
         "name": "2018",
         "type": "bar",
         "x": [
          "Plus",
          "Plus 1",
          "Premium",
          "Premium Plus",
          "Standard",
          "Standard 1",
          "Standard 2",
          "Standard 3"
         ],
         "y": [
          17953,
          23542,
          18754,
          18534,
          18664,
          21842,
          22315,
          23667
         ]
        },
        {
         "name": "2019",
         "type": "bar",
         "x": [
          "Plus",
          "Plus 1",
          "Premium",
          "Premium Plus",
          "Standard",
          "Standard 1",
          "Standard 2",
          "Standard 3"
         ],
         "y": [
          83019,
          27465,
          42191,
          42408,
          84540,
          32453,
          32880,
          34563
         ]
        },
        {
         "name": "2020",
         "type": "bar",
         "x": [
          "Plus",
          "Premium",
          "Premium Plus",
          "Standard",
          "Standard 1",
          "Standard 2",
          "Standard 3"
         ],
         "y": [
          126729,
          125428,
          60961,
          189597,
          45758,
          46530,
          45581
         ]
        },
        {
         "name": "2021",
         "type": "bar",
         "x": [
          "Plus",
          "Premium",
          "Premium Plus",
          "Standard",
          "Standard 3"
         ],
         "y": [
          295170,
          288987,
          97931,
          297998,
          77857
         ]
        },
        {
         "name": "2022",
         "type": "bar",
         "x": [
          "Plus",
          "Premium",
          "Premium Plus",
          "Standard",
          "Standard 3"
         ],
         "y": [
          337283,
          487611,
          166735,
          329906,
          218083
         ]
        }
       ],
       "layout": {
        "barmode": "group",
        "template": {
         "data": {
          "bar": [
           {
            "error_x": {
             "color": "#2a3f5f"
            },
            "error_y": {
             "color": "#2a3f5f"
            },
            "marker": {
             "line": {
              "color": "#E5ECF6",
              "width": 0.5
             },
             "pattern": {
              "fillmode": "overlay",
              "size": 10,
              "solidity": 0.2
             }
            },
            "type": "bar"
           }
          ],
          "barpolar": [
           {
            "marker": {
             "line": {
              "color": "#E5ECF6",
              "width": 0.5
             },
             "pattern": {
              "fillmode": "overlay",
              "size": 10,
              "solidity": 0.2
             }
            },
            "type": "barpolar"
           }
          ],
          "carpet": [
           {
            "aaxis": {
             "endlinecolor": "#2a3f5f",
             "gridcolor": "white",
             "linecolor": "white",
             "minorgridcolor": "white",
             "startlinecolor": "#2a3f5f"
            },
            "baxis": {
             "endlinecolor": "#2a3f5f",
             "gridcolor": "white",
             "linecolor": "white",
             "minorgridcolor": "white",
             "startlinecolor": "#2a3f5f"
            },
            "type": "carpet"
           }
          ],
          "choropleth": [
           {
            "colorbar": {
             "outlinewidth": 0,
             "ticks": ""
            },
            "type": "choropleth"
           }
          ],
          "contour": [
           {
            "colorbar": {
             "outlinewidth": 0,
             "ticks": ""
            },
            "colorscale": [
             [
              0,
              "#0d0887"
             ],
             [
              0.1111111111111111,
              "#46039f"
             ],
             [
              0.2222222222222222,
              "#7201a8"
             ],
             [
              0.3333333333333333,
              "#9c179e"
             ],
             [
              0.4444444444444444,
              "#bd3786"
             ],
             [
              0.5555555555555556,
              "#d8576b"
             ],
             [
              0.6666666666666666,
              "#ed7953"
             ],
             [
              0.7777777777777778,
              "#fb9f3a"
             ],
             [
              0.8888888888888888,
              "#fdca26"
             ],
             [
              1,
              "#f0f921"
             ]
            ],
            "type": "contour"
           }
          ],
          "contourcarpet": [
           {
            "colorbar": {
             "outlinewidth": 0,
             "ticks": ""
            },
            "type": "contourcarpet"
           }
          ],
          "heatmap": [
           {
            "colorbar": {
             "outlinewidth": 0,
             "ticks": ""
            },
            "colorscale": [
             [
              0,
              "#0d0887"
             ],
             [
              0.1111111111111111,
              "#46039f"
             ],
             [
              0.2222222222222222,
              "#7201a8"
             ],
             [
              0.3333333333333333,
              "#9c179e"
             ],
             [
              0.4444444444444444,
              "#bd3786"
             ],
             [
              0.5555555555555556,
              "#d8576b"
             ],
             [
              0.6666666666666666,
              "#ed7953"
             ],
             [
              0.7777777777777778,
              "#fb9f3a"
             ],
             [
              0.8888888888888888,
              "#fdca26"
             ],
             [
              1,
              "#f0f921"
             ]
            ],
            "type": "heatmap"
           }
          ],
          "heatmapgl": [
           {
            "colorbar": {
             "outlinewidth": 0,
             "ticks": ""
            },
            "colorscale": [
             [
              0,
              "#0d0887"
             ],
             [
              0.1111111111111111,
              "#46039f"
             ],
             [
              0.2222222222222222,
              "#7201a8"
             ],
             [
              0.3333333333333333,
              "#9c179e"
             ],
             [
              0.4444444444444444,
              "#bd3786"
             ],
             [
              0.5555555555555556,
              "#d8576b"
             ],
             [
              0.6666666666666666,
              "#ed7953"
             ],
             [
              0.7777777777777778,
              "#fb9f3a"
             ],
             [
              0.8888888888888888,
              "#fdca26"
             ],
             [
              1,
              "#f0f921"
             ]
            ],
            "type": "heatmapgl"
           }
          ],
          "histogram": [
           {
            "marker": {
             "pattern": {
              "fillmode": "overlay",
              "size": 10,
              "solidity": 0.2
             }
            },
            "type": "histogram"
           }
          ],
          "histogram2d": [
           {
            "colorbar": {
             "outlinewidth": 0,
             "ticks": ""
            },
            "colorscale": [
             [
              0,
              "#0d0887"
             ],
             [
              0.1111111111111111,
              "#46039f"
             ],
             [
              0.2222222222222222,
              "#7201a8"
             ],
             [
              0.3333333333333333,
              "#9c179e"
             ],
             [
              0.4444444444444444,
              "#bd3786"
             ],
             [
              0.5555555555555556,
              "#d8576b"
             ],
             [
              0.6666666666666666,
              "#ed7953"
             ],
             [
              0.7777777777777778,
              "#fb9f3a"
             ],
             [
              0.8888888888888888,
              "#fdca26"
             ],
             [
              1,
              "#f0f921"
             ]
            ],
            "type": "histogram2d"
           }
          ],
          "histogram2dcontour": [
           {
            "colorbar": {
             "outlinewidth": 0,
             "ticks": ""
            },
            "colorscale": [
             [
              0,
              "#0d0887"
             ],
             [
              0.1111111111111111,
              "#46039f"
             ],
             [
              0.2222222222222222,
              "#7201a8"
             ],
             [
              0.3333333333333333,
              "#9c179e"
             ],
             [
              0.4444444444444444,
              "#bd3786"
             ],
             [
              0.5555555555555556,
              "#d8576b"
             ],
             [
              0.6666666666666666,
              "#ed7953"
             ],
             [
              0.7777777777777778,
              "#fb9f3a"
             ],
             [
              0.8888888888888888,
              "#fdca26"
             ],
             [
              1,
              "#f0f921"
             ]
            ],
            "type": "histogram2dcontour"
           }
          ],
          "mesh3d": [
           {
            "colorbar": {
             "outlinewidth": 0,
             "ticks": ""
            },
            "type": "mesh3d"
           }
          ],
          "parcoords": [
           {
            "line": {
             "colorbar": {
              "outlinewidth": 0,
              "ticks": ""
             }
            },
            "type": "parcoords"
           }
          ],
          "pie": [
           {
            "automargin": true,
            "type": "pie"
           }
          ],
          "scatter": [
           {
            "marker": {
             "colorbar": {
              "outlinewidth": 0,
              "ticks": ""
             }
            },
            "type": "scatter"
           }
          ],
          "scatter3d": [
           {
            "line": {
             "colorbar": {
              "outlinewidth": 0,
              "ticks": ""
             }
            },
            "marker": {
             "colorbar": {
              "outlinewidth": 0,
              "ticks": ""
             }
            },
            "type": "scatter3d"
           }
          ],
          "scattercarpet": [
           {
            "marker": {
             "colorbar": {
              "outlinewidth": 0,
              "ticks": ""
             }
            },
            "type": "scattercarpet"
           }
          ],
          "scattergeo": [
           {
            "marker": {
             "colorbar": {
              "outlinewidth": 0,
              "ticks": ""
             }
            },
            "type": "scattergeo"
           }
          ],
          "scattergl": [
           {
            "marker": {
             "colorbar": {
              "outlinewidth": 0,
              "ticks": ""
             }
            },
            "type": "scattergl"
           }
          ],
          "scattermapbox": [
           {
            "marker": {
             "colorbar": {
              "outlinewidth": 0,
              "ticks": ""
             }
            },
            "type": "scattermapbox"
           }
          ],
          "scatterpolar": [
           {
            "marker": {
             "colorbar": {
              "outlinewidth": 0,
              "ticks": ""
             }
            },
            "type": "scatterpolar"
           }
          ],
          "scatterpolargl": [
           {
            "marker": {
             "colorbar": {
              "outlinewidth": 0,
              "ticks": ""
             }
            },
            "type": "scatterpolargl"
           }
          ],
          "scatterternary": [
           {
            "marker": {
             "colorbar": {
              "outlinewidth": 0,
              "ticks": ""
             }
            },
            "type": "scatterternary"
           }
          ],
          "surface": [
           {
            "colorbar": {
             "outlinewidth": 0,
             "ticks": ""
            },
            "colorscale": [
             [
              0,
              "#0d0887"
             ],
             [
              0.1111111111111111,
              "#46039f"
             ],
             [
              0.2222222222222222,
              "#7201a8"
             ],
             [
              0.3333333333333333,
              "#9c179e"
             ],
             [
              0.4444444444444444,
              "#bd3786"
             ],
             [
              0.5555555555555556,
              "#d8576b"
             ],
             [
              0.6666666666666666,
              "#ed7953"
             ],
             [
              0.7777777777777778,
              "#fb9f3a"
             ],
             [
              0.8888888888888888,
              "#fdca26"
             ],
             [
              1,
              "#f0f921"
             ]
            ],
            "type": "surface"
           }
          ],
          "table": [
           {
            "cells": {
             "fill": {
              "color": "#EBF0F8"
             },
             "line": {
              "color": "white"
             }
            },
            "header": {
             "fill": {
              "color": "#C8D4E3"
             },
             "line": {
              "color": "white"
             }
            },
            "type": "table"
           }
          ]
         },
         "layout": {
          "annotationdefaults": {
           "arrowcolor": "#2a3f5f",
           "arrowhead": 0,
           "arrowwidth": 1
          },
          "autotypenumbers": "strict",
          "coloraxis": {
           "colorbar": {
            "outlinewidth": 0,
            "ticks": ""
           }
          },
          "colorscale": {
           "diverging": [
            [
             0,
             "#8e0152"
            ],
            [
             0.1,
             "#c51b7d"
            ],
            [
             0.2,
             "#de77ae"
            ],
            [
             0.3,
             "#f1b6da"
            ],
            [
             0.4,
             "#fde0ef"
            ],
            [
             0.5,
             "#f7f7f7"
            ],
            [
             0.6,
             "#e6f5d0"
            ],
            [
             0.7,
             "#b8e186"
            ],
            [
             0.8,
             "#7fbc41"
            ],
            [
             0.9,
             "#4d9221"
            ],
            [
             1,
             "#276419"
            ]
           ],
           "sequential": [
            [
             0,
             "#0d0887"
            ],
            [
             0.1111111111111111,
             "#46039f"
            ],
            [
             0.2222222222222222,
             "#7201a8"
            ],
            [
             0.3333333333333333,
             "#9c179e"
            ],
            [
             0.4444444444444444,
             "#bd3786"
            ],
            [
             0.5555555555555556,
             "#d8576b"
            ],
            [
             0.6666666666666666,
             "#ed7953"
            ],
            [
             0.7777777777777778,
             "#fb9f3a"
            ],
            [
             0.8888888888888888,
             "#fdca26"
            ],
            [
             1,
             "#f0f921"
            ]
           ],
           "sequentialminus": [
            [
             0,
             "#0d0887"
            ],
            [
             0.1111111111111111,
             "#46039f"
            ],
            [
             0.2222222222222222,
             "#7201a8"
            ],
            [
             0.3333333333333333,
             "#9c179e"
            ],
            [
             0.4444444444444444,
             "#bd3786"
            ],
            [
             0.5555555555555556,
             "#d8576b"
            ],
            [
             0.6666666666666666,
             "#ed7953"
            ],
            [
             0.7777777777777778,
             "#fb9f3a"
            ],
            [
             0.8888888888888888,
             "#fdca26"
            ],
            [
             1,
             "#f0f921"
            ]
           ]
          },
          "colorway": [
           "#636efa",
           "#EF553B",
           "#00cc96",
           "#ab63fa",
           "#FFA15A",
           "#19d3f3",
           "#FF6692",
           "#B6E880",
           "#FF97FF",
           "#FECB52"
          ],
          "font": {
           "color": "#2a3f5f"
          },
          "geo": {
           "bgcolor": "white",
           "lakecolor": "white",
           "landcolor": "#E5ECF6",
           "showlakes": true,
           "showland": true,
           "subunitcolor": "white"
          },
          "hoverlabel": {
           "align": "left"
          },
          "hovermode": "closest",
          "mapbox": {
           "style": "light"
          },
          "paper_bgcolor": "white",
          "plot_bgcolor": "#E5ECF6",
          "polar": {
           "angularaxis": {
            "gridcolor": "white",
            "linecolor": "white",
            "ticks": ""
           },
           "bgcolor": "#E5ECF6",
           "radialaxis": {
            "gridcolor": "white",
            "linecolor": "white",
            "ticks": ""
           }
          },
          "scene": {
           "xaxis": {
            "backgroundcolor": "#E5ECF6",
            "gridcolor": "white",
            "gridwidth": 2,
            "linecolor": "white",
            "showbackground": true,
            "ticks": "",
            "zerolinecolor": "white"
           },
           "yaxis": {
            "backgroundcolor": "#E5ECF6",
            "gridcolor": "white",
            "gridwidth": 2,
            "linecolor": "white",
            "showbackground": true,
            "ticks": "",
            "zerolinecolor": "white"
           },
           "zaxis": {
            "backgroundcolor": "#E5ECF6",
            "gridcolor": "white",
            "gridwidth": 2,
            "linecolor": "white",
            "showbackground": true,
            "ticks": "",
            "zerolinecolor": "white"
           }
          },
          "shapedefaults": {
           "line": {
            "color": "#2a3f5f"
           }
          },
          "ternary": {
           "aaxis": {
            "gridcolor": "white",
            "linecolor": "white",
            "ticks": ""
           },
           "baxis": {
            "gridcolor": "white",
            "linecolor": "white",
            "ticks": ""
           },
           "bgcolor": "#E5ECF6",
           "caxis": {
            "gridcolor": "white",
            "linecolor": "white",
            "ticks": ""
           }
          },
          "title": {
           "x": 0.05
          },
          "xaxis": {
           "automargin": true,
           "gridcolor": "white",
           "linecolor": "white",
           "ticks": "",
           "title": {
            "standoff": 15
           },
           "zerolinecolor": "white",
           "zerolinewidth": 2
          },
          "yaxis": {
           "automargin": true,
           "gridcolor": "white",
           "linecolor": "white",
           "ticks": "",
           "title": {
            "standoff": 15
           },
           "zerolinecolor": "white",
           "zerolinewidth": 2
          }
         }
        },
        "title": {
         "text": "Total Quantity of Products Sold per Variant by Fiscal Year"
        },
        "xaxis": {
         "title": {
          "text": "Variant"
         }
        },
        "yaxis": {
         "title": {
          "text": "Total Quantity Sold"
         }
        }
       }
      },
      "text/html": [
       "<div>                            <div id=\"818e43dd-4b97-4ffa-9d73-3699b8cf583b\" class=\"plotly-graph-div\" style=\"height:525px; width:100%;\"></div>            <script type=\"text/javascript\">                require([\"plotly\"], function(Plotly) {                    window.PLOTLYENV=window.PLOTLYENV || {};                                    if (document.getElementById(\"818e43dd-4b97-4ffa-9d73-3699b8cf583b\")) {                    Plotly.newPlot(                        \"818e43dd-4b97-4ffa-9d73-3699b8cf583b\",                        [{\"name\":\"All\",\"x\":[],\"y\":[],\"type\":\"bar\"},{\"name\":\"2018\",\"x\":[\"Plus\",\"Plus 1\",\"Premium\",\"Premium Plus\",\"Standard\",\"Standard 1\",\"Standard 2\",\"Standard 3\"],\"y\":[17953,23542,18754,18534,18664,21842,22315,23667],\"type\":\"bar\"},{\"name\":\"2019\",\"x\":[\"Plus\",\"Plus 1\",\"Premium\",\"Premium Plus\",\"Standard\",\"Standard 1\",\"Standard 2\",\"Standard 3\"],\"y\":[83019,27465,42191,42408,84540,32453,32880,34563],\"type\":\"bar\"},{\"name\":\"2020\",\"x\":[\"Plus\",\"Premium\",\"Premium Plus\",\"Standard\",\"Standard 1\",\"Standard 2\",\"Standard 3\"],\"y\":[126729,125428,60961,189597,45758,46530,45581],\"type\":\"bar\"},{\"name\":\"2021\",\"x\":[\"Plus\",\"Premium\",\"Premium Plus\",\"Standard\",\"Standard 3\"],\"y\":[295170,288987,97931,297998,77857],\"type\":\"bar\"},{\"name\":\"2022\",\"x\":[\"Plus\",\"Premium\",\"Premium Plus\",\"Standard\",\"Standard 3\"],\"y\":[337283,487611,166735,329906,218083],\"type\":\"bar\"}],                        {\"template\":{\"data\":{\"bar\":[{\"error_x\":{\"color\":\"#2a3f5f\"},\"error_y\":{\"color\":\"#2a3f5f\"},\"marker\":{\"line\":{\"color\":\"#E5ECF6\",\"width\":0.5},\"pattern\":{\"fillmode\":\"overlay\",\"size\":10,\"solidity\":0.2}},\"type\":\"bar\"}],\"barpolar\":[{\"marker\":{\"line\":{\"color\":\"#E5ECF6\",\"width\":0.5},\"pattern\":{\"fillmode\":\"overlay\",\"size\":10,\"solidity\":0.2}},\"type\":\"barpolar\"}],\"carpet\":[{\"aaxis\":{\"endlinecolor\":\"#2a3f5f\",\"gridcolor\":\"white\",\"linecolor\":\"white\",\"minorgridcolor\":\"white\",\"startlinecolor\":\"#2a3f5f\"},\"baxis\":{\"endlinecolor\":\"#2a3f5f\",\"gridcolor\":\"white\",\"linecolor\":\"white\",\"minorgridcolor\":\"white\",\"startlinecolor\":\"#2a3f5f\"},\"type\":\"carpet\"}],\"choropleth\":[{\"colorbar\":{\"outlinewidth\":0,\"ticks\":\"\"},\"type\":\"choropleth\"}],\"contour\":[{\"colorbar\":{\"outlinewidth\":0,\"ticks\":\"\"},\"colorscale\":[[0.0,\"#0d0887\"],[0.1111111111111111,\"#46039f\"],[0.2222222222222222,\"#7201a8\"],[0.3333333333333333,\"#9c179e\"],[0.4444444444444444,\"#bd3786\"],[0.5555555555555556,\"#d8576b\"],[0.6666666666666666,\"#ed7953\"],[0.7777777777777778,\"#fb9f3a\"],[0.8888888888888888,\"#fdca26\"],[1.0,\"#f0f921\"]],\"type\":\"contour\"}],\"contourcarpet\":[{\"colorbar\":{\"outlinewidth\":0,\"ticks\":\"\"},\"type\":\"contourcarpet\"}],\"heatmap\":[{\"colorbar\":{\"outlinewidth\":0,\"ticks\":\"\"},\"colorscale\":[[0.0,\"#0d0887\"],[0.1111111111111111,\"#46039f\"],[0.2222222222222222,\"#7201a8\"],[0.3333333333333333,\"#9c179e\"],[0.4444444444444444,\"#bd3786\"],[0.5555555555555556,\"#d8576b\"],[0.6666666666666666,\"#ed7953\"],[0.7777777777777778,\"#fb9f3a\"],[0.8888888888888888,\"#fdca26\"],[1.0,\"#f0f921\"]],\"type\":\"heatmap\"}],\"heatmapgl\":[{\"colorbar\":{\"outlinewidth\":0,\"ticks\":\"\"},\"colorscale\":[[0.0,\"#0d0887\"],[0.1111111111111111,\"#46039f\"],[0.2222222222222222,\"#7201a8\"],[0.3333333333333333,\"#9c179e\"],[0.4444444444444444,\"#bd3786\"],[0.5555555555555556,\"#d8576b\"],[0.6666666666666666,\"#ed7953\"],[0.7777777777777778,\"#fb9f3a\"],[0.8888888888888888,\"#fdca26\"],[1.0,\"#f0f921\"]],\"type\":\"heatmapgl\"}],\"histogram\":[{\"marker\":{\"pattern\":{\"fillmode\":\"overlay\",\"size\":10,\"solidity\":0.2}},\"type\":\"histogram\"}],\"histogram2d\":[{\"colorbar\":{\"outlinewidth\":0,\"ticks\":\"\"},\"colorscale\":[[0.0,\"#0d0887\"],[0.1111111111111111,\"#46039f\"],[0.2222222222222222,\"#7201a8\"],[0.3333333333333333,\"#9c179e\"],[0.4444444444444444,\"#bd3786\"],[0.5555555555555556,\"#d8576b\"],[0.6666666666666666,\"#ed7953\"],[0.7777777777777778,\"#fb9f3a\"],[0.8888888888888888,\"#fdca26\"],[1.0,\"#f0f921\"]],\"type\":\"histogram2d\"}],\"histogram2dcontour\":[{\"colorbar\":{\"outlinewidth\":0,\"ticks\":\"\"},\"colorscale\":[[0.0,\"#0d0887\"],[0.1111111111111111,\"#46039f\"],[0.2222222222222222,\"#7201a8\"],[0.3333333333333333,\"#9c179e\"],[0.4444444444444444,\"#bd3786\"],[0.5555555555555556,\"#d8576b\"],[0.6666666666666666,\"#ed7953\"],[0.7777777777777778,\"#fb9f3a\"],[0.8888888888888888,\"#fdca26\"],[1.0,\"#f0f921\"]],\"type\":\"histogram2dcontour\"}],\"mesh3d\":[{\"colorbar\":{\"outlinewidth\":0,\"ticks\":\"\"},\"type\":\"mesh3d\"}],\"parcoords\":[{\"line\":{\"colorbar\":{\"outlinewidth\":0,\"ticks\":\"\"}},\"type\":\"parcoords\"}],\"pie\":[{\"automargin\":true,\"type\":\"pie\"}],\"scatter\":[{\"marker\":{\"colorbar\":{\"outlinewidth\":0,\"ticks\":\"\"}},\"type\":\"scatter\"}],\"scatter3d\":[{\"line\":{\"colorbar\":{\"outlinewidth\":0,\"ticks\":\"\"}},\"marker\":{\"colorbar\":{\"outlinewidth\":0,\"ticks\":\"\"}},\"type\":\"scatter3d\"}],\"scattercarpet\":[{\"marker\":{\"colorbar\":{\"outlinewidth\":0,\"ticks\":\"\"}},\"type\":\"scattercarpet\"}],\"scattergeo\":[{\"marker\":{\"colorbar\":{\"outlinewidth\":0,\"ticks\":\"\"}},\"type\":\"scattergeo\"}],\"scattergl\":[{\"marker\":{\"colorbar\":{\"outlinewidth\":0,\"ticks\":\"\"}},\"type\":\"scattergl\"}],\"scattermapbox\":[{\"marker\":{\"colorbar\":{\"outlinewidth\":0,\"ticks\":\"\"}},\"type\":\"scattermapbox\"}],\"scatterpolar\":[{\"marker\":{\"colorbar\":{\"outlinewidth\":0,\"ticks\":\"\"}},\"type\":\"scatterpolar\"}],\"scatterpolargl\":[{\"marker\":{\"colorbar\":{\"outlinewidth\":0,\"ticks\":\"\"}},\"type\":\"scatterpolargl\"}],\"scatterternary\":[{\"marker\":{\"colorbar\":{\"outlinewidth\":0,\"ticks\":\"\"}},\"type\":\"scatterternary\"}],\"surface\":[{\"colorbar\":{\"outlinewidth\":0,\"ticks\":\"\"},\"colorscale\":[[0.0,\"#0d0887\"],[0.1111111111111111,\"#46039f\"],[0.2222222222222222,\"#7201a8\"],[0.3333333333333333,\"#9c179e\"],[0.4444444444444444,\"#bd3786\"],[0.5555555555555556,\"#d8576b\"],[0.6666666666666666,\"#ed7953\"],[0.7777777777777778,\"#fb9f3a\"],[0.8888888888888888,\"#fdca26\"],[1.0,\"#f0f921\"]],\"type\":\"surface\"}],\"table\":[{\"cells\":{\"fill\":{\"color\":\"#EBF0F8\"},\"line\":{\"color\":\"white\"}},\"header\":{\"fill\":{\"color\":\"#C8D4E3\"},\"line\":{\"color\":\"white\"}},\"type\":\"table\"}]},\"layout\":{\"annotationdefaults\":{\"arrowcolor\":\"#2a3f5f\",\"arrowhead\":0,\"arrowwidth\":1},\"autotypenumbers\":\"strict\",\"coloraxis\":{\"colorbar\":{\"outlinewidth\":0,\"ticks\":\"\"}},\"colorscale\":{\"diverging\":[[0,\"#8e0152\"],[0.1,\"#c51b7d\"],[0.2,\"#de77ae\"],[0.3,\"#f1b6da\"],[0.4,\"#fde0ef\"],[0.5,\"#f7f7f7\"],[0.6,\"#e6f5d0\"],[0.7,\"#b8e186\"],[0.8,\"#7fbc41\"],[0.9,\"#4d9221\"],[1,\"#276419\"]],\"sequential\":[[0.0,\"#0d0887\"],[0.1111111111111111,\"#46039f\"],[0.2222222222222222,\"#7201a8\"],[0.3333333333333333,\"#9c179e\"],[0.4444444444444444,\"#bd3786\"],[0.5555555555555556,\"#d8576b\"],[0.6666666666666666,\"#ed7953\"],[0.7777777777777778,\"#fb9f3a\"],[0.8888888888888888,\"#fdca26\"],[1.0,\"#f0f921\"]],\"sequentialminus\":[[0.0,\"#0d0887\"],[0.1111111111111111,\"#46039f\"],[0.2222222222222222,\"#7201a8\"],[0.3333333333333333,\"#9c179e\"],[0.4444444444444444,\"#bd3786\"],[0.5555555555555556,\"#d8576b\"],[0.6666666666666666,\"#ed7953\"],[0.7777777777777778,\"#fb9f3a\"],[0.8888888888888888,\"#fdca26\"],[1.0,\"#f0f921\"]]},\"colorway\":[\"#636efa\",\"#EF553B\",\"#00cc96\",\"#ab63fa\",\"#FFA15A\",\"#19d3f3\",\"#FF6692\",\"#B6E880\",\"#FF97FF\",\"#FECB52\"],\"font\":{\"color\":\"#2a3f5f\"},\"geo\":{\"bgcolor\":\"white\",\"lakecolor\":\"white\",\"landcolor\":\"#E5ECF6\",\"showlakes\":true,\"showland\":true,\"subunitcolor\":\"white\"},\"hoverlabel\":{\"align\":\"left\"},\"hovermode\":\"closest\",\"mapbox\":{\"style\":\"light\"},\"paper_bgcolor\":\"white\",\"plot_bgcolor\":\"#E5ECF6\",\"polar\":{\"angularaxis\":{\"gridcolor\":\"white\",\"linecolor\":\"white\",\"ticks\":\"\"},\"bgcolor\":\"#E5ECF6\",\"radialaxis\":{\"gridcolor\":\"white\",\"linecolor\":\"white\",\"ticks\":\"\"}},\"scene\":{\"xaxis\":{\"backgroundcolor\":\"#E5ECF6\",\"gridcolor\":\"white\",\"gridwidth\":2,\"linecolor\":\"white\",\"showbackground\":true,\"ticks\":\"\",\"zerolinecolor\":\"white\"},\"yaxis\":{\"backgroundcolor\":\"#E5ECF6\",\"gridcolor\":\"white\",\"gridwidth\":2,\"linecolor\":\"white\",\"showbackground\":true,\"ticks\":\"\",\"zerolinecolor\":\"white\"},\"zaxis\":{\"backgroundcolor\":\"#E5ECF6\",\"gridcolor\":\"white\",\"gridwidth\":2,\"linecolor\":\"white\",\"showbackground\":true,\"ticks\":\"\",\"zerolinecolor\":\"white\"}},\"shapedefaults\":{\"line\":{\"color\":\"#2a3f5f\"}},\"ternary\":{\"aaxis\":{\"gridcolor\":\"white\",\"linecolor\":\"white\",\"ticks\":\"\"},\"baxis\":{\"gridcolor\":\"white\",\"linecolor\":\"white\",\"ticks\":\"\"},\"bgcolor\":\"#E5ECF6\",\"caxis\":{\"gridcolor\":\"white\",\"linecolor\":\"white\",\"ticks\":\"\"}},\"title\":{\"x\":0.05},\"xaxis\":{\"automargin\":true,\"gridcolor\":\"white\",\"linecolor\":\"white\",\"ticks\":\"\",\"title\":{\"standoff\":15},\"zerolinecolor\":\"white\",\"zerolinewidth\":2},\"yaxis\":{\"automargin\":true,\"gridcolor\":\"white\",\"linecolor\":\"white\",\"ticks\":\"\",\"title\":{\"standoff\":15},\"zerolinecolor\":\"white\",\"zerolinewidth\":2}}},\"title\":{\"text\":\"Total Quantity of Products Sold per Variant by Fiscal Year\"},\"xaxis\":{\"title\":{\"text\":\"Variant\"}},\"yaxis\":{\"title\":{\"text\":\"Total Quantity Sold\"}},\"barmode\":\"group\"},                        {\"responsive\": true}                    ).then(function(){\n",
       "                            \n",
       "var gd = document.getElementById('818e43dd-4b97-4ffa-9d73-3699b8cf583b');\n",
       "var x = new MutationObserver(function (mutations, observer) {{\n",
       "        var display = window.getComputedStyle(gd).display;\n",
       "        if (!display || display === 'none') {{\n",
       "            console.log([gd, 'removed!']);\n",
       "            Plotly.purge(gd);\n",
       "            observer.disconnect();\n",
       "        }}\n",
       "}});\n",
       "\n",
       "// Listen for the removal of the full notebook cells\n",
       "var notebookContainer = gd.closest('#notebook-container');\n",
       "if (notebookContainer) {{\n",
       "    x.observe(notebookContainer, {childList: true});\n",
       "}}\n",
       "\n",
       "// Listen for the clearing of the current output cell\n",
       "var outputEl = gd.closest('.output');\n",
       "if (outputEl) {{\n",
       "    x.observe(outputEl, {childList: true});\n",
       "}}\n",
       "\n",
       "                        })                };                });            </script>        </div>"
      ]
     },
     "metadata": {},
     "output_type": "display_data"
    }
   ],
   "source": [
    "# Create initial data for 'All' years\n",
    "filtered_data = total_quantity_sold_per_variant_fiscal_year.groupby(['variant', 'fiscal_year'])['total_quantity_sold'].sum().reset_index()\n",
    "\n",
    "# Create a list of unique fiscal years including 'All' for including all years\n",
    "years_list = ['All'] + filtered_data['fiscal_year'].unique().tolist()\n",
    "\n",
    "# Create traces for 'All' years\n",
    "fig = go.Figure()\n",
    "\n",
    "# Function to update traces based on the selected year\n",
    "def update_trace(selected_year):\n",
    "    data = filtered_data if selected_year == 'All' else filtered_data[filtered_data['fiscal_year'] == selected_year]\n",
    "    for year in years_list:\n",
    "        filtered = data[data['fiscal_year'] == year]\n",
    "        fig.add_trace(go.Bar(x=filtered['variant'], y=filtered['total_quantity_sold'], name=str(year)))\n",
    "\n",
    "# Update traces for the initial 'All' years\n",
    "update_trace('All')\n",
    "\n",
    "# Create dropdown menu buttons\n",
    "buttons = [\n",
    "    dict(label=str(year),\n",
    "         method=\"update\",\n",
    "         args=[{\"visible\": [year == 'All' or year == d.name for d in fig.data]},\n",
    "               {\"title\": f\"Total Quantity of Products Sold per Variant in {year}\"}\n",
    "               ])\n",
    "    for year in years_list\n",
    "]\n",
    "\n",
    "# Update layout with buttons and initial settings\n",
    "fig.update_layout(\n",
    "    title='Total Quantity of Products Sold per Variant by Fiscal Year',\n",
    "    xaxis=dict(title='Variant'),\n",
    "    yaxis=dict(title='Total Quantity Sold'),\n",
    "    barmode='group'\n",
    ")\n",
    "\n",
    "# Show the interactive chart\n",
    "fig.show()"
   ]
  },
  {
   "cell_type": "markdown",
   "id": "9eeb3bb1-2405-43fa-8281-0d7ae9bdc897",
   "metadata": {},
   "source": [
    "<span style=\"font-family: Arial; font-size: 24px;\">Conclusion:</span> Here we can see currently that our Premium Models for our varians are the highest selling models as of 2022. This information is important as we can use this to decide if we should be investing time into making so many variants of a model. We can see as well that our Plus 1, Standard 1, and Standard 2 models have not made any recent sales. Likely these are models that can be discontinued. One solution for excess product is we can use these to sell out to the LATAM market at reduced prices,as this would increase our foothold in the specific markets."
   ]
  },
  {
   "cell_type": "markdown",
   "id": "99b04b76-2180-4318-b8b3-ecb2b493ca25",
   "metadata": {},
   "source": [
    "<span style=\"font-family: Arial; font-size: 24px;\">Product popularity throughout the year?:</span>"
   ]
  },
  {
   "cell_type": "code",
   "execution_count": 139,
   "id": "d242b85d-a103-4d5d-934b-d273e7e32abc",
   "metadata": {
    "tags": []
   },
   "outputs": [
    {
     "name": "stdout",
     "output_type": "stream",
     "text": [
      "                                              product  fiscal_year  \\\n",
      "0   AQ Dracula HDD – 3.5 Inch SATA 6 Gb/s 5400 RPM...         2018   \n",
      "1   AQ Dracula HDD – 3.5 Inch SATA 6 Gb/s 5400 RPM...         2019   \n",
      "2   AQ Dracula HDD – 3.5 Inch SATA 6 Gb/s 5400 RPM...         2020   \n",
      "3   AQ Dracula HDD – 3.5 Inch SATA 6 Gb/s 5400 RPM...         2021   \n",
      "4   AQ Dracula HDD – 3.5 Inch SATA 6 Gb/s 5400 RPM...         2022   \n",
      "5                                     AQ Mforce Gen X         2018   \n",
      "6                                     AQ Mforce Gen X         2019   \n",
      "7                                     AQ Mforce Gen X         2020   \n",
      "8                                     AQ Mforce Gen X         2021   \n",
      "9                                     AQ Mforce Gen X         2022   \n",
      "10  AQ WereWolf NAS Internal Hard Drive HDD – 8.89 cm         2019   \n",
      "11  AQ WereWolf NAS Internal Hard Drive HDD – 8.89 cm         2020   \n",
      "12  AQ WereWolf NAS Internal Hard Drive HDD – 8.89 cm         2021   \n",
      "13  AQ WereWolf NAS Internal Hard Drive HDD – 8.89 cm         2022   \n",
      "14                                       AQ Zion Saga         2020   \n",
      "15                                       AQ Zion Saga         2021   \n",
      "16                                       AQ Zion Saga         2022   \n",
      "\n",
      "    total_quantity_sold  \n",
      "0                 73905  \n",
      "1                168152  \n",
      "2                249242  \n",
      "3                390575  \n",
      "4                329707  \n",
      "5                 91366  \n",
      "6                127361  \n",
      "7                137869  \n",
      "8                 77857  \n",
      "9                218083  \n",
      "10                84006  \n",
      "11               188971  \n",
      "12               295705  \n",
      "13               506672  \n",
      "14                64502  \n",
      "15               293806  \n",
      "16               485156  \n"
     ]
    }
   ],
   "source": [
    "# Establish a connection to the 'atliq_db.sqlite3' SQLite database\n",
    "con = sqlite3.connect('atliq_db.sqlite3')\n",
    "total_quantity_sold_per_product_query = \"\"\"\n",
    "SELECT \n",
    "    dp.product,\n",
    "    fs.fiscal_year,\n",
    "    SUM(fs.sold_quantity) AS total_quantity_sold\n",
    "FROM \n",
    "    fact_sales_monthly fs\n",
    "JOIN \n",
    "    dim_product dp ON fs.product_code = dp.product_code\n",
    "GROUP BY \n",
    "    dp.product, \n",
    "    fs.fiscal_year\n",
    "ORDER BY \n",
    "    dp.product, \n",
    "    fs.fiscal_year;\n",
    "\"\"\"\n",
    "\n",
    "# Execute the modified query and read the results into a DataFrame\n",
    "total_quantity_sold_per_product_fiscal_year = pd.read_sql_query(total_quantity_sold_per_product_query, con)\n",
    "print(total_quantity_sold_per_product_fiscal_year)"
   ]
  },
  {
   "cell_type": "code",
   "execution_count": 140,
   "id": "879cf277-25e1-4fe6-b214-ea362204e6b4",
   "metadata": {
    "tags": []
   },
   "outputs": [
    {
     "data": {
      "application/vnd.plotly.v1+json": {
       "config": {
        "plotlyServerURL": "https://plot.ly"
       },
       "data": [
        {
         "name": "2018",
         "type": "bar",
         "visible": false,
         "x": [
          "AQ Dracula HDD – 3.5 Inch SATA 6 Gb/s 5400 RPM 256 MB Cache",
          "AQ Mforce Gen X"
         ],
         "y": [
          73905,
          91366
         ]
        },
        {
         "name": "2019",
         "type": "bar",
         "visible": false,
         "x": [
          "AQ Dracula HDD – 3.5 Inch SATA 6 Gb/s 5400 RPM 256 MB Cache",
          "AQ Mforce Gen X",
          "AQ WereWolf NAS Internal Hard Drive HDD – 8.89 cm"
         ],
         "y": [
          168152,
          127361,
          84006
         ]
        },
        {
         "name": "2020",
         "type": "bar",
         "visible": false,
         "x": [
          "AQ Dracula HDD – 3.5 Inch SATA 6 Gb/s 5400 RPM 256 MB Cache",
          "AQ Mforce Gen X",
          "AQ WereWolf NAS Internal Hard Drive HDD – 8.89 cm",
          "AQ Zion Saga"
         ],
         "y": [
          249242,
          137869,
          188971,
          64502
         ]
        },
        {
         "name": "2021",
         "type": "bar",
         "visible": false,
         "x": [
          "AQ Dracula HDD – 3.5 Inch SATA 6 Gb/s 5400 RPM 256 MB Cache",
          "AQ Mforce Gen X",
          "AQ WereWolf NAS Internal Hard Drive HDD – 8.89 cm",
          "AQ Zion Saga"
         ],
         "y": [
          390575,
          77857,
          295705,
          293806
         ]
        },
        {
         "name": "2022",
         "type": "bar",
         "visible": false,
         "x": [
          "AQ Dracula HDD – 3.5 Inch SATA 6 Gb/s 5400 RPM 256 MB Cache",
          "AQ Mforce Gen X",
          "AQ WereWolf NAS Internal Hard Drive HDD – 8.89 cm",
          "AQ Zion Saga"
         ],
         "y": [
          329707,
          218083,
          506672,
          485156
         ]
        },
        {
         "name": "All",
         "type": "bar",
         "visible": true,
         "x": [
          "AQ Dracula HDD – 3.5 Inch SATA 6 Gb/s 5400 RPM 256 MB Cache",
          "AQ Dracula HDD – 3.5 Inch SATA 6 Gb/s 5400 RPM 256 MB Cache",
          "AQ Dracula HDD – 3.5 Inch SATA 6 Gb/s 5400 RPM 256 MB Cache",
          "AQ Dracula HDD – 3.5 Inch SATA 6 Gb/s 5400 RPM 256 MB Cache",
          "AQ Dracula HDD – 3.5 Inch SATA 6 Gb/s 5400 RPM 256 MB Cache",
          "AQ Mforce Gen X",
          "AQ Mforce Gen X",
          "AQ Mforce Gen X",
          "AQ Mforce Gen X",
          "AQ Mforce Gen X",
          "AQ WereWolf NAS Internal Hard Drive HDD – 8.89 cm",
          "AQ WereWolf NAS Internal Hard Drive HDD – 8.89 cm",
          "AQ WereWolf NAS Internal Hard Drive HDD – 8.89 cm",
          "AQ WereWolf NAS Internal Hard Drive HDD – 8.89 cm",
          "AQ Zion Saga",
          "AQ Zion Saga",
          "AQ Zion Saga"
         ],
         "y": [
          73905,
          168152,
          249242,
          390575,
          329707,
          91366,
          127361,
          137869,
          77857,
          218083,
          84006,
          188971,
          295705,
          506672,
          64502,
          293806,
          485156
         ]
        }
       ],
       "layout": {
        "barmode": "group",
        "height": 800,
        "template": {
         "data": {
          "bar": [
           {
            "error_x": {
             "color": "#2a3f5f"
            },
            "error_y": {
             "color": "#2a3f5f"
            },
            "marker": {
             "line": {
              "color": "#E5ECF6",
              "width": 0.5
             },
             "pattern": {
              "fillmode": "overlay",
              "size": 10,
              "solidity": 0.2
             }
            },
            "type": "bar"
           }
          ],
          "barpolar": [
           {
            "marker": {
             "line": {
              "color": "#E5ECF6",
              "width": 0.5
             },
             "pattern": {
              "fillmode": "overlay",
              "size": 10,
              "solidity": 0.2
             }
            },
            "type": "barpolar"
           }
          ],
          "carpet": [
           {
            "aaxis": {
             "endlinecolor": "#2a3f5f",
             "gridcolor": "white",
             "linecolor": "white",
             "minorgridcolor": "white",
             "startlinecolor": "#2a3f5f"
            },
            "baxis": {
             "endlinecolor": "#2a3f5f",
             "gridcolor": "white",
             "linecolor": "white",
             "minorgridcolor": "white",
             "startlinecolor": "#2a3f5f"
            },
            "type": "carpet"
           }
          ],
          "choropleth": [
           {
            "colorbar": {
             "outlinewidth": 0,
             "ticks": ""
            },
            "type": "choropleth"
           }
          ],
          "contour": [
           {
            "colorbar": {
             "outlinewidth": 0,
             "ticks": ""
            },
            "colorscale": [
             [
              0,
              "#0d0887"
             ],
             [
              0.1111111111111111,
              "#46039f"
             ],
             [
              0.2222222222222222,
              "#7201a8"
             ],
             [
              0.3333333333333333,
              "#9c179e"
             ],
             [
              0.4444444444444444,
              "#bd3786"
             ],
             [
              0.5555555555555556,
              "#d8576b"
             ],
             [
              0.6666666666666666,
              "#ed7953"
             ],
             [
              0.7777777777777778,
              "#fb9f3a"
             ],
             [
              0.8888888888888888,
              "#fdca26"
             ],
             [
              1,
              "#f0f921"
             ]
            ],
            "type": "contour"
           }
          ],
          "contourcarpet": [
           {
            "colorbar": {
             "outlinewidth": 0,
             "ticks": ""
            },
            "type": "contourcarpet"
           }
          ],
          "heatmap": [
           {
            "colorbar": {
             "outlinewidth": 0,
             "ticks": ""
            },
            "colorscale": [
             [
              0,
              "#0d0887"
             ],
             [
              0.1111111111111111,
              "#46039f"
             ],
             [
              0.2222222222222222,
              "#7201a8"
             ],
             [
              0.3333333333333333,
              "#9c179e"
             ],
             [
              0.4444444444444444,
              "#bd3786"
             ],
             [
              0.5555555555555556,
              "#d8576b"
             ],
             [
              0.6666666666666666,
              "#ed7953"
             ],
             [
              0.7777777777777778,
              "#fb9f3a"
             ],
             [
              0.8888888888888888,
              "#fdca26"
             ],
             [
              1,
              "#f0f921"
             ]
            ],
            "type": "heatmap"
           }
          ],
          "heatmapgl": [
           {
            "colorbar": {
             "outlinewidth": 0,
             "ticks": ""
            },
            "colorscale": [
             [
              0,
              "#0d0887"
             ],
             [
              0.1111111111111111,
              "#46039f"
             ],
             [
              0.2222222222222222,
              "#7201a8"
             ],
             [
              0.3333333333333333,
              "#9c179e"
             ],
             [
              0.4444444444444444,
              "#bd3786"
             ],
             [
              0.5555555555555556,
              "#d8576b"
             ],
             [
              0.6666666666666666,
              "#ed7953"
             ],
             [
              0.7777777777777778,
              "#fb9f3a"
             ],
             [
              0.8888888888888888,
              "#fdca26"
             ],
             [
              1,
              "#f0f921"
             ]
            ],
            "type": "heatmapgl"
           }
          ],
          "histogram": [
           {
            "marker": {
             "pattern": {
              "fillmode": "overlay",
              "size": 10,
              "solidity": 0.2
             }
            },
            "type": "histogram"
           }
          ],
          "histogram2d": [
           {
            "colorbar": {
             "outlinewidth": 0,
             "ticks": ""
            },
            "colorscale": [
             [
              0,
              "#0d0887"
             ],
             [
              0.1111111111111111,
              "#46039f"
             ],
             [
              0.2222222222222222,
              "#7201a8"
             ],
             [
              0.3333333333333333,
              "#9c179e"
             ],
             [
              0.4444444444444444,
              "#bd3786"
             ],
             [
              0.5555555555555556,
              "#d8576b"
             ],
             [
              0.6666666666666666,
              "#ed7953"
             ],
             [
              0.7777777777777778,
              "#fb9f3a"
             ],
             [
              0.8888888888888888,
              "#fdca26"
             ],
             [
              1,
              "#f0f921"
             ]
            ],
            "type": "histogram2d"
           }
          ],
          "histogram2dcontour": [
           {
            "colorbar": {
             "outlinewidth": 0,
             "ticks": ""
            },
            "colorscale": [
             [
              0,
              "#0d0887"
             ],
             [
              0.1111111111111111,
              "#46039f"
             ],
             [
              0.2222222222222222,
              "#7201a8"
             ],
             [
              0.3333333333333333,
              "#9c179e"
             ],
             [
              0.4444444444444444,
              "#bd3786"
             ],
             [
              0.5555555555555556,
              "#d8576b"
             ],
             [
              0.6666666666666666,
              "#ed7953"
             ],
             [
              0.7777777777777778,
              "#fb9f3a"
             ],
             [
              0.8888888888888888,
              "#fdca26"
             ],
             [
              1,
              "#f0f921"
             ]
            ],
            "type": "histogram2dcontour"
           }
          ],
          "mesh3d": [
           {
            "colorbar": {
             "outlinewidth": 0,
             "ticks": ""
            },
            "type": "mesh3d"
           }
          ],
          "parcoords": [
           {
            "line": {
             "colorbar": {
              "outlinewidth": 0,
              "ticks": ""
             }
            },
            "type": "parcoords"
           }
          ],
          "pie": [
           {
            "automargin": true,
            "type": "pie"
           }
          ],
          "scatter": [
           {
            "marker": {
             "colorbar": {
              "outlinewidth": 0,
              "ticks": ""
             }
            },
            "type": "scatter"
           }
          ],
          "scatter3d": [
           {
            "line": {
             "colorbar": {
              "outlinewidth": 0,
              "ticks": ""
             }
            },
            "marker": {
             "colorbar": {
              "outlinewidth": 0,
              "ticks": ""
             }
            },
            "type": "scatter3d"
           }
          ],
          "scattercarpet": [
           {
            "marker": {
             "colorbar": {
              "outlinewidth": 0,
              "ticks": ""
             }
            },
            "type": "scattercarpet"
           }
          ],
          "scattergeo": [
           {
            "marker": {
             "colorbar": {
              "outlinewidth": 0,
              "ticks": ""
             }
            },
            "type": "scattergeo"
           }
          ],
          "scattergl": [
           {
            "marker": {
             "colorbar": {
              "outlinewidth": 0,
              "ticks": ""
             }
            },
            "type": "scattergl"
           }
          ],
          "scattermapbox": [
           {
            "marker": {
             "colorbar": {
              "outlinewidth": 0,
              "ticks": ""
             }
            },
            "type": "scattermapbox"
           }
          ],
          "scatterpolar": [
           {
            "marker": {
             "colorbar": {
              "outlinewidth": 0,
              "ticks": ""
             }
            },
            "type": "scatterpolar"
           }
          ],
          "scatterpolargl": [
           {
            "marker": {
             "colorbar": {
              "outlinewidth": 0,
              "ticks": ""
             }
            },
            "type": "scatterpolargl"
           }
          ],
          "scatterternary": [
           {
            "marker": {
             "colorbar": {
              "outlinewidth": 0,
              "ticks": ""
             }
            },
            "type": "scatterternary"
           }
          ],
          "surface": [
           {
            "colorbar": {
             "outlinewidth": 0,
             "ticks": ""
            },
            "colorscale": [
             [
              0,
              "#0d0887"
             ],
             [
              0.1111111111111111,
              "#46039f"
             ],
             [
              0.2222222222222222,
              "#7201a8"
             ],
             [
              0.3333333333333333,
              "#9c179e"
             ],
             [
              0.4444444444444444,
              "#bd3786"
             ],
             [
              0.5555555555555556,
              "#d8576b"
             ],
             [
              0.6666666666666666,
              "#ed7953"
             ],
             [
              0.7777777777777778,
              "#fb9f3a"
             ],
             [
              0.8888888888888888,
              "#fdca26"
             ],
             [
              1,
              "#f0f921"
             ]
            ],
            "type": "surface"
           }
          ],
          "table": [
           {
            "cells": {
             "fill": {
              "color": "#EBF0F8"
             },
             "line": {
              "color": "white"
             }
            },
            "header": {
             "fill": {
              "color": "#C8D4E3"
             },
             "line": {
              "color": "white"
             }
            },
            "type": "table"
           }
          ]
         },
         "layout": {
          "annotationdefaults": {
           "arrowcolor": "#2a3f5f",
           "arrowhead": 0,
           "arrowwidth": 1
          },
          "autotypenumbers": "strict",
          "coloraxis": {
           "colorbar": {
            "outlinewidth": 0,
            "ticks": ""
           }
          },
          "colorscale": {
           "diverging": [
            [
             0,
             "#8e0152"
            ],
            [
             0.1,
             "#c51b7d"
            ],
            [
             0.2,
             "#de77ae"
            ],
            [
             0.3,
             "#f1b6da"
            ],
            [
             0.4,
             "#fde0ef"
            ],
            [
             0.5,
             "#f7f7f7"
            ],
            [
             0.6,
             "#e6f5d0"
            ],
            [
             0.7,
             "#b8e186"
            ],
            [
             0.8,
             "#7fbc41"
            ],
            [
             0.9,
             "#4d9221"
            ],
            [
             1,
             "#276419"
            ]
           ],
           "sequential": [
            [
             0,
             "#0d0887"
            ],
            [
             0.1111111111111111,
             "#46039f"
            ],
            [
             0.2222222222222222,
             "#7201a8"
            ],
            [
             0.3333333333333333,
             "#9c179e"
            ],
            [
             0.4444444444444444,
             "#bd3786"
            ],
            [
             0.5555555555555556,
             "#d8576b"
            ],
            [
             0.6666666666666666,
             "#ed7953"
            ],
            [
             0.7777777777777778,
             "#fb9f3a"
            ],
            [
             0.8888888888888888,
             "#fdca26"
            ],
            [
             1,
             "#f0f921"
            ]
           ],
           "sequentialminus": [
            [
             0,
             "#0d0887"
            ],
            [
             0.1111111111111111,
             "#46039f"
            ],
            [
             0.2222222222222222,
             "#7201a8"
            ],
            [
             0.3333333333333333,
             "#9c179e"
            ],
            [
             0.4444444444444444,
             "#bd3786"
            ],
            [
             0.5555555555555556,
             "#d8576b"
            ],
            [
             0.6666666666666666,
             "#ed7953"
            ],
            [
             0.7777777777777778,
             "#fb9f3a"
            ],
            [
             0.8888888888888888,
             "#fdca26"
            ],
            [
             1,
             "#f0f921"
            ]
           ]
          },
          "colorway": [
           "#636efa",
           "#EF553B",
           "#00cc96",
           "#ab63fa",
           "#FFA15A",
           "#19d3f3",
           "#FF6692",
           "#B6E880",
           "#FF97FF",
           "#FECB52"
          ],
          "font": {
           "color": "#2a3f5f"
          },
          "geo": {
           "bgcolor": "white",
           "lakecolor": "white",
           "landcolor": "#E5ECF6",
           "showlakes": true,
           "showland": true,
           "subunitcolor": "white"
          },
          "hoverlabel": {
           "align": "left"
          },
          "hovermode": "closest",
          "mapbox": {
           "style": "light"
          },
          "paper_bgcolor": "white",
          "plot_bgcolor": "#E5ECF6",
          "polar": {
           "angularaxis": {
            "gridcolor": "white",
            "linecolor": "white",
            "ticks": ""
           },
           "bgcolor": "#E5ECF6",
           "radialaxis": {
            "gridcolor": "white",
            "linecolor": "white",
            "ticks": ""
           }
          },
          "scene": {
           "xaxis": {
            "backgroundcolor": "#E5ECF6",
            "gridcolor": "white",
            "gridwidth": 2,
            "linecolor": "white",
            "showbackground": true,
            "ticks": "",
            "zerolinecolor": "white"
           },
           "yaxis": {
            "backgroundcolor": "#E5ECF6",
            "gridcolor": "white",
            "gridwidth": 2,
            "linecolor": "white",
            "showbackground": true,
            "ticks": "",
            "zerolinecolor": "white"
           },
           "zaxis": {
            "backgroundcolor": "#E5ECF6",
            "gridcolor": "white",
            "gridwidth": 2,
            "linecolor": "white",
            "showbackground": true,
            "ticks": "",
            "zerolinecolor": "white"
           }
          },
          "shapedefaults": {
           "line": {
            "color": "#2a3f5f"
           }
          },
          "ternary": {
           "aaxis": {
            "gridcolor": "white",
            "linecolor": "white",
            "ticks": ""
           },
           "baxis": {
            "gridcolor": "white",
            "linecolor": "white",
            "ticks": ""
           },
           "bgcolor": "#E5ECF6",
           "caxis": {
            "gridcolor": "white",
            "linecolor": "white",
            "ticks": ""
           }
          },
          "title": {
           "x": 0.05
          },
          "xaxis": {
           "automargin": true,
           "gridcolor": "white",
           "linecolor": "white",
           "ticks": "",
           "title": {
            "standoff": 15
           },
           "zerolinecolor": "white",
           "zerolinewidth": 2
          },
          "yaxis": {
           "automargin": true,
           "gridcolor": "white",
           "linecolor": "white",
           "ticks": "",
           "title": {
            "standoff": 15
           },
           "zerolinecolor": "white",
           "zerolinewidth": 2
          }
         }
        },
        "title": {
         "text": "Total Quantity of Products Sold per Product by Fiscal Year"
        },
        "updatemenus": [
         {
          "buttons": [
           {
            "args": [
             {
              "visible": [
               true,
               false,
               false,
               false,
               false
              ]
             },
             {
              "title": "Total Quantity of Products Sold per Product by Fiscal Year - 2018"
             }
            ],
            "label": "2018",
            "method": "update"
           },
           {
            "args": [
             {
              "visible": [
               false,
               true,
               false,
               false,
               false
              ]
             },
             {
              "title": "Total Quantity of Products Sold per Product by Fiscal Year - 2019"
             }
            ],
            "label": "2019",
            "method": "update"
           },
           {
            "args": [
             {
              "visible": [
               false,
               false,
               true,
               false,
               false
              ]
             },
             {
              "title": "Total Quantity of Products Sold per Product by Fiscal Year - 2020"
             }
            ],
            "label": "2020",
            "method": "update"
           },
           {
            "args": [
             {
              "visible": [
               false,
               false,
               false,
               true,
               false
              ]
             },
             {
              "title": "Total Quantity of Products Sold per Product by Fiscal Year - 2021"
             }
            ],
            "label": "2021",
            "method": "update"
           },
           {
            "args": [
             {
              "visible": [
               false,
               false,
               false,
               false,
               true
              ]
             },
             {
              "title": "Total Quantity of Products Sold per Product by Fiscal Year - 2022"
             }
            ],
            "label": "2022",
            "method": "update"
           },
           {
            "args": [
             {
              "visible": [
               true,
               true,
               true,
               true,
               true
              ]
             },
             {
              "title": "Total Quantity of Products Sold per Product for All Years"
             }
            ],
            "label": "All",
            "method": "update"
           }
          ],
          "direction": "down",
          "showactive": true,
          "x": 0.1,
          "xanchor": "left",
          "y": 1.1,
          "yanchor": "top"
         }
        ],
        "width": 1200,
        "xaxis": {
         "title": {
          "text": "Product"
         }
        },
        "yaxis": {
         "title": {
          "text": "Total Quantity Sold"
         }
        }
       }
      },
      "text/html": [
       "<div>                            <div id=\"3839cf43-aff2-485c-9884-d94b0923f378\" class=\"plotly-graph-div\" style=\"height:800px; width:1200px;\"></div>            <script type=\"text/javascript\">                require([\"plotly\"], function(Plotly) {                    window.PLOTLYENV=window.PLOTLYENV || {};                                    if (document.getElementById(\"3839cf43-aff2-485c-9884-d94b0923f378\")) {                    Plotly.newPlot(                        \"3839cf43-aff2-485c-9884-d94b0923f378\",                        [{\"name\":\"2018\",\"visible\":false,\"x\":[\"AQ Dracula HDD \\u2013 3.5 Inch SATA 6 Gb/s 5400 RPM 256 MB Cache\",\"AQ Mforce Gen X\"],\"y\":[73905,91366],\"type\":\"bar\"},{\"name\":\"2019\",\"visible\":false,\"x\":[\"AQ Dracula HDD \\u2013 3.5 Inch SATA 6 Gb/s 5400 RPM 256 MB Cache\",\"AQ Mforce Gen X\",\"AQ WereWolf NAS Internal Hard Drive HDD \\u2013 8.89 cm\"],\"y\":[168152,127361,84006],\"type\":\"bar\"},{\"name\":\"2020\",\"visible\":false,\"x\":[\"AQ Dracula HDD \\u2013 3.5 Inch SATA 6 Gb/s 5400 RPM 256 MB Cache\",\"AQ Mforce Gen X\",\"AQ WereWolf NAS Internal Hard Drive HDD \\u2013 8.89 cm\",\"AQ Zion Saga\"],\"y\":[249242,137869,188971,64502],\"type\":\"bar\"},{\"name\":\"2021\",\"visible\":false,\"x\":[\"AQ Dracula HDD \\u2013 3.5 Inch SATA 6 Gb/s 5400 RPM 256 MB Cache\",\"AQ Mforce Gen X\",\"AQ WereWolf NAS Internal Hard Drive HDD \\u2013 8.89 cm\",\"AQ Zion Saga\"],\"y\":[390575,77857,295705,293806],\"type\":\"bar\"},{\"name\":\"2022\",\"visible\":false,\"x\":[\"AQ Dracula HDD \\u2013 3.5 Inch SATA 6 Gb/s 5400 RPM 256 MB Cache\",\"AQ Mforce Gen X\",\"AQ WereWolf NAS Internal Hard Drive HDD \\u2013 8.89 cm\",\"AQ Zion Saga\"],\"y\":[329707,218083,506672,485156],\"type\":\"bar\"},{\"name\":\"All\",\"visible\":true,\"x\":[\"AQ Dracula HDD \\u2013 3.5 Inch SATA 6 Gb/s 5400 RPM 256 MB Cache\",\"AQ Dracula HDD \\u2013 3.5 Inch SATA 6 Gb/s 5400 RPM 256 MB Cache\",\"AQ Dracula HDD \\u2013 3.5 Inch SATA 6 Gb/s 5400 RPM 256 MB Cache\",\"AQ Dracula HDD \\u2013 3.5 Inch SATA 6 Gb/s 5400 RPM 256 MB Cache\",\"AQ Dracula HDD \\u2013 3.5 Inch SATA 6 Gb/s 5400 RPM 256 MB Cache\",\"AQ Mforce Gen X\",\"AQ Mforce Gen X\",\"AQ Mforce Gen X\",\"AQ Mforce Gen X\",\"AQ Mforce Gen X\",\"AQ WereWolf NAS Internal Hard Drive HDD \\u2013 8.89 cm\",\"AQ WereWolf NAS Internal Hard Drive HDD \\u2013 8.89 cm\",\"AQ WereWolf NAS Internal Hard Drive HDD \\u2013 8.89 cm\",\"AQ WereWolf NAS Internal Hard Drive HDD \\u2013 8.89 cm\",\"AQ Zion Saga\",\"AQ Zion Saga\",\"AQ Zion Saga\"],\"y\":[73905,168152,249242,390575,329707,91366,127361,137869,77857,218083,84006,188971,295705,506672,64502,293806,485156],\"type\":\"bar\"}],                        {\"barmode\":\"group\",\"height\":800,\"title\":{\"text\":\"Total Quantity of Products Sold per Product by Fiscal Year\"},\"updatemenus\":[{\"buttons\":[{\"args\":[{\"visible\":[true,false,false,false,false]},{\"title\":\"Total Quantity of Products Sold per Product by Fiscal Year - 2018\"}],\"label\":\"2018\",\"method\":\"update\"},{\"args\":[{\"visible\":[false,true,false,false,false]},{\"title\":\"Total Quantity of Products Sold per Product by Fiscal Year - 2019\"}],\"label\":\"2019\",\"method\":\"update\"},{\"args\":[{\"visible\":[false,false,true,false,false]},{\"title\":\"Total Quantity of Products Sold per Product by Fiscal Year - 2020\"}],\"label\":\"2020\",\"method\":\"update\"},{\"args\":[{\"visible\":[false,false,false,true,false]},{\"title\":\"Total Quantity of Products Sold per Product by Fiscal Year - 2021\"}],\"label\":\"2021\",\"method\":\"update\"},{\"args\":[{\"visible\":[false,false,false,false,true]},{\"title\":\"Total Quantity of Products Sold per Product by Fiscal Year - 2022\"}],\"label\":\"2022\",\"method\":\"update\"},{\"args\":[{\"visible\":[true,true,true,true,true]},{\"title\":\"Total Quantity of Products Sold per Product for All Years\"}],\"label\":\"All\",\"method\":\"update\"}],\"direction\":\"down\",\"showactive\":true,\"x\":0.1,\"xanchor\":\"left\",\"y\":1.1,\"yanchor\":\"top\"}],\"width\":1200,\"xaxis\":{\"title\":{\"text\":\"Product\"}},\"yaxis\":{\"title\":{\"text\":\"Total Quantity Sold\"}},\"template\":{\"data\":{\"bar\":[{\"error_x\":{\"color\":\"#2a3f5f\"},\"error_y\":{\"color\":\"#2a3f5f\"},\"marker\":{\"line\":{\"color\":\"#E5ECF6\",\"width\":0.5},\"pattern\":{\"fillmode\":\"overlay\",\"size\":10,\"solidity\":0.2}},\"type\":\"bar\"}],\"barpolar\":[{\"marker\":{\"line\":{\"color\":\"#E5ECF6\",\"width\":0.5},\"pattern\":{\"fillmode\":\"overlay\",\"size\":10,\"solidity\":0.2}},\"type\":\"barpolar\"}],\"carpet\":[{\"aaxis\":{\"endlinecolor\":\"#2a3f5f\",\"gridcolor\":\"white\",\"linecolor\":\"white\",\"minorgridcolor\":\"white\",\"startlinecolor\":\"#2a3f5f\"},\"baxis\":{\"endlinecolor\":\"#2a3f5f\",\"gridcolor\":\"white\",\"linecolor\":\"white\",\"minorgridcolor\":\"white\",\"startlinecolor\":\"#2a3f5f\"},\"type\":\"carpet\"}],\"choropleth\":[{\"colorbar\":{\"outlinewidth\":0,\"ticks\":\"\"},\"type\":\"choropleth\"}],\"contour\":[{\"colorbar\":{\"outlinewidth\":0,\"ticks\":\"\"},\"colorscale\":[[0.0,\"#0d0887\"],[0.1111111111111111,\"#46039f\"],[0.2222222222222222,\"#7201a8\"],[0.3333333333333333,\"#9c179e\"],[0.4444444444444444,\"#bd3786\"],[0.5555555555555556,\"#d8576b\"],[0.6666666666666666,\"#ed7953\"],[0.7777777777777778,\"#fb9f3a\"],[0.8888888888888888,\"#fdca26\"],[1.0,\"#f0f921\"]],\"type\":\"contour\"}],\"contourcarpet\":[{\"colorbar\":{\"outlinewidth\":0,\"ticks\":\"\"},\"type\":\"contourcarpet\"}],\"heatmap\":[{\"colorbar\":{\"outlinewidth\":0,\"ticks\":\"\"},\"colorscale\":[[0.0,\"#0d0887\"],[0.1111111111111111,\"#46039f\"],[0.2222222222222222,\"#7201a8\"],[0.3333333333333333,\"#9c179e\"],[0.4444444444444444,\"#bd3786\"],[0.5555555555555556,\"#d8576b\"],[0.6666666666666666,\"#ed7953\"],[0.7777777777777778,\"#fb9f3a\"],[0.8888888888888888,\"#fdca26\"],[1.0,\"#f0f921\"]],\"type\":\"heatmap\"}],\"heatmapgl\":[{\"colorbar\":{\"outlinewidth\":0,\"ticks\":\"\"},\"colorscale\":[[0.0,\"#0d0887\"],[0.1111111111111111,\"#46039f\"],[0.2222222222222222,\"#7201a8\"],[0.3333333333333333,\"#9c179e\"],[0.4444444444444444,\"#bd3786\"],[0.5555555555555556,\"#d8576b\"],[0.6666666666666666,\"#ed7953\"],[0.7777777777777778,\"#fb9f3a\"],[0.8888888888888888,\"#fdca26\"],[1.0,\"#f0f921\"]],\"type\":\"heatmapgl\"}],\"histogram\":[{\"marker\":{\"pattern\":{\"fillmode\":\"overlay\",\"size\":10,\"solidity\":0.2}},\"type\":\"histogram\"}],\"histogram2d\":[{\"colorbar\":{\"outlinewidth\":0,\"ticks\":\"\"},\"colorscale\":[[0.0,\"#0d0887\"],[0.1111111111111111,\"#46039f\"],[0.2222222222222222,\"#7201a8\"],[0.3333333333333333,\"#9c179e\"],[0.4444444444444444,\"#bd3786\"],[0.5555555555555556,\"#d8576b\"],[0.6666666666666666,\"#ed7953\"],[0.7777777777777778,\"#fb9f3a\"],[0.8888888888888888,\"#fdca26\"],[1.0,\"#f0f921\"]],\"type\":\"histogram2d\"}],\"histogram2dcontour\":[{\"colorbar\":{\"outlinewidth\":0,\"ticks\":\"\"},\"colorscale\":[[0.0,\"#0d0887\"],[0.1111111111111111,\"#46039f\"],[0.2222222222222222,\"#7201a8\"],[0.3333333333333333,\"#9c179e\"],[0.4444444444444444,\"#bd3786\"],[0.5555555555555556,\"#d8576b\"],[0.6666666666666666,\"#ed7953\"],[0.7777777777777778,\"#fb9f3a\"],[0.8888888888888888,\"#fdca26\"],[1.0,\"#f0f921\"]],\"type\":\"histogram2dcontour\"}],\"mesh3d\":[{\"colorbar\":{\"outlinewidth\":0,\"ticks\":\"\"},\"type\":\"mesh3d\"}],\"parcoords\":[{\"line\":{\"colorbar\":{\"outlinewidth\":0,\"ticks\":\"\"}},\"type\":\"parcoords\"}],\"pie\":[{\"automargin\":true,\"type\":\"pie\"}],\"scatter\":[{\"marker\":{\"colorbar\":{\"outlinewidth\":0,\"ticks\":\"\"}},\"type\":\"scatter\"}],\"scatter3d\":[{\"line\":{\"colorbar\":{\"outlinewidth\":0,\"ticks\":\"\"}},\"marker\":{\"colorbar\":{\"outlinewidth\":0,\"ticks\":\"\"}},\"type\":\"scatter3d\"}],\"scattercarpet\":[{\"marker\":{\"colorbar\":{\"outlinewidth\":0,\"ticks\":\"\"}},\"type\":\"scattercarpet\"}],\"scattergeo\":[{\"marker\":{\"colorbar\":{\"outlinewidth\":0,\"ticks\":\"\"}},\"type\":\"scattergeo\"}],\"scattergl\":[{\"marker\":{\"colorbar\":{\"outlinewidth\":0,\"ticks\":\"\"}},\"type\":\"scattergl\"}],\"scattermapbox\":[{\"marker\":{\"colorbar\":{\"outlinewidth\":0,\"ticks\":\"\"}},\"type\":\"scattermapbox\"}],\"scatterpolar\":[{\"marker\":{\"colorbar\":{\"outlinewidth\":0,\"ticks\":\"\"}},\"type\":\"scatterpolar\"}],\"scatterpolargl\":[{\"marker\":{\"colorbar\":{\"outlinewidth\":0,\"ticks\":\"\"}},\"type\":\"scatterpolargl\"}],\"scatterternary\":[{\"marker\":{\"colorbar\":{\"outlinewidth\":0,\"ticks\":\"\"}},\"type\":\"scatterternary\"}],\"surface\":[{\"colorbar\":{\"outlinewidth\":0,\"ticks\":\"\"},\"colorscale\":[[0.0,\"#0d0887\"],[0.1111111111111111,\"#46039f\"],[0.2222222222222222,\"#7201a8\"],[0.3333333333333333,\"#9c179e\"],[0.4444444444444444,\"#bd3786\"],[0.5555555555555556,\"#d8576b\"],[0.6666666666666666,\"#ed7953\"],[0.7777777777777778,\"#fb9f3a\"],[0.8888888888888888,\"#fdca26\"],[1.0,\"#f0f921\"]],\"type\":\"surface\"}],\"table\":[{\"cells\":{\"fill\":{\"color\":\"#EBF0F8\"},\"line\":{\"color\":\"white\"}},\"header\":{\"fill\":{\"color\":\"#C8D4E3\"},\"line\":{\"color\":\"white\"}},\"type\":\"table\"}]},\"layout\":{\"annotationdefaults\":{\"arrowcolor\":\"#2a3f5f\",\"arrowhead\":0,\"arrowwidth\":1},\"autotypenumbers\":\"strict\",\"coloraxis\":{\"colorbar\":{\"outlinewidth\":0,\"ticks\":\"\"}},\"colorscale\":{\"diverging\":[[0,\"#8e0152\"],[0.1,\"#c51b7d\"],[0.2,\"#de77ae\"],[0.3,\"#f1b6da\"],[0.4,\"#fde0ef\"],[0.5,\"#f7f7f7\"],[0.6,\"#e6f5d0\"],[0.7,\"#b8e186\"],[0.8,\"#7fbc41\"],[0.9,\"#4d9221\"],[1,\"#276419\"]],\"sequential\":[[0.0,\"#0d0887\"],[0.1111111111111111,\"#46039f\"],[0.2222222222222222,\"#7201a8\"],[0.3333333333333333,\"#9c179e\"],[0.4444444444444444,\"#bd3786\"],[0.5555555555555556,\"#d8576b\"],[0.6666666666666666,\"#ed7953\"],[0.7777777777777778,\"#fb9f3a\"],[0.8888888888888888,\"#fdca26\"],[1.0,\"#f0f921\"]],\"sequentialminus\":[[0.0,\"#0d0887\"],[0.1111111111111111,\"#46039f\"],[0.2222222222222222,\"#7201a8\"],[0.3333333333333333,\"#9c179e\"],[0.4444444444444444,\"#bd3786\"],[0.5555555555555556,\"#d8576b\"],[0.6666666666666666,\"#ed7953\"],[0.7777777777777778,\"#fb9f3a\"],[0.8888888888888888,\"#fdca26\"],[1.0,\"#f0f921\"]]},\"colorway\":[\"#636efa\",\"#EF553B\",\"#00cc96\",\"#ab63fa\",\"#FFA15A\",\"#19d3f3\",\"#FF6692\",\"#B6E880\",\"#FF97FF\",\"#FECB52\"],\"font\":{\"color\":\"#2a3f5f\"},\"geo\":{\"bgcolor\":\"white\",\"lakecolor\":\"white\",\"landcolor\":\"#E5ECF6\",\"showlakes\":true,\"showland\":true,\"subunitcolor\":\"white\"},\"hoverlabel\":{\"align\":\"left\"},\"hovermode\":\"closest\",\"mapbox\":{\"style\":\"light\"},\"paper_bgcolor\":\"white\",\"plot_bgcolor\":\"#E5ECF6\",\"polar\":{\"angularaxis\":{\"gridcolor\":\"white\",\"linecolor\":\"white\",\"ticks\":\"\"},\"bgcolor\":\"#E5ECF6\",\"radialaxis\":{\"gridcolor\":\"white\",\"linecolor\":\"white\",\"ticks\":\"\"}},\"scene\":{\"xaxis\":{\"backgroundcolor\":\"#E5ECF6\",\"gridcolor\":\"white\",\"gridwidth\":2,\"linecolor\":\"white\",\"showbackground\":true,\"ticks\":\"\",\"zerolinecolor\":\"white\"},\"yaxis\":{\"backgroundcolor\":\"#E5ECF6\",\"gridcolor\":\"white\",\"gridwidth\":2,\"linecolor\":\"white\",\"showbackground\":true,\"ticks\":\"\",\"zerolinecolor\":\"white\"},\"zaxis\":{\"backgroundcolor\":\"#E5ECF6\",\"gridcolor\":\"white\",\"gridwidth\":2,\"linecolor\":\"white\",\"showbackground\":true,\"ticks\":\"\",\"zerolinecolor\":\"white\"}},\"shapedefaults\":{\"line\":{\"color\":\"#2a3f5f\"}},\"ternary\":{\"aaxis\":{\"gridcolor\":\"white\",\"linecolor\":\"white\",\"ticks\":\"\"},\"baxis\":{\"gridcolor\":\"white\",\"linecolor\":\"white\",\"ticks\":\"\"},\"bgcolor\":\"#E5ECF6\",\"caxis\":{\"gridcolor\":\"white\",\"linecolor\":\"white\",\"ticks\":\"\"}},\"title\":{\"x\":0.05},\"xaxis\":{\"automargin\":true,\"gridcolor\":\"white\",\"linecolor\":\"white\",\"ticks\":\"\",\"title\":{\"standoff\":15},\"zerolinecolor\":\"white\",\"zerolinewidth\":2},\"yaxis\":{\"automargin\":true,\"gridcolor\":\"white\",\"linecolor\":\"white\",\"ticks\":\"\",\"title\":{\"standoff\":15},\"zerolinecolor\":\"white\",\"zerolinewidth\":2}}}},                        {\"responsive\": true}                    ).then(function(){\n",
       "                            \n",
       "var gd = document.getElementById('3839cf43-aff2-485c-9884-d94b0923f378');\n",
       "var x = new MutationObserver(function (mutations, observer) {{\n",
       "        var display = window.getComputedStyle(gd).display;\n",
       "        if (!display || display === 'none') {{\n",
       "            console.log([gd, 'removed!']);\n",
       "            Plotly.purge(gd);\n",
       "            observer.disconnect();\n",
       "        }}\n",
       "}});\n",
       "\n",
       "// Listen for the removal of the full notebook cells\n",
       "var notebookContainer = gd.closest('#notebook-container');\n",
       "if (notebookContainer) {{\n",
       "    x.observe(notebookContainer, {childList: true});\n",
       "}}\n",
       "\n",
       "// Listen for the clearing of the current output cell\n",
       "var outputEl = gd.closest('.output');\n",
       "if (outputEl) {{\n",
       "    x.observe(outputEl, {childList: true});\n",
       "}}\n",
       "\n",
       "                        })                };                });            </script>        </div>"
      ]
     },
     "metadata": {},
     "output_type": "display_data"
    }
   ],
   "source": [
    "# Create traces for each fiscal year\n",
    "traces = []\n",
    "years = [2018, 2019, 2020, 2021, 2022]\n",
    "for year in years:\n",
    "    data = total_quantity_sold_per_product_fiscal_year[total_quantity_sold_per_product_fiscal_year['fiscal_year'] == year]\n",
    "    trace = go.Bar(\n",
    "        x=data['product'],\n",
    "        y=data['total_quantity_sold'],\n",
    "        name=str(year),\n",
    "        visible=False\n",
    "    )\n",
    "    traces.append(trace)\n",
    "\n",
    "# Create trace for all years\n",
    "all_trace = go.Bar(\n",
    "    x=total_quantity_sold_per_product_fiscal_year['product'],\n",
    "    y=total_quantity_sold_per_product_fiscal_year['total_quantity_sold'],\n",
    "    name='All',\n",
    "    visible=True\n",
    ")\n",
    "traces.append(all_trace)\n",
    "\n",
    "# Create layout with dropdown menu\n",
    "layout = go.Layout(\n",
    "    title='Total Quantity of Products Sold per Product by Fiscal Year',\n",
    "    xaxis=dict(title='Product'),\n",
    "    yaxis=dict(title='Total Quantity Sold'),\n",
    "    barmode='group',\n",
    "    updatemenus=[\n",
    "        {\n",
    "            'buttons': [\n",
    "                {'method': 'update',\n",
    "                 'label': str(year) if year != 0 else 'All',\n",
    "                 'args': [{'visible': [True if year == y or year == 0 else False for y in years]},\n",
    "                          {'title': f'Total Quantity of Products Sold per Product by Fiscal Year - {year}' if year != 0 else 'Total Quantity of Products Sold per Product for All Years'}]}\n",
    "                for year in years + [0]\n",
    "            ],\n",
    "            'direction': 'down',\n",
    "            'showactive': True,\n",
    "            'x': 0.1,\n",
    "            'xanchor': 'left',\n",
    "            'y': 1.1,\n",
    "            'yanchor': 'top'\n",
    "        }\n",
    "    ],\n",
    "    height=800,  # Adjust the height\n",
    "    width=1200    # Adjust the width\n",
    ")\n",
    "\n",
    "# Create figure and plot\n",
    "fig = go.Figure(data=traces, layout=layout)\n",
    "fig.show()"
   ]
  },
  {
   "cell_type": "markdown",
   "id": "d0815155-5e71-40b3-b1bf-56c66f26be0d",
   "metadata": {},
   "source": [
    "<span style=\"font-family: Arial; font-size: 24px;\">Conclusion:</span> Here we can see that our all time highest selling product was the AQ Dracula model. However as of 2022, we have seen an increase in sales for both the AQ Werewolf and AQ Zion Model. These changes are interesting and we should be investigating what feature changes occured within our models in the past year, and how we might be able to improve sales. Additionally our AQ Mforce models have been consistent but on the lower end and have not had any significant jumps like the other products. We should investigate the pricing models on these as well and see if there is a better Market to have these invested into."
   ]
  },
  {
   "cell_type": "markdown",
   "id": "98823c03-79a2-46f5-adb1-b710fef9ba48",
   "metadata": {},
   "source": [
    "<span style=\"font-family: Arial; font-size: 24px;\">Recommendations:</span>"
   ]
  },
  {
   "cell_type": "markdown",
   "id": "4f21be13-588e-4025-b1fb-d695becd6e59",
   "metadata": {},
   "source": [
    "Based off all of the data we are able to currently see a growing trend in our sales for such products like AQ Werewolf and Zion, while there has been a steady decline in other models. We do need to investigate why this has occured, whether our popular markets like the US and India are finding something proprietery in these specific products compared to other products out there, and what we can do to capitalize on this. Additionally for our older products, they would be best to either be discontinued or push for further market in the LATAM market as we see we have had incredibly low sales in these areas. Additionally it would seem that lowering the amount of products we are using for each model will likely give less options to our customers and confuse them less, as there is always the possibility as well that by using some of these older models our customers are not differentiating them properly from the newer versions which would lead to a lack of sales, especially as we are making more money as newer products are coming out."
   ]
  },
  {
   "cell_type": "markdown",
   "id": "8ff934f6-1769-4e5d-96b1-2ed9d66a99f1",
   "metadata": {},
   "source": [
    "Final Project Link for Tableau"
   ]
  },
  {
   "cell_type": "markdown",
   "id": "6a88a3d7-f290-48c4-8365-c60ce50ef1b1",
   "metadata": {},
   "source": [
    "https://public.tableau.com/app/profile/eliezer.berberbaum/viz/ProductAnalysisforFinalProject/ProductAnalysisStory"
   ]
  },
  {
   "cell_type": "markdown",
   "metadata": {},
   "source": [
    "<span style=\"font-family: Arial; font-size: 24px;\">Hypothesis Testing</span>"
   ]
  },
  {
   "cell_type": "markdown",
   "metadata": {},
   "source": [
    "<span style=\"font-family: Arial; font-size: 24px;\">Training</span>"
   ]
  },
  {
   "cell_type": "code",
   "execution_count": 181,
   "metadata": {},
   "outputs": [],
   "source": [
    "X_train_encoded = pd.get_dummies(X_train, drop_first=True)\n",
    "X_test_encoded = pd.get_dummies(X_test, drop_first=True)"
   ]
  },
  {
   "cell_type": "code",
   "execution_count": 182,
   "metadata": {},
   "outputs": [],
   "source": [
    "# Assuming 'y_train' and 'y_test' are your target variables\n",
    "y_train_numeric = y_train.map({'No': 0, 'Yes': 1})\n",
    "y_test_numeric = y_test.map({'No': 0, 'Yes': 1})"
   ]
  },
  {
   "cell_type": "code",
   "execution_count": 202,
   "metadata": {},
   "outputs": [],
   "source": [
    "# Assuming 'X_train', 'X_val', and 'X_test' are your feature sets\n",
    "X_train_encoded = pd.get_dummies(X_train, drop_first=True)\n",
    "X_val_encoded = pd.get_dummies(X_val, drop_first=True)\n",
    "X_test_encoded = pd.get_dummies(X_test, drop_first=True)"
   ]
  },
  {
   "cell_type": "code",
   "execution_count": 183,
   "metadata": {
    "scrolled": false
   },
   "outputs": [
    {
     "name": "stdout",
     "output_type": "stream",
     "text": [
      "\n",
      "First 5 rows of dim_product table after updating VIP column:\n",
      "('A0118150101', 'P & A', 'Peripherals', 'Internal HDD', 'AQ Dracula HDD – 3.5 Inch SATA 6 Gb/s 5400 RPM 256 MB Cache', 'Standard', 'No')\n",
      "('A0118150102', 'P & A', 'Peripherals', 'Internal HDD', 'AQ Dracula HDD – 3.5 Inch SATA 6 Gb/s 5400 RPM 256 MB Cache', 'Plus', 'Yes')\n",
      "('A0118150103', 'P & A', 'Peripherals', 'Internal HDD', 'AQ Dracula HDD – 3.5 Inch SATA 6 Gb/s 5400 RPM 256 MB Cache', 'Premium', 'Yes')\n",
      "('A0118150104', 'P & A', 'Peripherals', 'Internal HDD', 'AQ Dracula HDD – 3.5 Inch SATA 6 Gb/s 5400 RPM 256 MB Cache', 'Premium Plus', 'Yes')\n",
      "('A0219150201', 'P & A', 'Peripherals', 'Internal HDD', 'AQ WereWolf NAS Internal Hard Drive HDD – 8.89 cm', 'Standard', 'No')\n"
     ]
    }
   ],
   "source": [
    "# Establish a connection to your SQLite database\n",
    "con = sqlite3.connect('atliq_db.sqlite3')\n",
    "cursor = con.cursor()\n",
    "\n",
    "# Check if the VIP column exists in the dim_product table\n",
    "cursor.execute(\"PRAGMA table_info(dim_product)\")\n",
    "columns = cursor.fetchall()\n",
    "\n",
    "# Check if the VIP column already exists\n",
    "vip_exists = any(column[1] == 'VIP' for column in columns)\n",
    "\n",
    "if not vip_exists:\n",
    "    # Add a new column 'VIP' to dim_product table\n",
    "    alter_query = \"\"\"\n",
    "        ALTER TABLE dim_product\n",
    "        ADD COLUMN VIP TEXT\n",
    "    \"\"\"\n",
    "    cursor.execute(alter_query)\n",
    "    con.commit()\n",
    "\n",
    "    # Update values in the 'VIP' column based on the presence of 'Premium' or 'Plus' in the 'variant' column\n",
    "    update_query = \"\"\"\n",
    "        UPDATE dim_product\n",
    "        SET VIP = \n",
    "            CASE \n",
    "                WHEN LOWER(variant) LIKE '%premium%' OR LOWER(variant) LIKE '%plus%' THEN 'Yes'\n",
    "                ELSE 'No'\n",
    "            END\n",
    "    \"\"\"\n",
    "    cursor.execute(update_query)\n",
    "    con.commit()\n",
    "\n",
    "# Print the content of the dim_product table (first 5 rows) after updating VIP column\n",
    "print(\"\\nFirst 5 rows of dim_product table after updating VIP column:\")\n",
    "cursor.execute(\"SELECT * FROM dim_product LIMIT 5\")\n",
    "rows = cursor.fetchall()\n",
    "for row in rows:\n",
    "    print(row)\n",
    "\n",
    "# Close the database connection\n",
    "con.close()\n"
   ]
  },
  {
   "cell_type": "code",
   "execution_count": 184,
   "metadata": {},
   "outputs": [],
   "source": [
    "# Establish a connection to your SQLite database\n",
    "con = sqlite3.connect('atliq_db.sqlite3')\n",
    "\n",
    "# Fetch the data from the database (replace 'your_query_here' with your SQL query)\n",
    "query = \"SELECT * FROM dim_product\"\n",
    "data = pd.read_sql_query(query, con)\n",
    "\n",
    "# Drop the 'VIP' column to create features X and target variable y\n",
    "X = data.drop('VIP', axis=1)  # Features (excluding the 'VIP' column)\n",
    "y = data['VIP']  # Target variable ('VIP' column)\n",
    "\n",
    "# Split the data into training (50%) and the remaining data (50%)\n",
    "X_train, X_remaining, y_train, y_remaining = train_test_split(X, y, test_size=0.5, random_state=42)\n",
    "\n",
    "# Further split the remaining data into validation (50%) and test (50%)\n",
    "X_val, X_test, y_val, y_test = train_test_split(X_remaining, y_remaining, test_size=0.5, random_state=42)\n",
    "\n",
    "# Close the database connection\n",
    "con.close()"
   ]
  },
  {
   "cell_type": "code",
   "execution_count": 185,
   "metadata": {},
   "outputs": [
    {
     "name": "stdout",
     "output_type": "stream",
     "text": [
      "Basic statistics for Standard group\n",
      "===============================================\n"
     ]
    },
    {
     "data": {
      "text/html": [
       "<div>\n",
       "<style scoped>\n",
       "    .dataframe tbody tr th:only-of-type {\n",
       "        vertical-align: middle;\n",
       "    }\n",
       "\n",
       "    .dataframe tbody tr th {\n",
       "        vertical-align: top;\n",
       "    }\n",
       "\n",
       "    .dataframe thead th {\n",
       "        text-align: right;\n",
       "    }\n",
       "</style>\n",
       "<table border=\"1\" class=\"dataframe\">\n",
       "  <thead>\n",
       "    <tr style=\"text-align: right;\">\n",
       "      <th></th>\n",
       "      <th>product_code</th>\n",
       "      <th>division</th>\n",
       "      <th>segment</th>\n",
       "      <th>category</th>\n",
       "      <th>product</th>\n",
       "      <th>variant</th>\n",
       "      <th>VIP</th>\n",
       "    </tr>\n",
       "  </thead>\n",
       "  <tbody>\n",
       "    <tr>\n",
       "      <th>count</th>\n",
       "      <td>136</td>\n",
       "      <td>136</td>\n",
       "      <td>136</td>\n",
       "      <td>136</td>\n",
       "      <td>136</td>\n",
       "      <td>136</td>\n",
       "      <td>136</td>\n",
       "    </tr>\n",
       "    <tr>\n",
       "      <th>unique</th>\n",
       "      <td>136</td>\n",
       "      <td>3</td>\n",
       "      <td>6</td>\n",
       "      <td>14</td>\n",
       "      <td>73</td>\n",
       "      <td>10</td>\n",
       "      <td>1</td>\n",
       "    </tr>\n",
       "    <tr>\n",
       "      <th>top</th>\n",
       "      <td>A6719160101</td>\n",
       "      <td>PC</td>\n",
       "      <td>Notebook</td>\n",
       "      <td>Personal Laptop</td>\n",
       "      <td>AQ Elite</td>\n",
       "      <td>Standard</td>\n",
       "      <td>No</td>\n",
       "    </tr>\n",
       "    <tr>\n",
       "      <th>freq</th>\n",
       "      <td>1</td>\n",
       "      <td>62</td>\n",
       "      <td>50</td>\n",
       "      <td>24</td>\n",
       "      <td>3</td>\n",
       "      <td>33</td>\n",
       "      <td>136</td>\n",
       "    </tr>\n",
       "  </tbody>\n",
       "</table>\n",
       "</div>"
      ],
      "text/plain": [
       "       product_code division   segment         category   product   variant  \\\n",
       "count           136      136       136              136       136       136   \n",
       "unique          136        3         6               14        73        10   \n",
       "top     A6719160101       PC  Notebook  Personal Laptop  AQ Elite  Standard   \n",
       "freq              1       62        50               24         3        33   \n",
       "\n",
       "        VIP  \n",
       "count   136  \n",
       "unique    1  \n",
       "top      No  \n",
       "freq    136  "
      ]
     },
     "metadata": {},
     "output_type": "display_data"
    },
    {
     "name": "stdout",
     "output_type": "stream",
     "text": [
      "Basic statistics for Premium group\n",
      "===============================================\n"
     ]
    },
    {
     "data": {
      "text/html": [
       "<div>\n",
       "<style scoped>\n",
       "    .dataframe tbody tr th:only-of-type {\n",
       "        vertical-align: middle;\n",
       "    }\n",
       "\n",
       "    .dataframe tbody tr th {\n",
       "        vertical-align: top;\n",
       "    }\n",
       "\n",
       "    .dataframe thead th {\n",
       "        text-align: right;\n",
       "    }\n",
       "</style>\n",
       "<table border=\"1\" class=\"dataframe\">\n",
       "  <thead>\n",
       "    <tr style=\"text-align: right;\">\n",
       "      <th></th>\n",
       "      <th>product_code</th>\n",
       "      <th>division</th>\n",
       "      <th>segment</th>\n",
       "      <th>category</th>\n",
       "      <th>product</th>\n",
       "      <th>variant</th>\n",
       "      <th>VIP</th>\n",
       "    </tr>\n",
       "  </thead>\n",
       "  <tbody>\n",
       "    <tr>\n",
       "      <th>count</th>\n",
       "      <td>261</td>\n",
       "      <td>261</td>\n",
       "      <td>261</td>\n",
       "      <td>261</td>\n",
       "      <td>261</td>\n",
       "      <td>261</td>\n",
       "      <td>261</td>\n",
       "    </tr>\n",
       "    <tr>\n",
       "      <th>unique</th>\n",
       "      <td>261</td>\n",
       "      <td>3</td>\n",
       "      <td>6</td>\n",
       "      <td>14</td>\n",
       "      <td>73</td>\n",
       "      <td>17</td>\n",
       "      <td>1</td>\n",
       "    </tr>\n",
       "    <tr>\n",
       "      <th>top</th>\n",
       "      <td>A6919160302</td>\n",
       "      <td>P &amp; A</td>\n",
       "      <td>Accessories</td>\n",
       "      <td>Personal Laptop</td>\n",
       "      <td>AQ Elite</td>\n",
       "      <td>Plus 2</td>\n",
       "      <td>Yes</td>\n",
       "    </tr>\n",
       "    <tr>\n",
       "      <th>freq</th>\n",
       "      <td>1</td>\n",
       "      <td>138</td>\n",
       "      <td>80</td>\n",
       "      <td>37</td>\n",
       "      <td>5</td>\n",
       "      <td>35</td>\n",
       "      <td>261</td>\n",
       "    </tr>\n",
       "  </tbody>\n",
       "</table>\n",
       "</div>"
      ],
      "text/plain": [
       "       product_code division      segment         category   product variant  \\\n",
       "count           261      261          261              261       261     261   \n",
       "unique          261        3            6               14        73      17   \n",
       "top     A6919160302    P & A  Accessories  Personal Laptop  AQ Elite  Plus 2   \n",
       "freq              1      138           80               37         5      35   \n",
       "\n",
       "        VIP  \n",
       "count   261  \n",
       "unique    1  \n",
       "top     Yes  \n",
       "freq    261  "
      ]
     },
     "metadata": {},
     "output_type": "display_data"
    }
   ],
   "source": [
    "# Establish a connection to your SQLite database\n",
    "con = sqlite3.connect('atliq_db.sqlite3')\n",
    "\n",
    "# Fetch the data from the 'dim_product' table\n",
    "query = \"SELECT * FROM dim_product\"\n",
    "data = pd.read_sql_query(query, con)\n",
    "\n",
    "# For loop to display basic statistics for 'Yes' and 'No' groups\n",
    "for group in data['VIP'].unique():\n",
    "    if group == 'Yes':\n",
    "        result = 'Premium'\n",
    "    else:\n",
    "        result = 'Standard'\n",
    "        \n",
    "    print(\"Basic statistics for\", result, \"group\")\n",
    "    print(\"===============================================\")\n",
    "    display(data[data.VIP == group].describe())\n",
    "\n",
    "# Close the database connection\n",
    "con.close()"
   ]
  },
  {
   "cell_type": "code",
   "execution_count": 186,
   "metadata": {},
   "outputs": [],
   "source": [
    "# Establish a connection to the SQLite database\n",
    "conn = sqlite3.connect('atliq_db.sqlite3')\n",
    "\n",
    "# Fetch the total count of rows in dim_product table\n",
    "count_query = \"SELECT COUNT(*) FROM dim_product\"\n",
    "total_rows = pd.read_sql_query(count_query, conn).iloc[0, 0]\n",
    "\n",
    "# Calculate the number of rows for training and testing\n",
    "train_count = int(0.6 * total_rows)\n",
    "valid_count = total_rows - train_count\n",
    "\n",
    "# Query to fetch the training data\n",
    "train_query = f\"SELECT * FROM dim_product LIMIT {train_count}\"\n",
    "\n",
    "# Query to fetch the testing data starting from where the training data ends\n",
    "valid_query = f\"SELECT * FROM dim_product LIMIT {valid_count} OFFSET {train_count}\"\n",
    "\n",
    "# Fetch the training and testing datasets\n",
    "train = pd.read_sql_query(train_query, conn)\n",
    "valid = pd.read_sql_query(valid_query, conn)\n",
    "\n",
    "# Close the database connection\n",
    "conn.close()\n"
   ]
  },
  {
   "cell_type": "code",
   "execution_count": 187,
   "metadata": {
    "scrolled": false
   },
   "outputs": [
    {
     "name": "stdout",
     "output_type": "stream",
     "text": [
      "Train shape: (238, 7)\n",
      "Valid shape: (159, 7)\n"
     ]
    }
   ],
   "source": [
    "# Display the shape of the training dataset\n",
    "print(\"Train shape:\", train.shape)\n",
    "\n",
    "# Display the shape of the validation dataset\n",
    "print(\"Valid shape:\", valid.shape)"
   ]
  },
  {
   "cell_type": "code",
   "execution_count": 188,
   "metadata": {},
   "outputs": [],
   "source": [
    "# Connect to the SQLite database\n",
    "con = sqlite3.connect('atliq_db.sqlite3')\n",
    "\n",
    "# Assuming 'dim_product' is the table name in your SQLite database\n",
    "# You need to adjust the SQL query based on your actual table structure\n",
    "query = 'SELECT * FROM dim_product'\n",
    "\n",
    "# Read the data into a DataFrame\n",
    "data = pd.read_sql_query(query, con)\n",
    "\n",
    "# Close the database connection\n",
    "con.close()\n",
    "\n",
    "# Assuming 'X' contains all columns except the target variable\n",
    "X = data.drop('VIP', axis=1)\n",
    "\n",
    "# Assuming 'y' is the target variable\n",
    "y = data['VIP']\n",
    "\n",
    "# Split the data into training and temporary data (80% training, 20% temporary)\n",
    "X_train, X_temp, y_train, y_temp = train_test_split(X, y, test_size=0.2, random_state=42)\n",
    "\n",
    "# Split the temporary data into validation and test sets (10% validation, 10% test)\n",
    "X_valid, X_test, y_valid, y_test = train_test_split(X_temp, y_temp, test_size=0.5, random_state=42)\n",
    "\n",
    "# Now you have your training, validation, and testing sets\n",
    "# X_train, y_train: Training set\n",
    "# X_valid, y_valid: Validation set\n",
    "# X_test, y_test: Testing set"
   ]
  },
  {
   "cell_type": "code",
   "execution_count": 189,
   "metadata": {},
   "outputs": [
    {
     "data": {
      "image/png": "[encoded data removed]",
      "text/plain": [
       "<Figure size 864x720 with 4 Axes>"
      ]
     },
     "metadata": {
      "needs_background": "light"
     },
     "output_type": "display_data"
    }
   ],
   "source": [
    "# Count the number of occurrences of each class in the original dataset\n",
    "class_counts = y.value_counts()\n",
    "\n",
    "# Count the number of occurrences of each class in the training set\n",
    "train_class_counts = y_train.value_counts()\n",
    "\n",
    "# Count the number of occurrences of each class in the validation set\n",
    "valid_class_counts = y_valid.value_counts()\n",
    "\n",
    "# Count the number of occurrences of each class in the testing set\n",
    "test_class_counts = y_test.value_counts()\n",
    "\n",
    "# Plot the class distribution in each set\n",
    "fig, axs = plt.subplots(2, 2, figsize=(12, 10))\n",
    "\n",
    "axs[0, 0].bar(class_counts.index, class_counts.values)\n",
    "axs[0, 0].set_title('Original Data')\n",
    "\n",
    "axs[0, 1].bar(train_class_counts.index, train_class_counts.values)\n",
    "axs[0, 1].set_title('Training Set')\n",
    "\n",
    "axs[1, 0].bar(valid_class_counts.index, valid_class_counts.values)\n",
    "axs[1, 0].set_title('Validation Set')\n",
    "\n",
    "axs[1, 1].bar(test_class_counts.index, test_class_counts.values)\n",
    "axs[1, 1].set_title('Testing Set')\n",
    "\n",
    "plt.tight_layout()\n",
    "plt.show()"
   ]
  },
  {
   "cell_type": "code",
   "execution_count": 190,
   "metadata": {
    "scrolled": true
   },
   "outputs": [
    {
     "name": "stdout",
     "output_type": "stream",
     "text": [
      "Accuracy on the validation set: 100.00%\n"
     ]
    }
   ],
   "source": [
    "# One-hot encode categorical variables\n",
    "X_encoded = pd.get_dummies(X, drop_first=True)\n",
    "\n",
    "# Split the encoded data into training and temporary data\n",
    "X_train_encoded, X_temp_encoded, y_train, y_temp = train_test_split(X_encoded, y, test_size=0.2, random_state=42)\n",
    "\n",
    "# Split the temporary data into validation and test sets\n",
    "X_valid_encoded, X_test_encoded, y_valid, y_test = train_test_split(X_temp_encoded, y_temp, test_size=0.5, random_state=42)\n",
    "\n",
    "# Create and train a Decision Tree Classifier model\n",
    "dtc_model = DecisionTreeClassifier(random_state=42)\n",
    "dtc_model.fit(X_train_encoded, y_train)\n",
    "\n",
    "# Predict on the validation set\n",
    "y_valid_pred = dtc_model.predict(X_valid_encoded)\n",
    "\n",
    "# Calculate the accuracy on the validation set\n",
    "accuracy = accuracy_score(y_valid, y_valid_pred)\n",
    "\n",
    "print(f'Accuracy on the validation set: {accuracy * 100:.2f}%')"
   ]
  },
  {
   "cell_type": "markdown",
   "metadata": {},
   "source": [
    "Conclusion: 100% of the samples in the validation dataset were correctly classified by this mode. This is likely due to using limited data from our set."
   ]
  },
  {
   "cell_type": "code",
   "execution_count": 191,
   "metadata": {},
   "outputs": [
    {
     "name": "stdout",
     "output_type": "stream",
     "text": [
      "                      Feature  Importance\n",
      "505        variant_Standard 1    0.153080\n",
      "506        variant_Standard 2    0.148105\n",
      "504          variant_Standard    0.147217\n",
      "397               division_PC    0.102357\n",
      "507        variant_Standard 3    0.093861\n",
      "..                        ...         ...\n",
      "166  product_code_A3421150606    0.000000\n",
      "165  product_code_A3421150605    0.000000\n",
      "164  product_code_A3421150604    0.000000\n",
      "163  product_code_A3421150603    0.000000\n",
      "257  product_code_A4821110806    0.000000\n",
      "\n",
      "[514 rows x 2 columns]\n"
     ]
    }
   ],
   "source": [
    "# Get feature importances from the trained model\n",
    "feature_importances = dtc_model.feature_importances_\n",
    "\n",
    "# Create a DataFrame to display feature importances\n",
    "feature_importance_df = pd.DataFrame({'Feature': X_train_encoded.columns, 'Importance': feature_importances})\n",
    "feature_importance_df = feature_importance_df.sort_values(by='Importance', ascending=False)\n",
    "\n",
    "# Display the feature importances\n",
    "print(feature_importance_df)"
   ]
  },
  {
   "cell_type": "code",
   "execution_count": 192,
   "metadata": {
    "scrolled": true
   },
   "outputs": [
    {
     "name": "stdout",
     "output_type": "stream",
     "text": [
      "Depth: 1, Accuracy: 82.50%\n",
      "Depth: 2, Accuracy: 85.00%\n",
      "Depth: 3, Accuracy: 87.50%\n",
      "Depth: 4, Accuracy: 87.50%\n",
      "Depth: 5, Accuracy: 92.50%\n",
      "Depth: 6, Accuracy: 92.50%\n",
      "\n",
      "Best Depth: 5, Best Accuracy: 92.50%\n"
     ]
    }
   ],
   "source": [
    "final_depth = 0\n",
    "final_score = 0\n",
    "\n",
    "for depth in range(1, 7):\n",
    "    dtc_model = DecisionTreeClassifier(random_state=42, max_depth=depth)\n",
    "    dtc_model.fit(X_train_encoded, y_train)\n",
    "    \n",
    "    # Predict on the validation set\n",
    "    valid_pred = dtc_model.predict(X_valid_encoded)\n",
    "    \n",
    "    # Calculate the accuracy on the validation set\n",
    "    accuracy = accuracy_score(y_valid, valid_pred)\n",
    "    \n",
    "    print(f\"Depth: {depth}, Accuracy: {accuracy * 100:.2f}%\")\n",
    "    \n",
    "    # Update final depth and score if the current model has higher accuracy\n",
    "    if accuracy > final_score:\n",
    "        final_depth = depth\n",
    "        final_score = accuracy\n",
    "\n",
    "print(f\"\\nBest Depth: {final_depth}, Best Accuracy: {final_score * 100:.2f}%\")"
   ]
  },
  {
   "cell_type": "code",
   "execution_count": 193,
   "metadata": {},
   "outputs": [
    {
     "name": "stdout",
     "output_type": "stream",
     "text": [
      "Final depth = 6 with validation accuracy: 0.9375\n"
     ]
    }
   ],
   "source": [
    "# Connect to the SQLite database\n",
    "con = sqlite3.connect('atliq_db.sqlite3')\n",
    "\n",
    "# Assuming 'dim_product' is the table name in your SQLite database\n",
    "# You need to adjust the SQL query based on your actual table structure\n",
    "query = 'SELECT * FROM dim_product'\n",
    "\n",
    "# Read the data into a DataFrame\n",
    "data = pd.read_sql_query(query, con)\n",
    "\n",
    "# Close the database connection\n",
    "con.close()\n",
    "\n",
    "# Assuming 'VIP' is your target variable\n",
    "X = data.drop('VIP', axis=1)\n",
    "y = data['VIP']\n",
    "\n",
    "# One-hot encode categorical variables\n",
    "X_encoded = pd.get_dummies(X, drop_first=True)\n",
    "\n",
    "# Split the data into training and validation sets\n",
    "# Adjust the test_size and random_state as needed\n",
    "X_train, X_valid, y_train, y_valid = train_test_split(X_encoded, y, test_size=0.2, random_state=42)\n",
    "\n",
    "# Now you have your training and validation sets\n",
    "# X_train, y_train: Training set\n",
    "# X_valid, y_valid: Validation set\n",
    "\n",
    "# Continue with the code to find the best depth based on validation accuracy\n",
    "final_depth = 0\n",
    "final_score = 0\n",
    "\n",
    "for depth in range(1, 7):\n",
    "    dtc_model = DecisionTreeClassifier(random_state=42, max_depth=depth)\n",
    "    dtc_model.fit(X_train, y_train)\n",
    "    valid_pred = dtc_model.predict(X_valid)\n",
    "    accuracy = dtc_model.score(X_valid, y_valid)\n",
    "    \n",
    "    if accuracy > final_score:\n",
    "        final_depth = depth\n",
    "        final_score = accuracy\n",
    "\n",
    "print(\"Final depth =\", final_depth, \"with validation accuracy:\", final_score)"
   ]
  },
  {
   "cell_type": "markdown",
   "metadata": {},
   "source": [
    "Conclusion: The output indicates that a depth of 6 achieved the highest accuracy of approximately 93.75% on the validation set among the depths tested in this loop. This means, for this specific dataset and this validation split, a tree with a depth of 6 performed the best in terms of accuracy.\n"
   ]
  },
  {
   "cell_type": "code",
   "execution_count": 194,
   "metadata": {},
   "outputs": [
    {
     "name": "stdout",
     "output_type": "stream",
     "text": [
      "Estimators: 1, Validation Accuracy: 93.75%\n",
      "Estimators: 2, Validation Accuracy: 93.75%\n",
      "Estimators: 3, Validation Accuracy: 98.75%\n",
      "Estimators: 4, Validation Accuracy: 100.00%\n",
      "Estimators: 5, Validation Accuracy: 100.00%\n",
      "Estimators: 6, Validation Accuracy: 100.00%\n",
      "Estimators: 7, Validation Accuracy: 100.00%\n",
      "Estimators: 8, Validation Accuracy: 100.00%\n",
      "Estimators: 9, Validation Accuracy: 100.00%\n",
      "Estimators: 10, Validation Accuracy: 100.00%\n",
      "Estimators: 11, Validation Accuracy: 100.00%\n",
      "Estimators: 12, Validation Accuracy: 100.00%\n",
      "Estimators: 13, Validation Accuracy: 100.00%\n",
      "Estimators: 14, Validation Accuracy: 100.00%\n",
      "Estimators: 15, Validation Accuracy: 100.00%\n",
      "Estimators: 16, Validation Accuracy: 100.00%\n",
      "Estimators: 17, Validation Accuracy: 100.00%\n",
      "Estimators: 18, Validation Accuracy: 100.00%\n",
      "Estimators: 19, Validation Accuracy: 100.00%\n",
      "Estimators: 20, Validation Accuracy: 100.00%\n",
      "Estimators: 21, Validation Accuracy: 100.00%\n",
      "Estimators: 22, Validation Accuracy: 100.00%\n",
      "Estimators: 23, Validation Accuracy: 100.00%\n",
      "Estimators: 24, Validation Accuracy: 100.00%\n",
      "Estimators: 25, Validation Accuracy: 100.00%\n",
      "Estimators: 26, Validation Accuracy: 100.00%\n",
      "Estimators: 27, Validation Accuracy: 100.00%\n",
      "Estimators: 28, Validation Accuracy: 100.00%\n",
      "Estimators: 29, Validation Accuracy: 100.00%\n",
      "Estimators: 30, Validation Accuracy: 100.00%\n",
      "Estimators: 31, Validation Accuracy: 100.00%\n",
      "Estimators: 32, Validation Accuracy: 100.00%\n",
      "Estimators: 33, Validation Accuracy: 100.00%\n",
      "Estimators: 34, Validation Accuracy: 100.00%\n",
      "Estimators: 35, Validation Accuracy: 100.00%\n",
      "Estimators: 36, Validation Accuracy: 100.00%\n",
      "Estimators: 37, Validation Accuracy: 100.00%\n",
      "Estimators: 38, Validation Accuracy: 100.00%\n",
      "Estimators: 39, Validation Accuracy: 100.00%\n",
      "Estimators: 40, Validation Accuracy: 100.00%\n",
      "Estimators: 41, Validation Accuracy: 100.00%\n",
      "Estimators: 42, Validation Accuracy: 100.00%\n",
      "Estimators: 43, Validation Accuracy: 100.00%\n",
      "Estimators: 44, Validation Accuracy: 100.00%\n",
      "Estimators: 45, Validation Accuracy: 100.00%\n",
      "Estimators: 46, Validation Accuracy: 100.00%\n",
      "Estimators: 47, Validation Accuracy: 100.00%\n",
      "Estimators: 48, Validation Accuracy: 100.00%\n",
      "Estimators: 49, Validation Accuracy: 100.00%\n",
      "Estimators: 50, Validation Accuracy: 100.00%\n",
      "\n",
      "Best Estimators: 4, Best Validation Accuracy: 100.00%\n"
     ]
    }
   ],
   "source": [
    "# Connect to the SQLite database\n",
    "con = sqlite3.connect('atliq_db.sqlite3')\n",
    "\n",
    "# Assuming 'dim_product' is the table name in your SQLite database\n",
    "# You need to adjust the SQL query based on your actual table structure\n",
    "query = 'SELECT * FROM dim_product'\n",
    "\n",
    "# Read the data into a DataFrame\n",
    "data = pd.read_sql_query(query, con)\n",
    "\n",
    "# Close the database connection\n",
    "con.close()\n",
    "\n",
    "# Assuming 'VIP' is your target variable\n",
    "X = data.drop('VIP', axis=1)\n",
    "y = data['VIP']\n",
    "\n",
    "# One-hot encode categorical variables\n",
    "X_encoded = pd.get_dummies(X, drop_first=True)\n",
    "\n",
    "# Split the data into training and validation sets\n",
    "# Adjust the test_size and random_state as needed\n",
    "X_train, X_valid, y_train, y_valid = train_test_split(X_encoded, y, test_size=0.2, random_state=42)\n",
    "\n",
    "# Now you have your training and validation sets\n",
    "# X_train, y_train: Training set\n",
    "# X_valid, y_valid: Validation set\n",
    "\n",
    "final_est = 0\n",
    "final_score = 0\n",
    "\n",
    "for n in range(1, 51):\n",
    "    rfc_model = RandomForestClassifier(random_state=42, n_estimators=n)\n",
    "    rfc_model.fit(X_train, y_train)\n",
    "    \n",
    "    # Calculate the validation accuracy\n",
    "    score = rfc_model.score(X_valid, y_valid)\n",
    "    \n",
    "    if score > final_score:\n",
    "        final_score = score\n",
    "        final_est = n\n",
    "    \n",
    "    print(f\"Estimators: {n}, Validation Accuracy: {final_score * 100:.2f}%\")\n",
    "\n",
    "print(f\"\\nBest Estimators: {final_est}, Best Validation Accuracy: {final_score * 100:.2f}%\")\n",
    "\n"
   ]
  },
  {
   "cell_type": "code",
   "execution_count": 195,
   "metadata": {},
   "outputs": [
    {
     "name": "stdout",
     "output_type": "stream",
     "text": [
      "Best number of estimators: 4, Best Validation Accuracy: 100.00%\n"
     ]
    }
   ],
   "source": [
    "final_est = 0\n",
    "final_score = 0\n",
    "\n",
    "# Assuming you have already split your data into training and validation sets\n",
    "# Replace 'X_train', 'y_train', 'X_valid', and 'y_valid' with your actual variable names\n",
    "\n",
    "for n in range(1, 51):\n",
    "    rfc_model = RandomForestClassifier(random_state=42, n_estimators=n)\n",
    "    rfc_model.fit(X_train, y_train)\n",
    "    \n",
    "    # Calculate the validation accuracy\n",
    "    score_valid = rfc_model.score(X_valid, y_valid)\n",
    "    \n",
    "    if score_valid > final_score:\n",
    "        final_score = score_valid\n",
    "        final_est = n\n",
    "\n",
    "print(f\"Best number of estimators: {final_est}, Best Validation Accuracy: {final_score * 100:.2f}%\")\n"
   ]
  },
  {
   "cell_type": "markdown",
   "metadata": {},
   "source": [
    "Conclusion:\n",
    "The output indicates that with 4 estimators, the highest accuracy of 100% on the validation set among the range of estimators tested in this loop. This is likely due to limited data which is causing the validation overfitting."
   ]
  },
  {
   "cell_type": "code",
   "execution_count": 196,
   "metadata": {},
   "outputs": [
    {
     "name": "stdout",
     "output_type": "stream",
     "text": [
      "Logistic Regression training score: 1.0\n"
     ]
    }
   ],
   "source": [
    "lr_model = LogisticRegression(random_state=42, solver='liblinear')\n",
    "lr_model.fit(X_train, y_train)\n",
    "\n",
    "# Calculate the validation accuracy\n",
    "score_valid = lr_model.score(X_valid, y_valid)\n",
    "\n",
    "print(\"Logistic Regression training score:\", score_valid)"
   ]
  },
  {
   "cell_type": "code",
   "execution_count": 197,
   "metadata": {},
   "outputs": [
    {
     "name": "stdout",
     "output_type": "stream",
     "text": [
      "product_code    object\n",
      "division        object\n",
      "segment         object\n",
      "category        object\n",
      "product         object\n",
      "variant         object\n",
      "VIP             object\n",
      "dtype: object\n"
     ]
    }
   ],
   "source": [
    "print(data.dtypes)"
   ]
  },
  {
   "cell_type": "code",
   "execution_count": 198,
   "metadata": {},
   "outputs": [
    {
     "name": "stdout",
     "output_type": "stream",
     "text": [
      "Index(['product_code_A0118150102', 'product_code_A0118150103',\n",
      "       'product_code_A0118150104', 'product_code_A0219150201',\n",
      "       'product_code_A0219150202', 'product_code_A0220150203',\n",
      "       'product_code_A0320150301', 'product_code_A0321150302',\n",
      "       'product_code_A0321150303', 'product_code_A0418150101',\n",
      "       ...\n",
      "       'variant_Standard', 'variant_Standard 1', 'variant_Standard 2',\n",
      "       'variant_Standard 3', 'variant_Standard Black', 'variant_Standard Blue',\n",
      "       'variant_Standard Cool Blue', 'variant_Standard Firey Red',\n",
      "       'variant_Standard Grey', 'variant_Standard Red'],\n",
      "      dtype='object', length=514)\n",
      "Logistic Regression Validation Accuracy: 1.0\n"
     ]
    }
   ],
   "source": [
    "# Assuming 'data' is your original DataFrame\n",
    "# Drop the 'VIP' column and store it as the target variable 'y'\n",
    "y = data.pop('VIP')\n",
    "\n",
    "# One-hot encode categorical variables\n",
    "data_encoded = pd.get_dummies(data, drop_first=True)\n",
    "\n",
    "# Verify the column names in the encoded DataFrame\n",
    "print(data_encoded.columns)\n",
    "\n",
    "# Split the data into training and validation sets\n",
    "# Adjust the test_size and random_state as needed\n",
    "X_train, X_valid, y_train, y_valid = train_test_split(data_encoded, y, test_size=0.2, random_state=42)\n",
    "\n",
    "# Continue with model training and evaluation\n",
    "# ...\n",
    "\n",
    "# For example, Logistic Regression\n",
    "lr_model = LogisticRegression(random_state=42, solver='liblinear')\n",
    "lr_model.fit(X_train, y_train)\n",
    "\n",
    "# Calculate the validation accuracy\n",
    "score_valid = lr_model.score(X_valid, y_valid)\n",
    "print(\"Logistic Regression Validation Accuracy:\", score_valid)"
   ]
  },
  {
   "cell_type": "code",
   "execution_count": 199,
   "metadata": {},
   "outputs": [
    {
     "name": "stdout",
     "output_type": "stream",
     "text": [
      "Precision: 1.0\n",
      "Recall: 1.0\n",
      "\n",
      "Confusion Matrix:\n",
      " [[26  0]\n",
      " [ 0 54]]\n",
      "\n",
      "Classification Report:\n",
      "               precision    recall  f1-score   support\n",
      "\n",
      "          No       1.00      1.00      1.00        26\n",
      "         Yes       1.00      1.00      1.00        54\n",
      "\n",
      "    accuracy                           1.00        80\n",
      "   macro avg       1.00      1.00      1.00        80\n",
      "weighted avg       1.00      1.00      1.00        80\n",
      "\n"
     ]
    }
   ],
   "source": [
    "# Predictions on validation set\n",
    "y_valid_pred = lr_model.predict(X_valid)\n",
    "\n",
    "# Calculate precision and recall\n",
    "precision = precision_score(y_valid, y_valid_pred, pos_label='Yes')\n",
    "recall = recall_score(y_valid, y_valid_pred, pos_label='Yes')\n",
    "\n",
    "# Confusion Matrix\n",
    "conf_matrix = confusion_matrix(y_valid, y_valid_pred)\n",
    "\n",
    "# Classification Report\n",
    "class_report = classification_report(y_valid, y_valid_pred)\n",
    "\n",
    "# Print the results\n",
    "print(\"Precision:\", precision)\n",
    "print(\"Recall:\", recall)\n",
    "print(\"\\nConfusion Matrix:\\n\", conf_matrix)\n",
    "print(\"\\nClassification Report:\\n\", class_report)"
   ]
  },
  {
   "cell_type": "markdown",
   "metadata": {},
   "source": [
    "In this specific case, we achieved an exceptional precision and recall of 100%. This remarkable outcome may be attributed to the limited dataset we employed, along with the predominantly binary nature of our responses, as we primarily utilized object-related columns without numerical features. It's essential to recognize that this high performance might be influenced by the specific characteristics of our dataset. To enhance the model and ensure its applicability to a broader range of scenarios, future efforts could involve acquiring a larger and more diverse dataset. This expansion in data size would enable the model to infer patterns more comprehensively and strengthen its generalization capabilities."
   ]
  },
  {
   "cell_type": "code",
   "execution_count": 204,
   "metadata": {
    "scrolled": true
   },
   "outputs": [
    {
     "name": "stdout",
     "output_type": "stream",
     "text": [
      "Validation Set Percentage: 69.85%\n"
     ]
    }
   ],
   "source": [
    "# Calculate the percentage of validation set\n",
    "val_percentage = len(X_val) / len(X_remaining) * 100\n",
    "print(f'Validation Set Percentage: {val_percentage:.2f}%')"
   ]
  },
  {
   "cell_type": "markdown",
   "metadata": {},
   "source": [
    "Conclusion: The model demonstrates a validation accuracy of approximately 69.85%, indicating a reasonably accurate performance on the validation data. This suggests that the model is capable of generalizing well to data it has not seen during training. Further assessment and refinement may be needed to enhance its overall robustness."
   ]
  },
  {
   "cell_type": "code",
   "execution_count": 205,
   "metadata": {},
   "outputs": [
    {
     "name": "stdout",
     "output_type": "stream",
     "text": [
      "Testing Set Percentage: 30.15%\n"
     ]
    }
   ],
   "source": [
    "# Calculate the percentage of testing set\n",
    "test_percentage = len(X_test) / len(X_remaining) * 100\n",
    "print(f'Testing Set Percentage: {test_percentage:.2f}%')"
   ]
  },
  {
   "cell_type": "markdown",
   "metadata": {},
   "source": [
    "Conclusion: The model's performance on the test data yields an accuracy of 30.15%. This lower accuracy raises concerns about the model's consistency and generalizability to unseen data. It implies that the model may face challenges in making accurate predictions on new, diverse instances. Additional investigation and potential model adjustments may be necessary to improve its reliability across different scenarios."
   ]
  },
  {
   "cell_type": "markdown",
   "metadata": {},
   "source": [
    "<span style=\"font-family: Arial; font-size: 24px;\">Overall Conclusion</span>"
   ]
  },
  {
   "cell_type": "markdown",
   "metadata": {},
   "source": [
    "Based off the data we can see that our model is not accurate as it reached 30.15% and does not closely align with our validation set in terms of accuracy. Additionally from our test phases we do know that we require more data as our precision and recall landed at 100% which does not seem to accurately portray the data fully. A further investigation should be made to who is buying our products and how we can section them off to be a VIP or not. In general for the future one of the main focuses we can rely on is receiving more overall data and creating plans to see whether our users benefit generally more from our more standard Variants of the products or our premium versions. I believe with what we have currently provided however we can look at general sales in the market to see why some products have been selling better then others."
   ]
  }
 ],
 "metadata": {
  "kernelspec": {
   "display_name": "Python 3 (ipykernel)",
   "language": "python",
   "name": "python3"
  },
  "language_info": {
   "codemirror_mode": {
    "name": "ipython",
    "version": 3
   },
   "file_extension": ".py",
   "mimetype": "text/x-python",
   "name": "python",
   "nbconvert_exporter": "python",
   "pygments_lexer": "ipython3",
   "version": "3.9.5"
  },
  "toc": {
   "base_numbering": 1,
   "nav_menu": {},
   "number_sections": true,
   "sideBar": true,
   "skip_h1_title": true,
   "title_cell": "Table of Contents",
   "title_sidebar": "Contents",
   "toc_cell": false,
   "toc_position": {},
   "toc_section_display": true,
   "toc_window_display": false
  }
 },
 "nbformat": 4,
 "nbformat_minor": 2
}
