{
 "cells": [
  {
   "cell_type": "markdown",
   "id": "1e2e4c42",
   "metadata": {},
   "source": [
    "# <span style=\"font-family: Arial; font-size: 35px;\">Introduction</span>\n",
    "\n",
    "The aim of this exploratory data analysis (EDA) is to gain valuable insights from the dataset 'squirrel_diet.csv,' which provides details about red squirrels. This dataset includes information on the sex of the squirrels, their diet, and their weight. Specifically:\n",
    "\n",
    "- **Sex**: This column distinguishes between male and female squirrels.\n",
    "- **Diet**: Initially labeled as 1, 2, and 3, later changed to A, B, and C, this column represents the different diets used in a study involving 100 squirrels.\n",
    "- **Weight**: This column records the weight of each squirrel.\n",
    "\n",
    "The primary objective of this analysis is to uncover trends and patterns that shed light on the relationship between diet and squirrel weight. By doing so, we aim to determine the most suitable diet choice for red squirrels. We will explore correlations, distributions, and any other relevant insights that may contribute to a better understanding of these fascinating creatures.\n",
    "\n",
    "The dataset consists of 100 rows and 3 Columns, providing a comprehensive basis for our analysis."
   ]
  },
  {
   "cell_type": "code",
   "execution_count": 2,
   "id": "56d89bd4-ffbd-45bb-9a4f-de2529020a9f",
   "metadata": {
    "tags": []
   },
   "outputs": [],
   "source": [
    "# importing libraries\n",
    "import pandas as pd\n",
    "import plotly.express as px\n",
    "import seaborn as sns\n",
    "import matplotlib.pyplot as plt\n",
    "import numpy as np"
   ]
  },
  {
   "cell_type": "code",
   "execution_count": 3,
   "id": "886bdd02-8698-4897-8e4e-3000cd792111",
   "metadata": {
    "tags": []
   },
   "outputs": [
    {
     "name": "stdout",
     "output_type": "stream",
     "text": [
      "File not found. Please check the path to your dataset.\n"
     ]
    }
   ],
   "source": [
    "try:\n",
    "    dataset_path = 'C:/Users/Eliezer/squirrel_diet.csv' \n",
    "    diet = pd.read_csv(dataset_path)\n",
    "except FileNotFoundError:\n",
    "    print(\"File not found. Please check the path to your dataset.\")\n",
    "except Exception as e:\n",
    "    print(f\"An error occurred: {str(e)}\")"
   ]
  },
  {
   "cell_type": "code",
   "execution_count": 273,
   "id": "09cddb1a-97f0-4323-bec0-f9ac518b2f9f",
   "metadata": {
    "tags": []
   },
   "outputs": [
    {
     "name": "stdout",
     "output_type": "stream",
     "text": [
      "    sex  diet  weight\n",
      "0     0     3   1.042\n",
      "1     1     3   1.196\n",
      "2     1     2   1.401\n",
      "3     1     1   1.015\n",
      "4     0     2   1.141\n",
      "..  ...   ...     ...\n",
      "95    0     1   0.995\n",
      "96    1     2   1.979\n",
      "97    0     3   1.099\n",
      "98    0     2   1.327\n",
      "99    1     1   0.990\n",
      "\n",
      "[100 rows x 3 columns]\n"
     ]
    }
   ],
   "source": [
    "# Print your DataFrame\n",
    "print(diet)"
   ]
  },
  {
   "cell_type": "code",
   "execution_count": 274,
   "id": "d969b2dc-9f6e-452e-a685-2ae39431083e",
   "metadata": {
    "tags": []
   },
   "outputs": [
    {
     "name": "stdout",
     "output_type": "stream",
     "text": [
      "1.979\n"
     ]
    }
   ],
   "source": [
    "max_weight = diet['weight'].max()\n",
    "print(max_weight)"
   ]
  },
  {
   "cell_type": "code",
   "execution_count": 275,
   "id": "faf923f6-c738-481b-936d-b49eb86b73b4",
   "metadata": {
    "tags": []
   },
   "outputs": [
    {
     "name": "stdout",
     "output_type": "stream",
     "text": [
      "<class 'pandas.core.frame.DataFrame'>\n",
      "RangeIndex: 100 entries, 0 to 99\n",
      "Data columns (total 3 columns):\n",
      " #   Column  Non-Null Count  Dtype  \n",
      "---  ------  --------------  -----  \n",
      " 0   sex     100 non-null    int64  \n",
      " 1   diet    100 non-null    int64  \n",
      " 2   weight  100 non-null    float64\n",
      "dtypes: float64(1), int64(2)\n",
      "memory usage: 2.5 KB\n"
     ]
    }
   ],
   "source": [
    "diet.info()"
   ]
  },
  {
   "cell_type": "code",
   "execution_count": 276,
   "id": "60221645-286a-4606-8337-f45be08a25c0",
   "metadata": {
    "tags": []
   },
   "outputs": [
    {
     "data": {
      "text/plain": [
       "<bound method NDFrame.describe of     sex  diet  weight\n",
       "0     0     3   1.042\n",
       "1     1     3   1.196\n",
       "2     1     2   1.401\n",
       "3     1     1   1.015\n",
       "4     0     2   1.141\n",
       "..  ...   ...     ...\n",
       "95    0     1   0.995\n",
       "96    1     2   1.979\n",
       "97    0     3   1.099\n",
       "98    0     2   1.327\n",
       "99    1     1   0.990\n",
       "\n",
       "[100 rows x 3 columns]>"
      ]
     },
     "execution_count": 276,
     "metadata": {},
     "output_type": "execute_result"
    }
   ],
   "source": [
    "diet.describe"
   ]
  },
  {
   "cell_type": "code",
   "execution_count": 277,
   "id": "cee89ee1-5804-4408-b5fa-932e52f5674e",
   "metadata": {
    "tags": []
   },
   "outputs": [
    {
     "data": {
      "text/plain": [
       "Index(['sex', 'diet', 'weight'], dtype='object')"
      ]
     },
     "execution_count": 277,
     "metadata": {},
     "output_type": "execute_result"
    }
   ],
   "source": [
    "diet.columns"
   ]
  },
  {
   "cell_type": "code",
   "execution_count": 278,
   "id": "60b51a3f-f804-4bc2-ba9b-cc2905151d60",
   "metadata": {
    "tags": []
   },
   "outputs": [
    {
     "data": {
      "text/plain": [
       "sex       0\n",
       "diet      0\n",
       "weight    0\n",
       "dtype: int64"
      ]
     },
     "execution_count": 278,
     "metadata": {},
     "output_type": "execute_result"
    }
   ],
   "source": [
    "diet.isnull().sum()"
   ]
  },
  {
   "cell_type": "code",
   "execution_count": 279,
   "id": "798f5a33-c47f-4869-999d-025596805d74",
   "metadata": {
    "tags": []
   },
   "outputs": [
    {
     "data": {
      "text/html": [
       "<div>\n",
       "<style scoped>\n",
       "    .dataframe tbody tr th:only-of-type {\n",
       "        vertical-align: middle;\n",
       "    }\n",
       "\n",
       "    .dataframe tbody tr th {\n",
       "        vertical-align: top;\n",
       "    }\n",
       "\n",
       "    .dataframe thead th {\n",
       "        text-align: right;\n",
       "    }\n",
       "</style>\n",
       "<table border=\"1\" class=\"dataframe\">\n",
       "  <thead>\n",
       "    <tr style=\"text-align: right;\">\n",
       "      <th></th>\n",
       "      <th>sex</th>\n",
       "      <th>diet</th>\n",
       "      <th>weight</th>\n",
       "    </tr>\n",
       "  </thead>\n",
       "  <tbody>\n",
       "    <tr>\n",
       "      <th>0</th>\n",
       "      <td>0</td>\n",
       "      <td>3</td>\n",
       "      <td>1.042</td>\n",
       "    </tr>\n",
       "    <tr>\n",
       "      <th>1</th>\n",
       "      <td>1</td>\n",
       "      <td>3</td>\n",
       "      <td>1.196</td>\n",
       "    </tr>\n",
       "    <tr>\n",
       "      <th>2</th>\n",
       "      <td>1</td>\n",
       "      <td>2</td>\n",
       "      <td>1.401</td>\n",
       "    </tr>\n",
       "    <tr>\n",
       "      <th>3</th>\n",
       "      <td>1</td>\n",
       "      <td>1</td>\n",
       "      <td>1.015</td>\n",
       "    </tr>\n",
       "    <tr>\n",
       "      <th>4</th>\n",
       "      <td>0</td>\n",
       "      <td>2</td>\n",
       "      <td>1.141</td>\n",
       "    </tr>\n",
       "    <tr>\n",
       "      <th>...</th>\n",
       "      <td>...</td>\n",
       "      <td>...</td>\n",
       "      <td>...</td>\n",
       "    </tr>\n",
       "    <tr>\n",
       "      <th>95</th>\n",
       "      <td>0</td>\n",
       "      <td>1</td>\n",
       "      <td>0.995</td>\n",
       "    </tr>\n",
       "    <tr>\n",
       "      <th>96</th>\n",
       "      <td>1</td>\n",
       "      <td>2</td>\n",
       "      <td>1.979</td>\n",
       "    </tr>\n",
       "    <tr>\n",
       "      <th>97</th>\n",
       "      <td>0</td>\n",
       "      <td>3</td>\n",
       "      <td>1.099</td>\n",
       "    </tr>\n",
       "    <tr>\n",
       "      <th>98</th>\n",
       "      <td>0</td>\n",
       "      <td>2</td>\n",
       "      <td>1.327</td>\n",
       "    </tr>\n",
       "    <tr>\n",
       "      <th>99</th>\n",
       "      <td>1</td>\n",
       "      <td>1</td>\n",
       "      <td>0.990</td>\n",
       "    </tr>\n",
       "  </tbody>\n",
       "</table>\n",
       "<p>100 rows × 3 columns</p>\n",
       "</div>"
      ],
      "text/plain": [
       "    sex  diet  weight\n",
       "0     0     3   1.042\n",
       "1     1     3   1.196\n",
       "2     1     2   1.401\n",
       "3     1     1   1.015\n",
       "4     0     2   1.141\n",
       "..  ...   ...     ...\n",
       "95    0     1   0.995\n",
       "96    1     2   1.979\n",
       "97    0     3   1.099\n",
       "98    0     2   1.327\n",
       "99    1     1   0.990\n",
       "\n",
       "[100 rows x 3 columns]"
      ]
     },
     "metadata": {},
     "output_type": "display_data"
    }
   ],
   "source": [
    "display(diet)"
   ]
  },
  {
   "cell_type": "code",
   "execution_count": 280,
   "id": "d9cda1a6-6634-476d-b908-a7713cbe6cf5",
   "metadata": {
    "tags": []
   },
   "outputs": [
    {
     "data": {
      "text/html": [
       "<div>\n",
       "<style scoped>\n",
       "    .dataframe tbody tr th:only-of-type {\n",
       "        vertical-align: middle;\n",
       "    }\n",
       "\n",
       "    .dataframe tbody tr th {\n",
       "        vertical-align: top;\n",
       "    }\n",
       "\n",
       "    .dataframe thead th {\n",
       "        text-align: right;\n",
       "    }\n",
       "</style>\n",
       "<table border=\"1\" class=\"dataframe\">\n",
       "  <thead>\n",
       "    <tr style=\"text-align: right;\">\n",
       "      <th></th>\n",
       "      <th>sex</th>\n",
       "      <th>diet</th>\n",
       "      <th>weight</th>\n",
       "    </tr>\n",
       "  </thead>\n",
       "  <tbody>\n",
       "  </tbody>\n",
       "</table>\n",
       "</div>"
      ],
      "text/plain": [
       "Empty DataFrame\n",
       "Columns: [sex, diet, weight]\n",
       "Index: []"
      ]
     },
     "execution_count": 280,
     "metadata": {},
     "output_type": "execute_result"
    }
   ],
   "source": [
    "# Check for duplicated orders\n",
    "\n",
    "diet[diet.duplicated()]"
   ]
  },
  {
   "cell_type": "code",
   "execution_count": 281,
   "id": "5ce15525-f99f-46bb-9042-763d717b289d",
   "metadata": {
    "tags": []
   },
   "outputs": [
    {
     "name": "stdout",
     "output_type": "stream",
     "text": [
      "No NaN values found in the DataFrame.\n"
     ]
    }
   ],
   "source": [
    "# Check for NaN values in the entire DataFrame\n",
    "nan_check = diet.isna().any().any()\n",
    "\n",
    "if not nan_check:\n",
    "    print(\"No NaN values found in the DataFrame.\")\n",
    "else:\n",
    "    print(\"There are still NaN values in the DataFrame.\")"
   ]
  },
  {
   "cell_type": "code",
   "execution_count": 282,
   "id": "35ec783f-e7aa-4edc-abd8-071d8c17cce1",
   "metadata": {
    "tags": []
   },
   "outputs": [],
   "source": [
    "# Coverting sex from 0/1 to Female/Male\n",
    "diet['sex'] = diet['sex'].replace({0: 'Female', 1: 'Male'})"
   ]
  },
  {
   "cell_type": "code",
   "execution_count": 284,
   "id": "349d7c50-f6a2-40ae-b678-8b7b061c0511",
   "metadata": {
    "tags": []
   },
   "outputs": [],
   "source": [
    "diet['diet'] = diet['diet'].replace({1: 'A', 2: 'B', 3: 'C'})"
   ]
  },
  {
   "cell_type": "code",
   "execution_count": 285,
   "id": "ebc86316-2fb7-45c5-bfcb-8dc78527915b",
   "metadata": {
    "scrolled": false,
    "tags": []
   },
   "outputs": [
    {
     "data": {
      "image/png": "[encoded data removed]",
      "text/plain": [
       "<Figure size 640x480 with 1 Axes>"
      ]
     },
     "metadata": {},
     "output_type": "display_data"
    }
   ],
   "source": [
    "# Reverse the order of the \"diet\" categories\n",
    "diet_order = ['A', 'B', 'C']\n",
    "\n",
    "# Create the stripplot with reversed order\n",
    "sns.stripplot(x=\"diet\", y=\"weight\", data=diet, hue='sex', palette={\"Male\": \"green\", \"Female\": \"magenta\"}, order=diet_order)\n",
    "# Customize x-axis ticks and labels\n",
    "custom_labels = ['A', 'B', 'C']\n",
    "plt.xticks(range(len(diet_order)), custom_labels)\n",
    "\n",
    "plt.xlabel(\"Diet Label\")\n",
    "plt.ylabel(\"Adult Weight / lbs\")\n",
    "plt.title('Red Squirrel Diet Study')\n",
    "plt.show()"
   ]
  },
  {
   "cell_type": "markdown",
   "id": "cf29be8e",
   "metadata": {},
   "source": [
    "<span style=\"font-family: Arial; font-size: 35px;\">Conclusion</span>\n",
    "\n",
    "In conclusion with this data I have found that currently diet B will lead to the heaviest Squirrels, while diet B appears to give the squirrels much smaller weight gain. Overall depending on our goals with the Squirrel we can now determine which diet will best fill our needs. The Data otherwise should reflect the original per the assignment."
   ]
  }
 ],
 "metadata": {
  "kernelspec": {
   "display_name": "Python 3 (ipykernel)",
   "language": "python",
   "name": "python3"
  },
  "language_info": {
   "codemirror_mode": {
    "name": "ipython",
    "version": 3
   },
   "file_extension": ".py",
   "mimetype": "text/x-python",
   "name": "python",
   "nbconvert_exporter": "python",
   "pygments_lexer": "ipython3",
   "version": "3.9.5"
  },
  "toc": {
   "base_numbering": 1,
   "nav_menu": {},
   "number_sections": true,
   "sideBar": true,
   "skip_h1_title": true,
   "title_cell": "Table of Contents",
   "title_sidebar": "Contents",
   "toc_cell": false,
   "toc_position": {},
   "toc_section_display": true,
   "toc_window_display": false
  }
 },
 "nbformat": 4,
 "nbformat_minor": 5
}
